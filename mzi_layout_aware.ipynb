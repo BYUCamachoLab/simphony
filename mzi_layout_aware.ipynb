{
 "cells": [
  {
   "cell_type": "code",
   "execution_count": 2,
   "metadata": {},
   "outputs": [],
   "source": [
    "# Import necessary libraries\n",
    "from simphony.libraries import siepic\n",
    "from simphony.die import Die\n",
    "from simphony.simulation import Simulation, Laser, Detector\n",
    "import matplotlib.pyplot as plt\n",
    "from phidl import quickplot, set_quickplot_options"
   ]
  },
  {
   "cell_type": "code",
   "execution_count": 3,
   "metadata": {},
   "outputs": [
    {
     "data": {
      "image/png": "[encoded data removed]",
      "text/plain": [
       "<Figure size 432x288 with 1 Axes>"
      ]
     },
     "metadata": {
      "needs_background": "light"
     },
     "output_type": "display_data"
    }
   ],
   "source": [
    "# Instantiate components\n",
    "gc_input = siepic.GratingCoupler(name=\"gcinput\")\n",
    "y_splitter = siepic.YBranch(name=\"ysplit\")\n",
    "wg_long = siepic.Waveguide(length=150e-6, name=\"wglong\")\n",
    "wg_short = siepic.Waveguide(length=50e-6, name=\"wgshort\")\n",
    "y_recombiner = siepic.YBranch(name=\"yrecombiner\")\n",
    "gc_output = siepic.GratingCoupler(name=\"gcoutput\")\n",
    "\n",
    "# Instantiate Die object\n",
    "die = Die(name=\"die1\")\n",
    "\n",
    "# Throw in the components into the Die\n",
    "die.add_components([gc_input, y_splitter, wg_long, gc_output, y_recombiner, wg_short])\n",
    "\n",
    "# Distribute the devices in the die in a grid\n",
    "die.distribute_devices(direction='grid', shape=(3,2), spacing=(5,10))\n",
    "\n",
    "# Visualize the grid arrangement\n",
    "die.visualize(label_aliases=True)"
   ]
  },
  {
   "cell_type": "code",
   "execution_count": 4,
   "metadata": {},
   "outputs": [
    {
     "ename": "KeyError",
     "evalue": "'pin3'",
     "output_type": "error",
     "traceback": [
      "\u001b[1;31m---------------------------------------------------------------------------\u001b[0m",
      "\u001b[1;31mKeyError\u001b[0m                                  Traceback (most recent call last)",
      "\u001b[1;32m~\\AppData\\Local\\Temp\\ipykernel_44076\\3390385830.py\u001b[0m in \u001b[0;36m<module>\u001b[1;34m\u001b[0m\n\u001b[0;32m     11\u001b[0m \u001b[1;33m\u001b[0m\u001b[0m\n\u001b[0;32m     12\u001b[0m \u001b[0my_splitter\u001b[0m\u001b[1;33m[\u001b[0m\u001b[1;34m\"pin2\"\u001b[0m\u001b[1;33m]\u001b[0m\u001b[1;33m.\u001b[0m\u001b[0mconnect\u001b[0m\u001b[1;33m(\u001b[0m\u001b[0mwg_long\u001b[0m\u001b[1;33m)\u001b[0m\u001b[1;33m\u001b[0m\u001b[1;33m\u001b[0m\u001b[0m\n\u001b[1;32m---> 13\u001b[1;33m \u001b[0my_recombiner\u001b[0m\u001b[1;33m[\u001b[0m\u001b[1;34m\"pin3\"\u001b[0m\u001b[1;33m]\u001b[0m\u001b[1;33m.\u001b[0m\u001b[0mconnect\u001b[0m\u001b[1;33m(\u001b[0m\u001b[0mwg_long\u001b[0m\u001b[1;33m)\u001b[0m\u001b[1;33m\u001b[0m\u001b[1;33m\u001b[0m\u001b[0m\n\u001b[0m\u001b[0;32m     14\u001b[0m \u001b[1;33m\u001b[0m\u001b[0m\n\u001b[0;32m     15\u001b[0m \u001b[0my_splitter\u001b[0m\u001b[1;33m[\u001b[0m\u001b[1;34m\"pin3\"\u001b[0m\u001b[1;33m]\u001b[0m\u001b[1;33m.\u001b[0m\u001b[0mconnect\u001b[0m\u001b[1;33m(\u001b[0m\u001b[0mwg_short\u001b[0m\u001b[1;33m)\u001b[0m\u001b[1;33m\u001b[0m\u001b[1;33m\u001b[0m\u001b[0m\n",
      "\u001b[1;32mc:\\Users\\12269\\Documents\\GitHub\\simphony\\simphony\\pins.py\u001b[0m in \u001b[0;36mconnect\u001b[1;34m(self, pin_or_component)\u001b[0m\n\u001b[0;32m     84\u001b[0m \u001b[1;33m\u001b[0m\u001b[0m\n\u001b[0;32m     85\u001b[0m         \u001b[1;32mif\u001b[0m \u001b[0mself\u001b[0m\u001b[1;33m.\u001b[0m\u001b[0m_component\u001b[0m\u001b[1;33m.\u001b[0m\u001b[0mdie\u001b[0m \u001b[1;32mis\u001b[0m \u001b[1;32mnot\u001b[0m \u001b[1;32mNone\u001b[0m\u001b[1;33m:\u001b[0m\u001b[1;33m\u001b[0m\u001b[1;33m\u001b[0m\u001b[0m\n\u001b[1;32m---> 86\u001b[1;33m             \u001b[0mself\u001b[0m\u001b[1;33m.\u001b[0m\u001b[0m_component\u001b[0m\u001b[1;33m.\u001b[0m\u001b[0mdie\u001b[0m\u001b[1;33m.\u001b[0m\u001b[0m_connect\u001b[0m\u001b[1;33m(\u001b[0m\u001b[0mself\u001b[0m\u001b[1;33m.\u001b[0m\u001b[0m_component\u001b[0m\u001b[1;33m,\u001b[0m \u001b[0mpin\u001b[0m\u001b[1;33m.\u001b[0m\u001b[0m_component\u001b[0m\u001b[1;33m,\u001b[0m \u001b[0mself\u001b[0m\u001b[1;33m,\u001b[0m \u001b[0mpin\u001b[0m\u001b[1;33m)\u001b[0m\u001b[1;33m\u001b[0m\u001b[1;33m\u001b[0m\u001b[0m\n\u001b[0m\u001b[0;32m     87\u001b[0m \u001b[1;33m\u001b[0m\u001b[0m\n\u001b[0;32m     88\u001b[0m     \u001b[1;32mdef\u001b[0m \u001b[0mdisconnect\u001b[0m\u001b[1;33m(\u001b[0m\u001b[0mself\u001b[0m\u001b[1;33m)\u001b[0m \u001b[1;33m->\u001b[0m \u001b[1;32mNone\u001b[0m\u001b[1;33m:\u001b[0m\u001b[1;33m\u001b[0m\u001b[1;33m\u001b[0m\u001b[0m\n",
      "\u001b[1;32mc:\\Users\\12269\\Documents\\GitHub\\simphony\\simphony\\die.py\u001b[0m in \u001b[0;36m_connect\u001b[1;34m(self, component1, component2, pin1, pin2)\u001b[0m\n\u001b[0;32m     99\u001b[0m \u001b[1;33m\u001b[0m\u001b[0m\n\u001b[0;32m    100\u001b[0m             \u001b[1;31m# Route the waveguides together\u001b[0m\u001b[1;33m\u001b[0m\u001b[1;33m\u001b[0m\u001b[1;33m\u001b[0m\u001b[0m\n\u001b[1;32m--> 101\u001b[1;33m             \u001b[0mself\u001b[0m\u001b[1;33m.\u001b[0m\u001b[0m_route_waveguides\u001b[0m\u001b[1;33m(\u001b[0m\u001b[0mcomponent1\u001b[0m\u001b[1;33m,\u001b[0m \u001b[0mcomponent2\u001b[0m\u001b[1;33m,\u001b[0m \u001b[0mpin1\u001b[0m\u001b[1;33m,\u001b[0m \u001b[0mpin_\u001b[0m\u001b[1;33m)\u001b[0m\u001b[1;33m\u001b[0m\u001b[1;33m\u001b[0m\u001b[0m\n\u001b[0m\u001b[0;32m    102\u001b[0m \u001b[1;33m\u001b[0m\u001b[0m\n\u001b[0;32m    103\u001b[0m             \u001b[1;32mfor\u001b[0m \u001b[0mi\u001b[0m\u001b[1;33m,\u001b[0m \u001b[0mref\u001b[0m \u001b[1;32min\u001b[0m \u001b[0menumerate\u001b[0m\u001b[1;33m(\u001b[0m\u001b[0mself\u001b[0m\u001b[1;33m.\u001b[0m\u001b[0mdevice_grid\u001b[0m\u001b[1;33m.\u001b[0m\u001b[0mreferences\u001b[0m\u001b[1;33m)\u001b[0m\u001b[1;33m:\u001b[0m\u001b[1;33m\u001b[0m\u001b[1;33m\u001b[0m\u001b[0m\n",
      "\u001b[1;32mc:\\Users\\12269\\Documents\\GitHub\\simphony\\simphony\\die.py\u001b[0m in \u001b[0;36m_route_waveguides\u001b[1;34m(self, component1, component2, pin1, pin_)\u001b[0m\n\u001b[0;32m    176\u001b[0m         port1 = self.device_grid.references[\n\u001b[0;32m    177\u001b[0m             \u001b[0mself\u001b[0m\u001b[1;33m.\u001b[0m\u001b[0mdevice_list\u001b[0m\u001b[1;33m.\u001b[0m\u001b[0mindex\u001b[0m\u001b[1;33m(\u001b[0m\u001b[0mcomponent1\u001b[0m\u001b[1;33m.\u001b[0m\u001b[0mdevice\u001b[0m\u001b[1;33m)\u001b[0m\u001b[1;33m\u001b[0m\u001b[1;33m\u001b[0m\u001b[0m\n\u001b[1;32m--> 178\u001b[1;33m         ].ports[pin1.name]\n\u001b[0m\u001b[0;32m    179\u001b[0m \u001b[1;33m\u001b[0m\u001b[0m\n\u001b[0;32m    180\u001b[0m         \u001b[1;31m# Port 2 of the connection\u001b[0m\u001b[1;33m\u001b[0m\u001b[1;33m\u001b[0m\u001b[1;33m\u001b[0m\u001b[0m\n",
      "\u001b[1;31mKeyError\u001b[0m: 'pin3'"
     ]
    }
   ],
   "source": [
    "# We connect the components like we would usually. Simphony will take care of the routing and\n",
    "# device connections for us.\n",
    "\n",
    "# Do not show ports when plotting the layout\n",
    "set_quickplot_options(False, False, label_aliases=True)\n",
    "\n",
    "# next we connect the components to each other\n",
    "y_splitter[\"pin1\"].connect(gc_input[\"pin1\"])\n",
    "\n",
    "y_recombiner[\"pin1\"].connect(gc_output[\"pin1\"])\n",
    "\n",
    "y_splitter[\"pin2\"].connect(wg_long)\n",
    "y_recombiner[\"pin3\"].connect(wg_long)\n",
    "\n",
    "y_splitter[\"pin3\"].connect(wg_short)\n",
    "y_recombiner[\"pin2\"].connect(wg_short)"
   ]
  },
  {
   "cell_type": "code",
   "execution_count": 1,
   "metadata": {},
   "outputs": [
    {
     "ename": "NameError",
     "evalue": "name 'set_quickplot_options' is not defined",
     "output_type": "error",
     "traceback": [
      "\u001b[1;31m---------------------------------------------------------------------------\u001b[0m",
      "\u001b[1;31mNameError\u001b[0m                                 Traceback (most recent call last)",
      "\u001b[1;32m~\\AppData\\Local\\Temp\\ipykernel_44076\\1916461367.py\u001b[0m in \u001b[0;36m<module>\u001b[1;34m\u001b[0m\n\u001b[0;32m      1\u001b[0m \u001b[1;31m# Visualize after connecting\u001b[0m\u001b[1;33m\u001b[0m\u001b[1;33m\u001b[0m\u001b[1;33m\u001b[0m\u001b[0m\n\u001b[1;32m----> 2\u001b[1;33m \u001b[0mset_quickplot_options\u001b[0m\u001b[1;33m(\u001b[0m\u001b[0mshow_ports\u001b[0m\u001b[1;33m=\u001b[0m\u001b[1;32mFalse\u001b[0m\u001b[1;33m,\u001b[0m \u001b[0mshow_subports\u001b[0m\u001b[1;33m=\u001b[0m\u001b[1;32mFalse\u001b[0m\u001b[1;33m,\u001b[0m \u001b[0mlabel_aliases\u001b[0m\u001b[1;33m=\u001b[0m\u001b[1;32mTrue\u001b[0m\u001b[1;33m)\u001b[0m\u001b[1;33m\u001b[0m\u001b[1;33m\u001b[0m\u001b[0m\n\u001b[0m\u001b[0;32m      3\u001b[0m \u001b[0mdie\u001b[0m\u001b[1;33m.\u001b[0m\u001b[0mvisualize\u001b[0m\u001b[1;33m(\u001b[0m\u001b[0mshow_ports\u001b[0m\u001b[1;33m=\u001b[0m\u001b[1;32mFalse\u001b[0m\u001b[1;33m)\u001b[0m \u001b[1;31m# Visualize after connecting\u001b[0m\u001b[1;33m\u001b[0m\u001b[1;33m\u001b[0m\u001b[0m\n",
      "\u001b[1;31mNameError\u001b[0m: name 'set_quickplot_options' is not defined"
     ]
    }
   ],
   "source": [
    "# Visualize after connecting\n",
    "set_quickplot_options(show_ports=False, show_subports=False, label_aliases=True)\n",
    "die.visualize(show_ports=False) # Visualize after connecting"
   ]
  },
  {
   "cell_type": "code",
   "execution_count": null,
   "metadata": {},
   "outputs": [],
   "source": [
    "# Run the layout aware monte carlo computation\n",
    "with Simulation() as sim:\n",
    "    l = Laser(power=1)\n",
    "    l.freqsweep(187370000000000.0, 199862000000000.0)\n",
    "    l.connect(gc_input['pin2'])\n",
    "    d = Detector()\n",
    "    d.connect(gc_output['pin2'])\n",
    "\n",
    "    results = sim.layout_aware_simulation()"
   ]
  },
  {
   "cell_type": "code",
   "execution_count": null,
   "metadata": {},
   "outputs": [],
   "source": [
    "# Plot the results\n",
    "f = l.freqs\n",
    "for run in results:\n",
    "    p = []\n",
    "    for sample in run:\n",
    "        for data_list in sample:\n",
    "            for data in data_list:\n",
    "                p.append(data)\n",
    "    plt.plot(f, p)\n",
    "\n",
    "run = results[0]\n",
    "p = []\n",
    "for sample in run:\n",
    "    for data_list in sample:\n",
    "        for data in data_list:\n",
    "            p.append(data)\n",
    "plt.plot(f, p, 'k')\n",
    "plt.title('MZI Layout Aware Monte Carlo')\n",
    "plt.show()"
   ]
  },
  {
   "cell_type": "code",
   "execution_count": null,
   "metadata": {},
   "outputs": [],
   "source": [
    "# Plot cumulative distribution function\n",
    "import numpy as np\n",
    "\n",
    "# Get maximum P\n",
    "max = []\n",
    "for run in results:\n",
    "    p = []\n",
    "    for sample in run:\n",
    "        for data_list in sample:\n",
    "            for data in data_list:\n",
    "                p.append(data)\n",
    "    max.append(np.max(p))\n",
    "#sort data\n",
    "x = np.sort(max)\n",
    "\n",
    "#calculate CDF values\n",
    "y = 1. * np.arange(len(max)) / (len(max) - 1)\n",
    "\n",
    "#plot CDF\n",
    "plt.plot(x, y)\n",
    "plt.xlabel('x')"
   ]
  },
  {
   "cell_type": "code",
   "execution_count": null,
   "metadata": {},
   "outputs": [],
   "source": [
    "from simphony.die import Die\n",
    "die2 = Die()\n",
    "die2.add_components([gc_input, y_splitter, wg_long, gc_output, y_recombiner, wg_short])\n",
    "import seaborn as sns\n",
    "sns.set_context('notebook')\n",
    "sns.set_theme()"
   ]
  },
  {
   "cell_type": "code",
   "execution_count": null,
   "metadata": {},
   "outputs": [],
   "source": [
    "die2.distribute_devices(direction='y')\n",
    "set_quickplot_options(label_aliases=True, font_size=5)\n",
    "die2.visualize(font_size=5)"
   ]
  },
  {
   "cell_type": "code",
   "execution_count": null,
   "metadata": {},
   "outputs": [],
   "source": [
    "# We connect the components like we would usually. Simphony will take care of the routing and\n",
    "# device connections for us.\n",
    "\n",
    "# Do not show ports when plotting the layout\n",
    "set_quickplot_options(False, False, label_aliases=True)\n",
    "\n",
    "# next we connect the components to each other\n",
    "y_splitter[\"pin1\"].connect(gc_input[\"pin1\"])\n",
    "\n",
    "y_recombiner[\"pin1\"].connect(gc_output[\"pin1\"])\n",
    "\n",
    "y_splitter[\"pin2\"].connect(wg_long)\n",
    "y_recombiner[\"pin3\"].connect(wg_long)\n",
    "\n",
    "y_splitter[\"pin3\"].connect(wg_short)\n",
    "y_recombiner[\"pin2\"].connect(wg_short)"
   ]
  },
  {
   "cell_type": "code",
   "execution_count": null,
   "metadata": {},
   "outputs": [],
   "source": [
    "die2.visualize()"
   ]
  },
  {
   "cell_type": "code",
   "execution_count": null,
   "metadata": {},
   "outputs": [],
   "source": [
    "from simphony import Model\n",
    "Model.pin_count = 1"
   ]
  },
  {
   "cell_type": "code",
   "execution_count": null,
   "metadata": {},
   "outputs": [],
   "source": [
    "mappings = {\n",
    "    \"simphony.libraries.siepic\": {\n",
    "        \"ebeam_bdc_te1550\": {\"name\": \"BidirectionalCoupler\", \"parameters\": {\n",
    "            \"lay_x\": \"device.x\",\n",
    "            \"lay_y\": \"device.y\",\n",
    "        }}\n",
    "    }\n",
    "}"
   ]
  },
  {
   "cell_type": "code",
   "execution_count": null,
   "metadata": {},
   "outputs": [],
   "source": [
    "from simphony.libraries import siepic\n",
    "pdk = siepic\n",
    "mapping = mappings[\"simphony.libraries.siepic\"][\"ebeam_bdc_te1550\"]\n",
    "mapping"
   ]
  },
  {
   "cell_type": "code",
   "execution_count": null,
   "metadata": {},
   "outputs": [],
   "source": [
    "component = {\n",
    "    \"params\": {\n",
    "        \"lay_x\": 0,\n",
    "        \"lay_y\": 0,\n",
    "    }\n",
    "}\n",
    "\n",
    "parameters = {mapping[\"parameters\"][k]: v for k, v in component[\"params\"].items() if k in mapping[\"parameters\"]}"
   ]
  },
  {
   "cell_type": "code",
   "execution_count": null,
   "metadata": {},
   "outputs": [],
   "source": [
    "bdc = getattr(pdk, mapping[\"name\"])(**parameters)"
   ]
  },
  {
   "cell_type": "code",
   "execution_count": null,
   "metadata": {},
   "outputs": [],
   "source": [
    "quickplot(bdc.device)"
   ]
  },
  {
   "cell_type": "code",
   "execution_count": null,
   "metadata": {},
   "outputs": [],
   "source": [
    "from simphony.formatters import CircuitSiEPICFormatter\n",
    "from simphony.layout import Circuit\n",
    "circuit = Circuit.from_file(\"C:\\\\Users\\\\12269\\\\Downloads\\\\top_main.spi\", \\\n",
    "    formatter=CircuitSiEPICFormatter())"
   ]
  },
  {
   "cell_type": "code",
   "execution_count": null,
   "metadata": {},
   "outputs": [],
   "source": [
    "from simphony.die import Die\n",
    "die = Die()\n",
    "die.add_components(circuit._get_components())"
   ]
  },
  {
   "cell_type": "code",
   "execution_count": null,
   "metadata": {},
   "outputs": [],
   "source": [
    "for i, c in enumerate(circuit._get_components()):\n",
    "    for k, pin in enumerate(c.pins):\n",
    "        print(i, k, pin._connection)"
   ]
  },
  {
   "cell_type": "code",
   "execution_count": null,
   "metadata": {},
   "outputs": [],
   "source": [
    "circuit._get_components()[10].pins[1].disconnect()"
   ]
  },
  {
   "cell_type": "code",
   "execution_count": null,
   "metadata": {},
   "outputs": [],
   "source": [
    "die.visualize()"
   ]
  },
  {
   "cell_type": "code",
   "execution_count": null,
   "metadata": {},
   "outputs": [],
   "source": [
    "# Run the layout aware monte carlo computation\n",
    "with Simulation() as sim:\n",
    "    l = Laser(power=1)\n",
    "    l.freqsweep(187370000000000.0, 199862000000000.0)\n",
    "    l.connect(circuit._get_components()[1])\n",
    "    d = Detector()\n",
    "    d.connect(circuit._get_components()[5])\n",
    "\n",
    "    results = sim.layout_aware_simulation()"
   ]
  },
  {
   "cell_type": "code",
   "execution_count": null,
   "metadata": {},
   "outputs": [],
   "source": [
    "f = l.freqs\n",
    "for run in results:\n",
    "    p = []\n",
    "    for sample in run:\n",
    "        for data_list in sample:\n",
    "            for data in data_list:\n",
    "                p.append(data)\n",
    "    plt.plot(f, p)\n",
    "\n",
    "run = results[0]\n",
    "p = []\n",
    "for sample in run:\n",
    "    for data_list in sample:\n",
    "        for data in data_list:\n",
    "            p.append(data)\n",
    "plt.plot(f, p, 'k')\n",
    "plt.title('MZI Layout Aware Monte Carlo')\n",
    "plt.show()"
   ]
  },
  {
   "cell_type": "code",
   "execution_count": null,
   "metadata": {},
   "outputs": [],
   "source": [
    "# Disconnect test\n",
    "y_splitter.disconnect()"
   ]
  },
  {
   "cell_type": "code",
   "execution_count": null,
   "metadata": {},
   "outputs": [],
   "source": [
    "die.visualize()"
   ]
  },
  {
   "cell_type": "code",
   "execution_count": null,
   "metadata": {},
   "outputs": [],
   "source": [
    "for component in y_recombiner.circuit._get_components():\n",
    "    component.disconnect()\n",
    "die.visualize()"
   ]
  },
  {
   "cell_type": "code",
   "execution_count": null,
   "metadata": {},
   "outputs": [],
   "source": []
  }
 ],
 "metadata": {
  "kernelspec": {
   "display_name": "Python 3.7.12 ('test3.7')",
   "language": "python",
   "name": "python3"
  },
  "language_info": {
   "codemirror_mode": {
    "name": "ipython",
    "version": 3
   },
   "file_extension": ".py",
   "mimetype": "text/x-python",
   "name": "python",
   "nbconvert_exporter": "python",
   "pygments_lexer": "ipython3",
   "version": "3.7.12"
  },
  "orig_nbformat": 4,
  "vscode": {
   "interpreter": {
    "hash": "239a5f8e094a3a9aa5406edf1e4f49e0ea0d9d2b6cb9bfd3e567c05ab8d1f217"
   }
  }
 },
 "nbformat": 4,
 "nbformat_minor": 2
}
