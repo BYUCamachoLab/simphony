{
 "cells": [
  {
   "cell_type": "code",
   "execution_count": null,
   "metadata": {},
   "outputs": [],
   "source": [
    "# Import necessary libraries\n",
    "from simphony.libraries import siepic\n",
    "from simphony.die import Die\n",
    "from simphony.simulation import Simulation, Laser, Detector\n",
    "import matplotlib.pyplot as plt\n",
    "from phidl import set_quickplot_options"
   ]
  },
  {
   "cell_type": "code",
   "execution_count": null,
   "metadata": {},
   "outputs": [],
   "source": [
    "# Instantiate components\n",
    "gc_input = siepic.GratingCoupler(name=\"gcinput\")\n",
    "y_splitter = siepic.YBranch(name=\"ysplit\")\n",
    "wg_long = siepic.Waveguide(length=150e-6, name=\"wglong\")\n",
    "wg_short = siepic.Waveguide(length=50e-6, name=\"wgshort\")\n",
    "y_recombiner = siepic.YBranch(name=\"yrecombiner\")\n",
    "gc_output = siepic.GratingCoupler(name=\"gcoutput\")\n",
    "\n",
    "# Instantiate Die object\n",
    "die = Die(name=\"die1\")\n",
    "\n",
    "# Throw in the components into the Die\n",
    "die.add_components([gc_input, y_splitter, gc_output, y_recombiner])\n",
    "\n",
    "# Distribute the devices in the die in a grid\n",
    "die.distribute_devices(direction='grid', shape=(2,2), spacing=(5,10))\n",
    "\n",
    "# Visualize the grid arrangement\n",
    "die.visualize(label_aliases=True)"
   ]
  },
  {
   "cell_type": "code",
   "execution_count": null,
   "metadata": {},
   "outputs": [],
   "source": [
    "# We connect the components like we would usually. Simphony will take care of the routing and\n",
    "# device connections for us.\n",
    "\n",
    "# Do not show ports when plotting the layout\n",
    "set_quickplot_options(False, False, label_aliases=True)\n",
    "\n",
    "# next we connect the components to each other\n",
    "y_splitter[\"pin1\"].connect(gc_input[\"pin1\"])\n",
    "\n",
    "y_recombiner[\"pin1\"].connect(gc_output[\"pin1\"])\n",
    "\n",
    "y_splitter[\"pin2\"].connect(wg_long)\n",
    "y_recombiner[\"pin3\"].connect(wg_long)\n",
    "\n",
    "y_splitter[\"pin3\"].connect(wg_short)\n",
    "y_recombiner[\"pin2\"].connect(wg_short)"
   ]
  },
  {
   "cell_type": "code",
   "execution_count": null,
   "metadata": {},
   "outputs": [],
   "source": [
    "# Visualize after connecting\n",
    "set_quickplot_options(show_ports=False, show_subports=False, label_aliases=True)\n",
    "die.visualize(show_ports=False) # Visualize after connecting"
   ]
  },
  {
   "cell_type": "code",
   "execution_count": null,
   "metadata": {},
   "outputs": [],
   "source": [
    "# Run the layout aware monte carlo computation\n",
    "with Simulation() as sim:\n",
    "    l = Laser(power=1)\n",
    "    l.freqsweep(187370000000000.0, 199862000000000.0)\n",
    "    l.connect(gc_input['pin2'])\n",
    "    d = Detector()\n",
    "    d.connect(gc_output['pin2'])\n",
    "\n",
    "    results = sim.layout_aware_simulation()"
   ]
  },
  {
   "cell_type": "code",
   "execution_count": null,
   "metadata": {},
   "outputs": [],
   "source": [
    "# Plot the results\n",
    "f = l.freqs\n",
    "for run in results:\n",
    "    p = []\n",
    "    for sample in run:\n",
    "        for data_list in sample:\n",
    "            for data in data_list:\n",
    "                p.append(data)\n",
    "    plt.plot(f, p)\n",
    "\n",
    "run = results[0]\n",
    "p = []\n",
    "for sample in run:\n",
    "    for data_list in sample:\n",
    "        for data in data_list:\n",
    "            p.append(data)\n",
    "plt.plot(f, p, 'k')\n",
    "plt.title('MZI Layout Aware Monte Carlo')\n",
    "plt.show()"
   ]
  },
  {
   "cell_type": "code",
   "execution_count": null,
   "metadata": {},
   "outputs": [],
   "source": [
    "# Plot cumulative distribution function\n",
    "import numpy as np\n",
    "\n",
    "# Get maximum P\n",
    "max = []\n",
    "for run in results:\n",
    "    p = []\n",
    "    for sample in run:\n",
    "        for data_list in sample:\n",
    "            for data in data_list:\n",
    "                p.append(data)\n",
    "    max.append(10*np.log10(np.max(p)))\n",
    "#sort data\n",
    "x = np.sort(max)\n",
    "\n",
    "#calculate CDF values\n",
    "y = 1. * np.arange(len(max)) / (len(max) - 1)\n",
    "\n",
    "#plot CDF\n",
    "plt.plot(x, y)\n",
    "plt.xlabel('x')"
   ]
  },
  {
   "cell_type": "code",
   "execution_count": null,
   "metadata": {},
   "outputs": [],
   "source": [
    "# Read circuit from SPICE file\n",
    "from simphony.formatters import CircuitSiEPICFormatter\n",
    "from simphony.layout import Circuit\n",
    "circuit = Circuit.from_file(\"C:\\\\Users\\\\12269\\\\Downloads\\\\top_main.spi\", \\\n",
    "    formatter=CircuitSiEPICFormatter())"
   ]
  },
  {
   "cell_type": "code",
   "execution_count": null,
   "metadata": {},
   "outputs": [],
   "source": [
    "# Add circuit to die\n",
    "from simphony.die import Die\n",
    "die = Die()\n",
    "die.add_components(circuit._get_components())"
   ]
  },
  {
   "cell_type": "code",
   "execution_count": null,
   "metadata": {},
   "outputs": [],
   "source": [
    "for i, c in enumerate(circuit._get_components()):\n",
    "    for k, pin in enumerate(c.pins):\n",
    "        print(i, k, pin._connection)"
   ]
  },
  {
   "cell_type": "code",
   "execution_count": null,
   "metadata": {},
   "outputs": [],
   "source": [
    "# Use and modify this cel to disconnect compoenents connected to a Laser or a Detector\n",
    "circuit._get_components()[10].pins[1].disconnect()"
   ]
  },
  {
   "cell_type": "code",
   "execution_count": null,
   "metadata": {},
   "outputs": [],
   "source": [
    "die.visualize()"
   ]
  },
  {
   "cell_type": "code",
   "execution_count": null,
   "metadata": {},
   "outputs": [],
   "source": [
    "# Run the layout aware monte carlo computation\n",
    "with Simulation() as sim:\n",
    "    l = Laser(power=1)\n",
    "    l.freqsweep(187370000000000.0, 199862000000000.0)\n",
    "    l.connect(circuit._get_components()[1])\n",
    "    d = Detector()\n",
    "    d.connect(circuit._get_components()[5])\n",
    "\n",
    "    results = sim.layout_aware_simulation()"
   ]
  },
  {
   "cell_type": "code",
   "execution_count": null,
   "metadata": {},
   "outputs": [],
   "source": [
    "f = l.freqs\n",
    "for run in results:\n",
    "    p = []\n",
    "    for sample in run:\n",
    "        for data_list in sample:\n",
    "            for data in data_list:\n",
    "                p.append(data)\n",
    "    plt.plot(f, p)\n",
    "\n",
    "run = results[0]\n",
    "p = []\n",
    "for sample in run:\n",
    "    for data_list in sample:\n",
    "        for data in data_list:\n",
    "            p.append(data)\n",
    "plt.plot(f, p, 'k')\n",
    "plt.title('MZI Layout Aware Monte Carlo')\n",
    "plt.show()"
   ]
  },
  {
   "cell_type": "code",
   "execution_count": null,
   "metadata": {},
   "outputs": [],
   "source": [
    "# Disconnect test\n",
    "for component in y_recombiner.circuit._get_components():\n",
    "    component.disconnect()\n",
    "die.visualize()"
   ]
  },
  {
   "cell_type": "code",
   "execution_count": null,
   "metadata": {},
   "outputs": [],
   "source": [
    "# Redistribute test\n",
    "die.distribute_devices(direction='grid', shape=(2,2), spacing=(5,10))\n",
    "die.visualize()"
   ]
  }
 ],
 "metadata": {
  "kernelspec": {
   "display_name": "Python 3.8.8 ('base')",
   "language": "python",
   "name": "python3"
  },
  "language_info": {
   "codemirror_mode": {
    "name": "ipython",
    "version": 3
   },
   "file_extension": ".py",
   "mimetype": "text/x-python",
   "name": "python",
   "nbconvert_exporter": "python",
   "pygments_lexer": "ipython3",
   "version": "3.8.8"
  },
  "orig_nbformat": 4,
  "vscode": {
   "interpreter": {
    "hash": "8c256f98918fdf565fb0594991b062fbac57fe52d8658946f807bb66ca7d9c01"
   }
  }
 },
 "nbformat": 4,
 "nbformat_minor": 2
}
