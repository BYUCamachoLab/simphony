{
 "cells": [
  {
   "cell_type": "code",
   "execution_count": null,
   "id": "d55973b1",
   "metadata": {},
   "outputs": [
    {
     "name": "stdout",
     "output_type": "stream",
     "text": [
      "2\n"
     ]
    }
   ],
   "source": [
    "import jax\n",
    "import jax.numpy as jnp\n",
    "\n",
    "# @jax.jit\n",
    "def map_unique_to_indices(x):\n",
    "    unique_vals, inv_idx = jnp.unique(x, size=x.shape[0], return_inverse=True)\n",
    "    return jnp.max(inv_idx)\n",
    "\n",
    "x = jnp.array([1.6, 1.5, 1.4, 1.6])\n",
    "result = map_unique_to_indices(x)\n",
    "print(result)  # Output: [2 1 0 2]\n"
   ]
  },
  {
   "cell_type": "code",
   "execution_count": 11,
   "id": "5888b1a4",
   "metadata": {},
   "outputs": [
    {
     "name": "stdout",
     "output_type": "stream",
     "text": [
      "{'e': [0, 0, 9], 'd': [0, 6, 8], 'b': [2, 4, 0], 'a': [1, 0, 7], 'c': [3, 5, 0]}\n"
     ]
    }
   ],
   "source": [
    "from collections import defaultdict\n",
    "\n",
    "# Inputs\n",
    "key_lists = [\n",
    "    ['a', 'b', 'c'],\n",
    "    ['b', 'c', 'd'],\n",
    "    ['a', 'd', 'e']\n",
    "]\n",
    "value_lists = [\n",
    "    [1, 2, 3],\n",
    "    [4, 5, 6],\n",
    "    [7, 8, 9]\n",
    "]\n",
    "\n",
    "# Step 1: Build individual dictionaries\n",
    "dicts = []\n",
    "for keys, values in zip(key_lists, value_lists):\n",
    "    d = dict(zip(keys, values))\n",
    "    dicts.append(d)\n",
    "\n",
    "# Step 2: Collect all unique keys\n",
    "all_keys = set()\n",
    "for d in dicts:\n",
    "    all_keys.update(d.keys())\n",
    "\n",
    "# Step 3: Construct output\n",
    "result = {}\n",
    "for key in all_keys:\n",
    "    result[key] = [d.get(key, 0) for d in dicts]\n",
    "\n",
    "# Output\n",
    "print(result)\n"
   ]
  },
  {
   "cell_type": "code",
   "execution_count": null,
   "id": "67371b8e",
   "metadata": {},
   "outputs": [],
   "source": []
  }
 ],
 "metadata": {
  "kernelspec": {
   "display_name": ".venv",
   "language": "python",
   "name": "python3"
  },
  "language_info": {
   "codemirror_mode": {
    "name": "ipython",
    "version": 3
   },
   "file_extension": ".py",
   "mimetype": "text/x-python",
   "name": "python",
   "nbconvert_exporter": "python",
   "pygments_lexer": "ipython3",
   "version": "3.12.3"
  }
 },
 "nbformat": 4,
 "nbformat_minor": 5
}
