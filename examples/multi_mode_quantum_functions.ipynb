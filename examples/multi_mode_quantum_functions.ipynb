{
 "cells": [
  {
   "cell_type": "code",
   "execution_count": 16,
   "id": "a6952ee2",
   "metadata": {},
   "outputs": [
    {
     "name": "stdout",
     "output_type": "stream",
     "text": [
      "S_symp * Omega * S_symp.T =\n",
      " [[ 0. -1.  0.  0.]\n",
      " [ 1.  0.  0.  0.]\n",
      " [ 0.  0.  0. -1.]\n",
      " [ 0.  0.  1.  0.]]\n",
      "Is symplectic? False\n",
      "Is anti-symplectic? True\n"
     ]
    }
   ],
   "source": [
    "import numpy as np\n",
    "\n",
    "# Define the unitary S matrix\n",
    "S = np.exp(1j*np.pi/2)*np.array([[0, 1],\n",
    "              [1, 0]])\n",
    "\n",
    "# Construct the real symplectic matrix\n",
    "ReS = S.real\n",
    "ImS = S.imag\n",
    "F = np.block([[ReS, -ImS],\n",
    "                   [ImS,  ReS]])\n",
    "\n",
    "# Define Omega for 2 modes\n",
    "J = np.array([[0, 1],\n",
    "              [-1, 0]])\n",
    "Omega = np.block([[J, np.zeros((2, 2))],\n",
    "                  [np.zeros((2, 2)), J]])\n",
    "\n",
    "# Compute S_symp * Omega * S_symp.T\n",
    "check = F @ Omega @ F.T\n",
    "\n",
    "# Compare with Omega\n",
    "print(\"S_symp * Omega * S_symp.T =\\n\", check)\n",
    "print(\"Is symplectic?\", np.allclose(check, Omega))\n",
    "print(\"Is anti-symplectic?\", np.allclose(check, -Omega))\n"
   ]
  },
  {
   "cell_type": "code",
   "execution_count": 11,
   "id": "32c61a6d",
   "metadata": {},
   "outputs": [
    {
     "data": {
      "text/plain": [
       "array([[ 0., -1.,  0.,  0.],\n",
       "       [ 1.,  0.,  0.,  0.],\n",
       "       [ 0.,  0.,  0., -1.],\n",
       "       [ 0.,  0.,  1.,  0.]])"
      ]
     },
     "execution_count": 11,
     "metadata": {},
     "output_type": "execute_result"
    }
   ],
   "source": [
    "F.T @ Omega @ F"
   ]
  },
  {
   "cell_type": "code",
   "execution_count": 16,
   "id": "35e968d0",
   "metadata": {},
   "outputs": [
    {
     "data": {
      "text/latex": [
       "Quantum object: dims=[[3, 3], [1]], shape=(9, 1), type='ket', dtype=Dense$$\\left(\\begin{array}{cc}0\\\\0\\\\0\\\\0\\\\1\\\\0\\\\0\\\\0\\\\0\\end{array}\\right)$$"
      ],
      "text/plain": [
       "Quantum object: dims=[[3, 3], [1]], shape=(9, 1), type='ket', dtype=Dense\n",
       "Qobj data =\n",
       "[[0.]\n",
       " [0.]\n",
       " [0.]\n",
       " [0.]\n",
       " [1.]\n",
       " [0.]\n",
       " [0.]\n",
       " [0.]\n",
       " [0.]]"
      ]
     },
     "execution_count": 16,
     "metadata": {},
     "output_type": "execute_result"
    }
   ],
   "source": [
    "from qutip import basis, tensor\n",
    "\n",
    "# Vacuum in mode a\n",
    "vac_a = basis(3, 1)\n",
    "\n",
    "# Single photon in mode b\n",
    "one_b = basis(3, 1)\n",
    "\n",
    "# Tensor product state |0>_a ⊗ |1>_b\n",
    "state = tensor(vac_a, one_b)\n",
    "state"
   ]
  },
  {
   "cell_type": "code",
   "execution_count": 44,
   "id": "476d444b",
   "metadata": {},
   "outputs": [
    {
     "name": "stdout",
     "output_type": "stream",
     "text": [
      "Multi-mode mean vector shape: (400,)\n",
      "Multi-mode covariance matrix shape: (400, 400)\n"
     ]
    }
   ],
   "source": [
    "import numpy as np\n",
    "from scipy.special import hermite\n",
    "from scipy.integrate import simpson\n",
    "import math\n",
    "\n",
    "def hermite_gauss_mode(n, t, w0=1.0):\n",
    "    \"\"\"\n",
    "    Generate the n-th order Hermite-Gaussian mode evaluated at times t.\n",
    "    w0 is the waist parameter controlling the width.\n",
    "    \"\"\"\n",
    "    Hn = hermite(n)\n",
    "    norm = (2**n * math.factorial(n) * np.sqrt(np.pi) * w0)**(-0.5)\n",
    "    xi = np.sqrt(2) * t / w0\n",
    "    mode = norm * Hn(xi) * np.exp(-xi**2 / 2)\n",
    "    return mode\n",
    "\n",
    "def normalize_mode(f, t):\n",
    "    \"\"\"\n",
    "    Normalize mode vector f sampled at times t using trapezoidal integration.\n",
    "    \"\"\"\n",
    "    norm = np.sqrt(simpson(np.abs(f)**2, t))\n",
    "    return f / norm\n",
    "\n",
    "def single_to_multi_mode(mean_f, cov_f, f):\n",
    "    \"\"\"\n",
    "    Convert single mode mean and covariance to multi-mode in delta basis.\n",
    "    mean_f: (2,) array, [q_mean, p_mean]\n",
    "    cov_f: (2,2) covariance matrix for single mode\n",
    "    f: (M,) real mode vector, normalized\n",
    "    Returns:\n",
    "      mean_multi: (2*M,) vector\n",
    "      cov_multi: (2*M, 2*M) covariance matrix\n",
    "    \"\"\"\n",
    "    M = len(f)\n",
    "    # Create S = f as column vector (M x 1)\n",
    "    S = f.reshape(M, 1)\n",
    "\n",
    "    # Identity in quadrature space (2x2)\n",
    "    I2 = np.eye(2)\n",
    "\n",
    "    # Mean multi = kron(S, I2) @ mean_f\n",
    "    mean_multi = np.kron(S, I2) @ mean_f  # shape (2*M,)\n",
    "\n",
    "    # Covariance multi = kron(S, I2) @ cov_f @ kron(S, I2).T\n",
    "    kron_S_I2 = np.kron(S, I2)  # shape (2*M, 2)\n",
    "    cov_multi = kron_S_I2 @ cov_f @ kron_S_I2.T  # shape (2*M, 2*M)\n",
    "\n",
    "    return mean_multi, cov_multi\n",
    "\n",
    "# Example usage:\n",
    "\n",
    "# Time grid\n",
    "M = 200\n",
    "t = np.linspace(-5, 5, M)\n",
    "\n",
    "# Generate 3rd order Hermite-Gaussian mode\n",
    "n = 3\n",
    "f = hermite_gauss_mode(n, t, w0=1.0)\n",
    "f = normalize_mode(f, t)\n",
    "\n",
    "# Define single-mode Gaussian state parameters (q,p means and covariance)\n",
    "mean_f = np.array([0.3, -0.6])  # example mean quadratures\n",
    "cov_f = np.array([[1.2, 0.1],\n",
    "                  [0.1, 0.8]])  # example covariance matrix (should be positive definite)\n",
    "\n",
    "# Convert to multi-mode in delta basis\n",
    "mean_multi, cov_multi = single_to_multi_mode(mean_f, cov_f, f)\n",
    "\n",
    "print(\"Multi-mode mean vector shape:\", mean_multi.shape)  # Expect (2*M,)\n",
    "print(\"Multi-mode covariance matrix shape:\", cov_multi.shape)  # Expect (2*M, 2*M)\n"
   ]
  },
  {
   "cell_type": "code",
   "execution_count": 45,
   "id": "02e2a577",
   "metadata": {},
   "outputs": [
    {
     "data": {
      "text/plain": [
       "np.float64(39.80000000000001)"
      ]
     },
     "execution_count": 45,
     "metadata": {},
     "output_type": "execute_result"
    }
   ],
   "source": [
    "np.trace(cov_multi)"
   ]
  },
  {
   "cell_type": "code",
   "execution_count": 39,
   "id": "67e4a73a",
   "metadata": {},
   "outputs": [
    {
     "data": {
      "text/plain": [
       "[<matplotlib.lines.Line2D at 0x703b208606b0>]"
      ]
     },
     "execution_count": 39,
     "metadata": {},
     "output_type": "execute_result"
    },
    {
     "data": {
      "image/png": "[encoded data removed]",
      "text/plain": [
       "<Figure size 640x480 with 1 Axes>"
      ]
     },
     "metadata": {},
     "output_type": "display_data"
    }
   ],
   "source": [
    "import matplotlib.pyplot as plt\n",
    "plt.plot(f)\n",
    "plt.plot(mean_multi[::2])"
   ]
  },
  {
   "cell_type": "code",
   "execution_count": null,
   "id": "0d628adb",
   "metadata": {},
   "outputs": [],
   "source": [
    "import jax\n",
    "import jax.numpy as jnp\n",
    "from scipy.constants import epsilon_0, Boltzmann\n",
    "\n",
    "h_bar = 0.5\n",
    "\n",
    "def annihilation_operator(N_max=10, f=1, t=0):\n",
    "    a = jnp.zeros((N_max, N_max), dtype=jnp.complex128)\n",
    "    for n in range(1, N_max):\n",
    "        a = a.at[n-1, n].set(jnp.sqrt(n))\n",
    "\n",
    "    return a\n",
    "\n",
    "def electric_field_operator(N_max=10, f=1, t=0, mode_volume=1):\n",
    "    E_0 = jnp.sqrt((h_bar*2*jnp.pi*f)/(epsilon_0*mode_volume))\n",
    "    E_0 = 1\n",
    "    a = annihilation_operator(N_max=N_max, f=f, t=t)\n",
    "    a_dagger = jnp.conj(a.T)\n",
    "    \n",
    "    return E_0 * (a + a_dagger)\n",
    "\n",
    "def number_operator(N_max, f=1.0, t=0):\n",
    "    a = annihilation_operator(N_max=N_max, f=f, t=t)\n",
    "    a_dagger = jnp.conj(a.T)\n",
    "    return a_dagger@a\n",
    "\n",
    "def expectation_value_pure(operator, psi):\n",
    "    return jnp.vdot(psi, operator@psi)\n",
    "\n",
    "def expectation_value_mixed(operator, rho):\n",
    "    return jnp.trace(rho@operator)\n",
    "\n",
    "def thermal_state(N_max, f=1.0, temperature=1/Boltzmann):\n",
    "    n = jnp.arange(0, N_max)\n",
    "    E_n = h_bar*2*jnp.pi*f*(n+0.5)\n",
    "    \n",
    "    P_n = jnp.exp(-E_n / (Boltzmann*temperature))\n",
    "    P_n = P_n / jnp.sum(P_n)\n",
    "    return jnp.diag(P_n)\n",
    "\n",
    "def coherent_state(alpha, N_max=10, f=1.0):\n",
    "    n = jnp.arange(0, N_max)\n",
    "    return jnp.exp(-0.5*jnp.abs(alpha)**2) * alpha**n / jnp.sqrt(jax.scipy.special.factorial(n))\n",
    "\n",
    "def vacuum_state(N_max=10, f=1.0):\n",
    "    vac = jnp.zeros(N_max, dtype=jnp.complex128)\n",
    "    vac = vac.at[0].set(1.0)\n",
    "    return vac\n",
    "\n",
    "def displacement_operator(alpha, N_max=10, f=1.0, t=0):\n",
    "    a = annihilation_operator(N_max=N_max, f=f, t=t)\n",
    "    a_dagger = jnp.conj(a.T)\n",
    "    return jax.scipy.linalg.expm(alpha*a_dagger - jnp.conj(alpha)*a)\n",
    "\n",
    "def characteristic_function_mixed(rho, f=1.0, t=0):\n",
    "    N_max = rho.shape[0]\n",
    "\n",
    "    def characteristic_fn(eta):\n",
    "        return jnp.trace(rho @ displacement_operator(eta, N_max=N_max, f=f, t=t))\n",
    "\n",
    "    def apply_fn(eta_grid):  # eta_grid shape: (N, M)\n",
    "        flat_eta = eta_grid.reshape(-1)\n",
    "\n",
    "        def scan_fn(carry, eta):\n",
    "            val = characteristic_fn(eta)\n",
    "            return carry, val\n",
    "\n",
    "        # remat helps prevent backprop memory buildup\n",
    "        _, results = jax.lax.scan(jax.remat(scan_fn), None, flat_eta)\n",
    "        return results.reshape(eta_grid.shape)\n",
    "\n",
    "    return apply_fn\n",
    "\n",
    "def characteristic_function_pure(psi, f=1.0, t=0):\n",
    "    rho = jnp.outer(psi, psi.conj().T)\n",
    "    N_max = rho.shape[0]\n",
    "    \n",
    "    return characteristic_function_mixed(rho, f=f, t=t)\n",
    "\n",
    "def characteristic_function_gaussian(mean, covariance):\n",
    "    def characteristic_fn(eta):\n",
    "        xi = jnp.sqrt(2) * jnp.array([jnp.real(eta), jnp.imag(eta)])\n",
    "        return jax.scipy.linalg.expm(-0.5*xi@covariance@eta + 1j*mean@xi)\n",
    "    \n",
    "    return characteristic_fn\n",
    "\n",
    "def eigenvalue_from_vector(A, v):\n",
    "    Av = A @ v\n",
    "    # Normalize vector to unit norm to avoid scaling ambiguity\n",
    "    v_normalized = v / jnp.linalg.norm(v)\n",
    "    return jnp.vdot(v_normalized, Av)  # = λ if v is an eigenvector\n",
    "\n",
    "def wigner_function(alpha, characteristic_fn, grid_size=80, limit=4.0):\n",
    "    dx = 2 * limit / grid_size\n",
    "    x = jnp.linspace(-limit, limit, grid_size)\n",
    "    y = jnp.linspace(-limit, limit, grid_size)\n",
    "    xx, yy = jnp.meshgrid(x, y)\n",
    "    lam = xx + 1j * yy  # shape: (grid_size, grid_size)\n",
    "\n",
    "    lam_flat = lam.reshape(-1)\n",
    "    chi_vals = characteristic_fn(lam_flat).reshape(lam.shape)\n",
    "\n",
    "    exponent = jnp.conj(lam) * alpha - lam * jnp.conj(alpha)\n",
    "    integrand = chi_vals * jnp.exp(exponent)\n",
    "    integral = jnp.sum(integrand) * dx**2\n",
    "\n",
    "    return (1 / jnp.pi**2) * integral.real\n",
    "\n",
    "def coherence_1(rho, t1, t2):\n",
    "    N_max = rho.shape[0]\n",
    "    t1 = 0\n",
    "    t2 = 1\n",
    "    a_hat_1 = annihilation_operator(N_max=N_max, f=f, t=t1)\n",
    "    a_hat_2 = annihilation_operator(N_max=N_max, f=f, t=t2)\n",
    "    denominator = jnp.sqrt(\n",
    "        expectation_value_mixed(a_hat_1.conj().T @ a_hat_1, rho)\n",
    "        * expectation_value_mixed(a_hat_2.conj().T @ a_hat_2, rho)\n",
    "    )\n",
    "    \n",
    "    numerator = expectation_value_mixed(a_hat_1.conj().T @ a_hat_2, rho)\n",
    "\n",
    "    return numerator/denominator\n",
    "\n",
    "def coherence_2(rho, t1, t2):\n",
    "    N_max = rho.shape[0]\n",
    "    a_hat_1 = annihilation_operator(N_max=N_max, f=f, t=t1)\n",
    "    a_hat_2 = annihilation_operator(N_max=N_max, f=f, t=t2)\n",
    "    denominator = (\n",
    "        expectation_value_mixed(a_hat_1.conj().T @ a_hat_1, rho)\n",
    "        * expectation_value_mixed(a_hat_2.conj().T @ a_hat_2, rho)\n",
    "    )\n",
    "\n",
    "    numerator = expectation_value_mixed(a_hat_1.conj().T @ a_hat_2.conj().T @ a_hat_2 @ a_hat_1, rho)\n",
    "\n",
    "    return numerator/denominator"
   ]
  },
  {
   "cell_type": "code",
   "execution_count": null,
   "id": "7b76a076",
   "metadata": {},
   "outputs": [
    {
     "name": "stdout",
     "output_type": "stream",
     "text": [
      "(0.04516570536368411+0j)\n",
      "0.04516570536368411\n"
     ]
    }
   ],
   "source": [
    "N_max=40\n",
    "T = 1/Boltzmann\n",
    "t=0\n",
    "f = 1\n",
    "n_hat = number_operator(N_max=N_max, f=f, t=t)\n",
    "temperature = 1/Boltzmann\n",
    "rho_th = thermal_state(N_max)\n",
    "print(expectation_value_mixed(n_hat, rho_th))\n",
    "print(1/(jnp.exp(h_bar*2*jnp.pi*f/(Boltzmann*T))-1))"
   ]
  },
  {
   "cell_type": "code",
   "execution_count": null,
   "id": "77932a95",
   "metadata": {},
   "outputs": [
    {
     "name": "stdout",
     "output_type": "stream",
     "text": [
      "(1+0j)\n",
      "(2.000000000000001+0j)\n"
     ]
    }
   ],
   "source": [
    "print(coherence_1(rho_th, 0, 1))\n",
    "print(coherence_2(rho_th, 0, 1))"
   ]
  },
  {
   "cell_type": "code",
   "execution_count": 16,
   "id": "6644dd2a",
   "metadata": {},
   "outputs": [
    {
     "name": "stdout",
     "output_type": "stream",
     "text": [
      "[8.82496903e-01+0.j 4.41248451e-01+0.j 1.56004886e-01+0.j\n",
      " 4.50347315e-02+0.j 1.12586829e-02+0.j 2.51751802e-03+0.j\n",
      " 5.13886215e-04+0.j 9.71153661e-05+0.j 1.71677335e-05+0.j\n",
      " 2.86128891e-06+0.j 4.52409501e-07+0.j 6.82032984e-08+0.j\n",
      " 9.84429818e-09+0.j 1.36515853e-09+0.j 1.82426982e-10+0.j\n",
      " 2.35512222e-11+0.j 2.94390277e-12+0.j 3.57000649e-13+0.j\n",
      " 4.20729300e-14+0.j 4.82609606e-15+0.j 5.39573942e-16+0.j\n",
      " 5.88723437e-17+0.j 6.27581292e-18+0.j 6.54298728e-19+0.j\n",
      " 6.67790841e-20+0.j 6.67790821e-21+0.j 6.54822716e-22+0.j\n",
      " 6.30103640e-23+0.j 5.95394198e-24+0.j 5.52817858e-25+0.j\n",
      " 5.04654817e-26+0.j 4.53061072e-27+0.j 3.99586815e-28+0.j\n",
      " 3.44653150e-29+0.j 2.89817949e-30+0.j 2.58393835e-31+0.j\n",
      " 3.96946964e-32+0.j 1.36836821e-32+0.j 5.66449196e-33+0.j\n",
      " 2.15406154e-33+0.j 7.38414054e-34+0.j 2.31739718e-34+0.j\n",
      " 6.75588000e-35+0.j 1.84958640e-35+0.j 4.79404612e-36+0.j\n",
      " 1.18376775e-36+0.j 2.79836111e-37+0.j 6.35840412e-38+0.j\n",
      " 1.39327902e-38+0.j 2.95248758e-39+0.j 6.06510437e-40+0.j\n",
      " 1.21029292e-40+0.j 2.35036084e-41+0.j 4.44905948e-42+0.j\n",
      " 8.22077283e-43+0.j 1.48465104e-43+0.j 2.62364408e-44+0.j\n",
      " 4.54159461e-45+0.j 7.70810960e-46+0.j 1.28381233e-46+0.j\n",
      " 2.09999735e-47+0.j 3.37619681e-48+0.j 5.33877886e-49+0.j\n",
      " 8.30904928e-50+0.j 1.27338459e-50+0.j 1.92121580e-51+0.j\n",
      " 2.84784355e-52+0.j 4.12282243e-53+0.j 5.76001447e-54+0.j\n",
      " 7.66850413e-55+0.j 1.01127576e-55+0.j 1.76081561e-56+0.j\n",
      " 5.94090619e-57+0.j 2.78136732e-57+0.j 1.27037526e-57+0.j\n",
      " 5.28956024e-58+0.j 2.02212365e-58+0.j 7.20942738e-59+0.j\n",
      " 2.40073452e-59+0.j 8.43020582e-60+0.j]\n",
      "[8.82496903e-01 4.41248451e-01 1.56004886e-01 4.50347315e-02\n",
      " 1.12586829e-02 2.51751802e-03 5.13886215e-04 9.71153661e-05\n",
      " 1.71677335e-05 2.86128891e-06 4.52409501e-07 6.82032984e-08\n",
      " 9.84429818e-09 1.36515853e-09 1.82426982e-10 2.35512222e-11\n",
      " 2.94390277e-12 3.57000649e-13 4.20729300e-14 4.82609606e-15\n",
      " 5.39573942e-16 5.88723437e-17 6.27581292e-18 6.54298727e-19\n",
      " 6.67790842e-20 6.67790842e-21 6.54822795e-22 6.30103528e-23\n",
      " 5.95391870e-24 5.52807473e-25 5.04641872e-26 4.53181779e-27\n",
      " 4.00559886e-28 3.48642630e-29 2.98958589e-30 2.52666124e-31\n",
      " 2.10555103e-32 1.73075228e-33 1.40382548e-34 1.12395991e-35\n",
      " 8.88568328e-37 6.93855292e-38 5.35320980e-39 4.08178420e-40\n",
      " 3.07676061e-41 2.29328196e-42 1.69062989e-43 1.23301857e-44\n",
      " 8.89854506e-46 6.35610361e-47 4.49444397e-48 3.14674019e-49\n",
      " 2.18187175e-50 1.49851567e-51 1.01961077e-52 6.87421439e-54\n",
      " 4.59302769e-55 3.04180690e-56 1.99704406e-57 1.29996496e-58\n",
      " 8.39123773e-60 5.37193949e-61 3.41118499e-62 2.14884456e-63\n",
      " 1.34302785e-64 8.32910515e-66 5.12620985e-67 3.13133105e-68\n",
      " 1.89864833e-69 1.14285200e-70 6.82984701e-72 4.05276858e-73\n",
      " 2.38811679e-74 1.39753964e-75 8.12303417e-77 4.68983597e-78\n",
      " 2.68980540e-79 1.53265887e-80 8.67697220e-82 4.88117822e-83]\n"
     ]
    }
   ],
   "source": [
    "vac = vacuum_state(N_max)\n",
    "alpha = 0.5\n",
    "print(displacement_operator(alpha, N_max=N_max) @ vac)\n",
    "print(coherent_state(alpha, N_max=N_max))"
   ]
  },
  {
   "cell_type": "code",
   "execution_count": 17,
   "id": "1a1e5953",
   "metadata": {},
   "outputs": [
    {
     "name": "stdout",
     "output_type": "stream",
     "text": [
      "(0.5000000000000001+0j)\n"
     ]
    }
   ],
   "source": [
    "a_hat = annihilation_operator(N_max=N_max, f=f, t=t)\n",
    "print(eigenvalue_from_vector(a_hat, coherent_state(alpha, N_max=N_max)))"
   ]
  },
  {
   "cell_type": "code",
   "execution_count": 18,
   "id": "c17918b0",
   "metadata": {},
   "outputs": [],
   "source": [
    "import matplotlib.pyplot as plt\n",
    "from scipy.special import eval_laguerre\n",
    "\n",
    "alphas = jnp.linspace(-6.0, 6.0, 350)\n",
    "n = 3"
   ]
  },
  {
   "cell_type": "code",
   "execution_count": null,
   "id": "1f9a0216",
   "metadata": {},
   "outputs": [
    {
     "data": {
      "image/png": "[encoded data removed]",
      "text/plain": [
       "<Figure size 640x480 with 1 Axes>"
      ]
     },
     "metadata": {},
     "output_type": "display_data"
    },
    {
     "data": {
      "text/plain": [
       "[<matplotlib.lines.Line2D at 0x759a246a5ac0>]"
      ]
     },
     "execution_count": 21,
     "metadata": {},
     "output_type": "execute_result"
    },
    {
     "data": {
      "image/png": "[encoded data removed]",
      "text/plain": [
       "<Figure size 640x480 with 1 Axes>"
      ]
     },
     "metadata": {},
     "output_type": "display_data"
    }
   ],
   "source": [
    "def chi_number_state(n, eta):\n",
    "    abs_eta2 = jnp.abs(eta)**2\n",
    "    return jnp.exp(-0.5 * abs_eta2) * eval_laguerre(n, abs_eta2)\n",
    "\n",
    "\n",
    "\n",
    "plt.plot(alphas, chi_number_state(n, alphas))\n",
    "\n",
    "psi_number = jnp.zeros(N_max, dtype=jnp.complex128).at[n].set(1.0)\n",
    "C = characteristic_function_pure(psi_number)\n",
    "\n",
    "# psi_coherent = coherent_state(jnp.sqrt(10), N_max=N_max)\n",
    "# C = characteristic_function_pure(psi_coherent)\n",
    "\n",
    "# C = characteristic_function_mixed(rho_th)\n",
    "# W_thermal = wigner_function(1.0, C_thermal)\n",
    "\n",
    "\n",
    "data = []\n",
    "\n",
    "plt.plot(alphas, C(jnp.array([alphas]))[0], \"r--\")\n",
    "plt.show()\n",
    "\n",
    "# @jax.remat\n",
    "def scan_fn(_, alpha):\n",
    "    value = wigner_function(alpha, C, 100, 5.0)\n",
    "    # value = jax.lax.stop_gradient(wigner_function(alpha, C, 200, jnp.sqrt(N_max/2)))\n",
    "    return None, value\n",
    "\n",
    "_, wigner_vals = jax.lax.scan(scan_fn, init=None, xs=alphas)\n",
    "\n",
    "plt.plot(alphas, wigner_vals)\n",
    "\n",
    "# for alpha in alphas:\n",
    "#     print(alpha)\n",
    "#     data.append(wigner_function(alpha, C))\n",
    "\n",
    "# plt.plot(data)\n"
   ]
  },
  {
   "cell_type": "code",
   "execution_count": 22,
   "id": "7ced28ae",
   "metadata": {},
   "outputs": [
    {
     "data": {
      "text/plain": [
       "[<matplotlib.lines.Line2D at 0x759a244bd850>]"
      ]
     },
     "execution_count": 22,
     "metadata": {},
     "output_type": "execute_result"
    },
    {
     "data": {
      "image/png": "[encoded data removed]",
      "text/plain": [
       "<Figure size 640x480 with 1 Axes>"
      ]
     },
     "metadata": {},
     "output_type": "display_data"
    }
   ],
   "source": [
    "C = characteristic_function_mixed(rho_th)\n",
    "\n",
    "@jax.remat\n",
    "def scan_fn(_, alpha):\n",
    "    # value = wigner_function(alpha, C, 100, 5.0)\n",
    "    value = wigner_function(alpha, C, 300, jnp.sqrt(N_max/2))\n",
    "    return None, value\n",
    "\n",
    "_, wigner_vals = jax.lax.scan(scan_fn, init=None, xs=alphas)\n",
    "plt.plot(alphas, wigner_vals)\n",
    "\n",
    "_n = jnp.arange(rho_th.shape[0])\n",
    "# n_bar = jnp.sum(_n * jnp.diag(rho_th))\n",
    "n_bar = 1 / (jnp.exp(h_bar * 2 * jnp.pi * f * (1/(Boltzmann*temperature))) - 1)\n",
    "wigner_vals_theory = 2/ (jnp.pi*(2*n_bar+1))*jnp.exp(-2*jnp.abs(alphas)**2 / (2*n_bar + 1))\n",
    "plt.plot(alphas, wigner_vals_theory, \"r--\")"
   ]
  },
  {
   "cell_type": "code",
   "execution_count": 33,
   "id": "783022b4",
   "metadata": {},
   "outputs": [
    {
     "data": {
      "text/plain": [
       "<matplotlib.lines.Line2D at 0x759a0351fd70>"
      ]
     },
     "execution_count": 33,
     "metadata": {},
     "output_type": "execute_result"
    },
    {
     "data": {
      "image/png": "[encoded data removed]",
      "text/plain": [
       "<Figure size 640x480 with 1 Axes>"
      ]
     },
     "metadata": {},
     "output_type": "display_data"
    }
   ],
   "source": [
    "plt.plot(alphas, wigner_vals_theory, \"r--\")\n",
    "plt.axvline( 0.5*(2.355*jnp.sqrt(h_bar/2)))\n",
    "plt.axvline(-0.5*(2.355*jnp.sqrt(h_bar/2)))\n",
    "plt.axhline(0.3)"
   ]
  },
  {
   "cell_type": "code",
   "execution_count": 11,
   "id": "27a37810",
   "metadata": {},
   "outputs": [
    {
     "data": {
      "text/plain": [
       "[<matplotlib.lines.Line2D at 0x759a26ab6090>]"
      ]
     },
     "execution_count": 11,
     "metadata": {},
     "output_type": "execute_result"
    },
    {
     "data": {
      "image/png": "[encoded data removed]",
      "text/plain": [
       "<Figure size 640x480 with 1 Axes>"
      ]
     },
     "metadata": {},
     "output_type": "display_data"
    }
   ],
   "source": [
    "from simphony.simulation.jax_tools import python_based_scan\n",
    "psi_coherent = coherent_state(jnp.sqrt(10), N_max=N_max)\n",
    "C = characteristic_function_pure(psi_coherent)\n",
    "\n",
    "# @jax.remat\n",
    "def scan_fn(_, alpha):\n",
    "    # value = wigner_function(alpha, C, 100, 5.0)\n",
    "    value = jax.lax.stop_gradient(wigner_function(alpha, C, 450, jnp.sqrt(N_max/2)))\n",
    "    return None, value\n",
    "\n",
    "# _, wigner_vals = python_based_scan(scan_fn, init=None, xs=alphas)\n",
    "_, wigner_vals = jax.lax.scan(scan_fn, init=None, xs=alphas)\n",
    "plt.plot(alphas, wigner_vals)\n",
    "\n",
    "wigner_vals_theory = 2/jnp.pi*jnp.exp(-2*jnp.abs(alphas-jnp.sqrt(10))**2)\n",
    "plt.plot(alphas, wigner_vals_theory, \"r--\")\n"
   ]
  },
  {
   "cell_type": "code",
   "execution_count": null,
   "id": "ff5ce0da",
   "metadata": {},
   "outputs": [],
   "source": []
  },
  {
   "cell_type": "code",
   "execution_count": null,
   "id": "26929318",
   "metadata": {},
   "outputs": [],
   "source": [
    "data"
   ]
  },
  {
   "cell_type": "code",
   "execution_count": null,
   "id": "e0673fac",
   "metadata": {},
   "outputs": [],
   "source": [
    "100\n",
    "\n",
    "# # Grid\n",
    "# x = jnp.linspace(-5, 5, 200)\n",
    "# y = jnp.linspace(-5, 5, 200)\n",
    "# eta_grid = x[:, None] + 1j * y[None, :]\n",
    "# chi_grid = chi_number_state(n, eta_grid)  # Try n = 3\n",
    "\n",
    "# plt.imshow(jnp.real(chi_grid), extent=[-5, 5, -5, 5], origin=\"lower\")\n",
    "# plt.title(f\"Re[χₙ(η)] for n={n}\")\n",
    "# plt.colorbar()\n",
    "# plt.show()\n"
   ]
  },
  {
   "cell_type": "code",
   "execution_count": null,
   "id": "7092682c",
   "metadata": {},
   "outputs": [],
   "source": [
    "def g2(t1, t2, rho, f=1.0, N_max=10):\n",
    "    a_t1 = annihilation_operator(N_max=N_max, f=f, t=t1)\n",
    "    a_t2 = annihilation_operator(N_max=N_max, f=f, t=t2)\n",
    "    a_dag_t1 = jnp.conj(a_t1.T)\n",
    "    a_dag_t2 = jnp.conj(a_t2.T)\n",
    "\n",
    "    numerator = expectation_value_mixed(a_dag_t1 @ a_dag_t2 @ a_t2 @ a_t1, rho)\n",
    "    print(numerator)\n",
    "    denominator = (\n",
    "        expectation_value_mixed(a_dag_t1 @ a_t1, rho)\n",
    "        * expectation_value_mixed(a_dag_t2 @ a_t2, rho)\n",
    "    )\n",
    "\n",
    "    return numerator / denominator\n",
    "\n",
    "rho = thermal_state(N_max=10, f=1.0, temperature=1.0)\n",
    "g2(0, 0, rho_th, f=1, N_max=N_max)"
   ]
  },
  {
   "cell_type": "code",
   "execution_count": null,
   "id": "55e4270b",
   "metadata": {},
   "outputs": [],
   "source": [
    "jnp.exp(-h_bar*2*jnp.pi)"
   ]
  },
  {
   "cell_type": "code",
   "execution_count": null,
   "id": "8894ee07",
   "metadata": {},
   "outputs": [],
   "source": [
    "N_max = 10\n",
    "psi = jnp.zeros(N_max)\n",
    "psi = psi.at[0].set(0.0)\n",
    "psi = psi.at[1].set(1.0)\n",
    "psi = psi/jnp.linalg.norm(psi)\n",
    "\n",
    "E_hat = electric_field_operator()\n"
   ]
  },
  {
   "cell_type": "code",
   "execution_count": null,
   "id": "b9593009",
   "metadata": {},
   "outputs": [],
   "source": [
    "print(expectation_value_pure(E_hat, psi))\n",
    "print(expectation_value_pure(E_hat@E_hat, psi))"
   ]
  },
  {
   "cell_type": "code",
   "execution_count": null,
   "id": "2f6d58ba",
   "metadata": {},
   "outputs": [],
   "source": [
    "rho = jnp.outer(psi, jnp.conj(psi))\n",
    "print(expectation_value_mixed(E_hat, rho))\n",
    "print(expectation_value_mixed(E_hat@E_hat, rho))"
   ]
  },
  {
   "cell_type": "code",
   "execution_count": null,
   "id": "83d986a5",
   "metadata": {},
   "outputs": [],
   "source": []
  },
  {
   "cell_type": "code",
   "execution_count": null,
   "id": "5137a871",
   "metadata": {},
   "outputs": [],
   "source": [
    "N_max = 10\n",
    "# Construct annihilation operator matrix\n",
    "\n",
    "\n",
    "# Example state: |3> = [0, 0, 0, 1, 0, ..., 0]\n",
    "psi = jnp.zeros(N_max)\n",
    "psi[2] = 1.0\n",
    "\n",
    "a_0 = annihilation_operator(N_max=N_max)\n",
    "# Apply annihilation operator\n",
    "phi = a_0 @ psi\n",
    "\n",
    "print(\"Resulting state amplitudes:\", phi)"
   ]
  },
  {
   "cell_type": "code",
   "execution_count": null,
   "id": "3616095a",
   "metadata": {},
   "outputs": [],
   "source": [
    "a"
   ]
  },
  {
   "cell_type": "code",
   "execution_count": null,
   "id": "96158916",
   "metadata": {},
   "outputs": [],
   "source": [
    "import jax\n",
    "import jax.numpy as jnp\n",
    "from scipy.constants import epsilon_0, Boltzmann\n",
    "\n",
    "h_bar = 0.5\n",
    "\n",
    "def annihilation_operator(N_max=10, f=1, t=0):\n",
    "    a = jnp.zeros((N_max, N_max), dtype=jnp.complex128)\n",
    "    for n in range(1, N_max):\n",
    "        a = a.at[n-1, n].set(jnp.sqrt(n))\n",
    "    \n",
    "    # return a*jnp.exp(-1j*2*jnp.pi*f*t)\n",
    "    return a\n",
    "\n",
    "def electric_field_operator(N_max=10, f=1, t=0, mode_volume=1):\n",
    "    E_0 = jnp.sqrt((h_bar*2*jnp.pi*f)/(epsilon_0*mode_volume))\n",
    "    E_0 = 1\n",
    "    a = annihilation_operator(N_max=N_max, f=f, t=t)\n",
    "    a_dagger = jnp.conj(a.T)\n",
    "    \n",
    "    return E_0 * (a + a_dagger)\n",
    "\n",
    "def number_operator(N_max, f=1.0, t=0):\n",
    "    a = annihilation_operator(N_max=N_max, f=f, t=t)\n",
    "    a_dagger = jnp.conj(a.T)\n",
    "    return a_dagger@a\n",
    "\n",
    "def expectation_value_pure(operator, psi):\n",
    "    return jnp.vdot(psi, operator@psi)\n",
    "\n",
    "def expectation_value_mixed(operator, rho):\n",
    "    return jnp.trace(rho@operator)\n",
    "\n",
    "def thermal_state(N_max, f=1.0, temperature=1/Boltzmann):\n",
    "    n = jnp.arange(0, N_max)\n",
    "    E_n = h_bar*2*jnp.pi*f*(n+0.5)\n",
    "    \n",
    "    P_n = jnp.exp(-E_n / (Boltzmann*temperature))\n",
    "    P_n = P_n / jnp.sum(P_n)\n",
    "    return jnp.diag(P_n)\n",
    "\n",
    "def coherent_state(alpha, N_max=10, f=1.0):\n",
    "    n = jnp.arange(0, N_max)\n",
    "    return jnp.exp(-0.5*jnp.abs(alpha)**2) * alpha**n / jnp.sqrt(jax.scipy.special.factorial(n))\n",
    "\n",
    "def vacuum_state(N_max=10, f=1.0):\n",
    "    vac = jnp.zeros(N_max, dtype=jnp.complex128)\n",
    "    vac = vac.at[0].set(1.0)\n",
    "    return vac\n",
    "\n",
    "def displacement_operator(alpha, N_max=10, f=1.0, t=0):\n",
    "    a = annihilation_operator(N_max=N_max, f=f, t=t)\n",
    "    a_dagger = jnp.conj(a.T)\n",
    "    return jax.scipy.linalg.expm(alpha*a_dagger - jnp.conj(alpha)*a)\n",
    "\n",
    "# def characteristic_function_mixed(rho, f=1.0, t=0):\n",
    "#     N_max = rho.shape[0]\n",
    "#     def characteristic_fn(eta):\n",
    "#         return jnp.trace(rho@displacement_operator(eta, N_max=N_max, f=f, t=t))    \n",
    "    \n",
    "#     return jax.vmap(jax.vmap(characteristic_fn))\n",
    "\n",
    "def characteristic_function_mixed(rho, f=1.0, t=0):\n",
    "    N_max = rho.shape[0]\n",
    "\n",
    "    def characteristic_fn(eta):\n",
    "        return jnp.trace(rho @ displacement_operator(eta, N_max=N_max, f=f, t=t))\n",
    "\n",
    "    def apply_fn(eta_grid):  # eta_grid shape: (N, M)\n",
    "        flat_eta = eta_grid.reshape(-1)\n",
    "\n",
    "        def scan_fn(carry, eta):\n",
    "            val = characteristic_fn(eta)\n",
    "            return carry, val\n",
    "\n",
    "        # remat helps prevent backprop memory buildup\n",
    "        _, results = jax.lax.scan(jax.remat(scan_fn), None, flat_eta)\n",
    "        return results.reshape(eta_grid.shape)\n",
    "\n",
    "    return apply_fn\n",
    "\n",
    "# def characteristic_function_mixed(rho, f=1.0, t=0):\n",
    "#     N_max = rho.shape[0]\n",
    "\n",
    "#     @jax.remat\n",
    "#     def characteristic_fn(eta):\n",
    "#         return jnp.trace(rho @ displacement_operator(eta, N_max=N_max, f=f, t=t))\n",
    "\n",
    "#     vectorized_fn = jax.vmap(characteristic_fn)\n",
    "\n",
    "#     @jax.remat\n",
    "#     def apply_fn(eta_grid):  # eta_grid shape: (N, M) complex\n",
    "#         flat_eta = eta_grid.reshape(-1)\n",
    "#         result = vectorized_fn(flat_eta)\n",
    "#         return result.reshape(eta_grid.shape)\n",
    "\n",
    "#     return apply_fn\n",
    "\n",
    "def characteristic_function_pure(psi, f=1.0, t=0):\n",
    "    rho = jnp.outer(psi, psi.conj().T)\n",
    "    N_max = rho.shape[0]\n",
    "    # def characteristic_fn(eta):\n",
    "    #     return jnp.trace(rho@displacement_operator(eta, N_max=N_max, f=f, t=t))\n",
    "    \n",
    "    return characteristic_function_mixed(rho, f=f, t=t)\n",
    "\n",
    "def characteristic_function_gaussian(mean, covariance):\n",
    "    def characteristic_fn(eta):\n",
    "        xi = jnp.sqrt(2) * jnp.array([jnp.real(eta), jnp.imag(eta)])\n",
    "        return jax.scipy.linalg.expm(-0.5*xi@covariance@eta + 1j*mean@xi)\n",
    "    \n",
    "    return characteristic_fn\n",
    "\n",
    "def eigenvalue_from_vector(A, v):\n",
    "    Av = A @ v\n",
    "    # Normalize vector to unit norm to avoid scaling ambiguity\n",
    "    v_normalized = v / jnp.linalg.norm(v)\n",
    "    return jnp.vdot(v_normalized, Av)  # = λ if v is an eigenvector\n",
    "\n",
    "# @jax.jit\n",
    "# def wigner_function(alpha, characteristic_fn, grid_size=100, limit=1.0):\n",
    "#     # Discretize complex plane\n",
    "#     dx = 2 * limit / grid_size\n",
    "#     x = jnp.linspace(-limit, limit, grid_size)\n",
    "#     y = jnp.linspace(-limit, limit, grid_size)\n",
    "#     xx, yy = jnp.meshgrid(x, y)\n",
    "#     lam = xx + 1j * yy\n",
    "#     exponent = alpha * jnp.conj(lam) - jnp.conj(alpha) * lam\n",
    "#     integrand = characteristic_fn(lam) * jnp.exp(exponent)\n",
    "#     integral = jnp.sum(integrand) * (dx ** 2)\n",
    "\n",
    "#     return (1 / jnp.pi**2) * integral.real\n",
    "\n",
    "# @jax.jit(static_argnames=[\"characteristic_fn\"])\n",
    "def wigner_function(alpha, characteristic_fn, grid_size=80, limit=4.0):\n",
    "    dx = 2 * limit / grid_size\n",
    "    x = jnp.linspace(-limit, limit, grid_size)\n",
    "    y = jnp.linspace(-limit, limit, grid_size)\n",
    "    xx, yy = jnp.meshgrid(x, y)\n",
    "    lam = xx + 1j * yy  # shape: (grid_size, grid_size)\n",
    "\n",
    "    lam_flat = lam.reshape(-1)\n",
    "    chi_vals = characteristic_fn(lam_flat).reshape(lam.shape)\n",
    "\n",
    "    exponent = jnp.conj(lam) * alpha - lam * jnp.conj(alpha)\n",
    "    integrand = chi_vals * jnp.exp(exponent)\n",
    "    integral = jnp.sum(integrand) * dx**2\n",
    "\n",
    "    return (1 / jnp.pi**2) * integral.real\n",
    "# wigner_function = jax.jit(\n",
    "#     wigner_function,\n",
    "#     static_argnames=[\"characteristic_fn\", \"grid_size\", \"limit\"]\n",
    "# )\n",
    "\n",
    "def coherence_1(rho, t1, t2):\n",
    "    N_max = rho.shape[0]\n",
    "    t1 = 0\n",
    "    t2 = 1\n",
    "    a_hat_1 = annihilation_operator(N_max=N_max, f=f, t=t1)\n",
    "    a_hat_2 = annihilation_operator(N_max=N_max, f=f, t=t2)\n",
    "    denominator = jnp.sqrt(\n",
    "        expectation_value_mixed(a_hat_1.conj().T @ a_hat_1, rho)\n",
    "        * expectation_value_mixed(a_hat_2.conj().T @ a_hat_2, rho)\n",
    "    )\n",
    "    \n",
    "    numerator = expectation_value_mixed(a_hat_1.conj().T @ a_hat_2, rho)\n",
    "\n",
    "    return numerator/denominator\n",
    "\n",
    "def coherence_2(rho, t1, t2):\n",
    "    N_max = rho.shape[0]\n",
    "    a_hat_1 = annihilation_operator(N_max=N_max, f=f, t=t1)\n",
    "    a_hat_2 = annihilation_operator(N_max=N_max, f=f, t=t2)\n",
    "    denominator = (\n",
    "        expectation_value_mixed(a_hat_1.conj().T @ a_hat_1, rho)\n",
    "        * expectation_value_mixed(a_hat_2.conj().T @ a_hat_2, rho)\n",
    "    )\n",
    "\n",
    "    numerator = expectation_value_mixed(a_hat_1.conj().T @ a_hat_2.conj().T @ a_hat_2 @ a_hat_1, rho)\n",
    "\n",
    "    return numerator/denominator\n"
   ]
  }
 ],
 "metadata": {
  "kernelspec": {
   "display_name": ".venv (3.12.3)",
   "language": "python",
   "name": "python3"
  },
  "language_info": {
   "codemirror_mode": {
    "name": "ipython",
    "version": 3
   },
   "file_extension": ".py",
   "mimetype": "text/x-python",
   "name": "python",
   "nbconvert_exporter": "python",
   "pygments_lexer": "ipython3",
   "version": "3.12.3"
  }
 },
 "nbformat": 4,
 "nbformat_minor": 5
}
