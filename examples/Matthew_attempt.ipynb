{
 "cells": [
  {
   "cell_type": "code",
   "execution_count": 39,
   "metadata": {},
   "outputs": [],
   "source": [
    "import jax\n",
    "from jax import config\n",
    "config.update(\"jax_enable_x64\", True)\n",
    "import jax.numpy as jnp\n",
    "import numpy as np\n",
    "import matplotlib.pyplot as plt\n",
    "import sax\n",
    "import pandas as pd\n",
    "import simphony\n",
    "from simphony.quantum import QuantumTimeElement\n",
    "from simphony.libraries import siepic, ideal\n",
    "from simphony.utils import smooth_rectangular_pulse, dict_to_matrix, gaussian_pulse\n",
    "from simphony.time_domain.baseband_vector_fitting import BasebandModel\n",
    "from scipy import signal\n",
    "from scipy.signal import  StateSpace, dlsim\n"
   ]
  },
  {
   "cell_type": "code",
   "execution_count": 22,
   "metadata": {},
   "outputs": [],
   "source": [
    "def dlsim_complex(system, u, t=None, x0=None):\n",
    "    out_samples = len(u)\n",
    "    stoptime = (out_samples - 1) * system.dt\n",
    "\n",
    "    xout = np.zeros((out_samples, system.A.shape[0]), dtype=complex)\n",
    "    yout = np.zeros((out_samples, system.C.shape[0]), dtype=complex)\n",
    "    tout = np.linspace(0.0, stoptime, num=out_samples)\n",
    "\n",
    "    xout[0, :] = np.zeros((system.A.shape[1],), dtype=complex)\n",
    "\n",
    "    u_dt = u\n",
    "\n",
    "    # Simulate the system\n",
    "    for i in range(0, out_samples - 1):\n",
    "        xout[i+1, :] = (np.dot(system.A, xout[i, :]) +\n",
    "                        np.dot(system.B, u_dt[i, :]))\n",
    "        yout[i, :] = (np.dot(system.C, xout[i, :]) +\n",
    "                    np.dot(system.D, u_dt[i, :]))\n",
    "\n",
    "    # Last point\n",
    "    yout[out_samples-1, :] = (np.dot(system.C, xout[out_samples-1, :]) +\n",
    "                            np.dot(system.D, u_dt[out_samples-1, :]))\n",
    "\n",
    "    return tout, yout, xout"
   ]
  },
  {
   "cell_type": "code",
   "execution_count": 49,
   "metadata": {},
   "outputs": [
    {
     "name": "stderr",
     "output_type": "stream",
     "text": [
      "No artists with labels found to put in legend.  Note that artists whose label start with an underscore are ignored when legend() is called with no argument.\n"
     ]
    },
    {
     "data": {
      "image/png": "[encoded data removed]",
      "text/plain": [
       "<Figure size 640x480 with 1 Axes>"
      ]
     },
     "metadata": {},
     "output_type": "display_data"
    }
   ],
   "source": [
    "netlist = {\n",
    "    \"instances\": {\n",
    "        \"wg\": \"waveguide\",\n",
    "    },\n",
    "    \"connections\": {},\n",
    "    \"ports\": {\n",
    "        \"o0\": \"wg,o0\",\n",
    "        \"o1\": \"wg,o1\",\n",
    "    }\n",
    "}\n",
    "circuit, info = sax.circuit(\n",
    "    netlist=netlist,\n",
    "    models={\n",
    "        \"waveguide\": ideal.waveguide,\n",
    "    }\n",
    ")\n",
    "\n",
    "wvl_microns = np.linspace(1.51, 1.59, 200)\n",
    "center_wvl = 1.55\n",
    "\n",
    "ckt = circuit(wl=wvl_microns, wg={\"length\": 100, \"loss\": 50})\n",
    "s_params = np.asarray(dict_to_matrix(ckt))\n",
    "plt.plot(wvl_microns, np.abs(s_params[:, 0, 1])**2)\n",
    "T = 1e-12\n",
    "\n",
    "baseband_model  = BasebandModel(wvl_microns, center_wvl, s_params, 50)\n",
    "response = baseband_model.compute_response(1, 0)\n",
    "plt.plot(wvl_microns, np.abs(response)**2)\n",
    "y = baseband_model.generate_sys_discrete()\n",
    "#s_system = signal.dlti(y.A, y.B, y.C, y.D, dt = y.dt)\n",
    "s_system = StateSpace(y.A, y.B, y.C, y.D, dt = y.dt)\n",
    "# t = np.linspace(0.0, T, int(abs(T/y.dt)))\n",
    "T = 8e-12\n",
    "t = np.arange(0.0, T, y.dt)\n",
    "u1 = np.zeros_like(t, dtype=complex)\n",
    "u1[100:250] = 1\n",
    "u2 = np.zeros_like(t, dtype=complex)\n",
    "u = np.vstack([u1,u2]).T\n",
    "\n",
    "input_signal = np.zeros((100, 2), dtype=complex)\n",
    "\n",
    "input_signal[:, 1] = 0.0 + 0.0*1j\n",
    "# t_out,y_out,x_out = dlsim_complex(s_system, u) \n",
    "t_out,y_out,x_out = dlsim_complex(s_system, u) \n",
    "plt.clf()\n",
    "plt.plot(t_out, np.abs(y_out[:, 1])**2)\n",
    "plt.plot(t_out, np.abs(u)**2)\n",
    "# plt.step(t_out, u, where='post', label='Input: Rectangular Pulse', color='g', alpha=0.6)\n",
    "# plt.step(t_out, y_out, where='post', label='Output response', color='b')\n",
    "# plt.title('Baseband Model Output Response to Rectangular Pulse Input')\n",
    "# plt.xlabel('Time')\n",
    "# plt.ylabel('E-field Amp')\n",
    "\n",
    "# T = 1e-12\n",
    "# baseband_model.compute_state_space_model()\n",
    "# sys = StateSpace(baseband_model.A, baseband_model.B, baseband_model.C, baseband_model.D, dt = 1* 1/baseband_model.sampling_freq)\n",
    "\n",
    "# t = np.linspace(0.0, T, int(abs(T/sys.dt)))\n",
    "# T = 1e-12\n",
    "# u1 = np.zeros_like(t)\n",
    "# u1[100:200] = 1\n",
    "# u2 = np.zeros_like(t)\n",
    "# u = np.vstack([u1,u2]).T\n",
    "\n",
    "# input_signal = np.zeros((100, 2), dtype=complex)\n",
    "\n",
    "# input_signal[:, 1] = 0.0 + 0.0*1j\n",
    "# t_out,y_out,x_out = signal.dlsim(sys, u) \n",
    "# plt.step(t_out, u, where='post', label='Input: Rectangular Pulse', color='g', alpha=0.6)\n",
    "# plt.step(t_out, y_out, where='post', label='Output response', color='b')\n",
    "# plt.title('Baseband Model Output Response to Rectangular Pulse Input')\n",
    "# plt.xlabel('Time')\n",
    "# plt.ylabel('E-field Amp')\n",
    "\n",
    "\n",
    "plt.legend()\n",
    "plt.show()\n",
    "\n"
   ]
  },
  {
   "cell_type": "code",
   "execution_count": 3,
   "metadata": {},
   "outputs": [
    {
     "name": "stdout",
     "output_type": "stream",
     "text": [
      "(199, 2)\n"
     ]
    },
    {
     "data": {
      "text/plain": [
       "(100, 2)"
      ]
     },
     "execution_count": 3,
     "metadata": {},
     "output_type": "execute_result"
    }
   ],
   "source": [
    "print(u.shape)\n",
    "y.B.shape"
   ]
  },
  {
   "cell_type": "code",
   "execution_count": 30,
   "metadata": {},
   "outputs": [
    {
     "data": {
      "text/plain": [
       "array([ 0.00000000e+00+0.00000000e+00j,  0.00000000e+00+0.00000000e+00j,\n",
       "        0.00000000e+00+0.00000000e+00j,  0.00000000e+00+0.00000000e+00j,\n",
       "        0.00000000e+00+0.00000000e+00j,  0.00000000e+00+0.00000000e+00j,\n",
       "        0.00000000e+00+0.00000000e+00j,  0.00000000e+00+0.00000000e+00j,\n",
       "        0.00000000e+00+0.00000000e+00j,  0.00000000e+00+0.00000000e+00j,\n",
       "        0.00000000e+00+0.00000000e+00j,  0.00000000e+00+0.00000000e+00j,\n",
       "        0.00000000e+00+0.00000000e+00j,  0.00000000e+00+0.00000000e+00j,\n",
       "        0.00000000e+00+0.00000000e+00j,  0.00000000e+00+0.00000000e+00j,\n",
       "        0.00000000e+00+0.00000000e+00j,  0.00000000e+00+0.00000000e+00j,\n",
       "        0.00000000e+00+0.00000000e+00j,  0.00000000e+00+0.00000000e+00j,\n",
       "        0.00000000e+00+0.00000000e+00j,  0.00000000e+00+0.00000000e+00j,\n",
       "        0.00000000e+00+0.00000000e+00j,  0.00000000e+00+0.00000000e+00j,\n",
       "        0.00000000e+00+0.00000000e+00j,  0.00000000e+00+0.00000000e+00j,\n",
       "        0.00000000e+00+0.00000000e+00j,  0.00000000e+00+0.00000000e+00j,\n",
       "        0.00000000e+00+0.00000000e+00j,  0.00000000e+00+0.00000000e+00j,\n",
       "        0.00000000e+00+0.00000000e+00j,  0.00000000e+00+0.00000000e+00j,\n",
       "        0.00000000e+00+0.00000000e+00j,  0.00000000e+00+0.00000000e+00j,\n",
       "        0.00000000e+00+0.00000000e+00j,  0.00000000e+00+0.00000000e+00j,\n",
       "        0.00000000e+00+0.00000000e+00j,  0.00000000e+00+0.00000000e+00j,\n",
       "        0.00000000e+00+0.00000000e+00j,  0.00000000e+00+0.00000000e+00j,\n",
       "        0.00000000e+00+0.00000000e+00j,  0.00000000e+00+0.00000000e+00j,\n",
       "        0.00000000e+00+0.00000000e+00j,  0.00000000e+00+0.00000000e+00j,\n",
       "        0.00000000e+00+0.00000000e+00j,  0.00000000e+00+0.00000000e+00j,\n",
       "        0.00000000e+00+0.00000000e+00j,  0.00000000e+00+0.00000000e+00j,\n",
       "        0.00000000e+00+0.00000000e+00j,  0.00000000e+00+0.00000000e+00j,\n",
       "        0.00000000e+00+0.00000000e+00j,  0.00000000e+00+0.00000000e+00j,\n",
       "        0.00000000e+00+0.00000000e+00j,  0.00000000e+00+0.00000000e+00j,\n",
       "        0.00000000e+00+0.00000000e+00j,  0.00000000e+00+0.00000000e+00j,\n",
       "        0.00000000e+00+0.00000000e+00j,  0.00000000e+00+0.00000000e+00j,\n",
       "        0.00000000e+00+0.00000000e+00j,  0.00000000e+00+0.00000000e+00j,\n",
       "        0.00000000e+00+0.00000000e+00j,  0.00000000e+00+0.00000000e+00j,\n",
       "        0.00000000e+00+0.00000000e+00j,  0.00000000e+00+0.00000000e+00j,\n",
       "        0.00000000e+00+0.00000000e+00j,  0.00000000e+00+0.00000000e+00j,\n",
       "        0.00000000e+00+0.00000000e+00j,  0.00000000e+00+0.00000000e+00j,\n",
       "        0.00000000e+00+0.00000000e+00j,  0.00000000e+00+0.00000000e+00j,\n",
       "        0.00000000e+00+0.00000000e+00j,  0.00000000e+00+0.00000000e+00j,\n",
       "        0.00000000e+00+0.00000000e+00j,  0.00000000e+00+0.00000000e+00j,\n",
       "        0.00000000e+00+0.00000000e+00j,  0.00000000e+00+0.00000000e+00j,\n",
       "        0.00000000e+00+0.00000000e+00j,  0.00000000e+00+0.00000000e+00j,\n",
       "        0.00000000e+00+0.00000000e+00j,  0.00000000e+00+0.00000000e+00j,\n",
       "        0.00000000e+00+0.00000000e+00j,  0.00000000e+00+0.00000000e+00j,\n",
       "        0.00000000e+00+0.00000000e+00j,  0.00000000e+00+0.00000000e+00j,\n",
       "        0.00000000e+00+0.00000000e+00j,  0.00000000e+00+0.00000000e+00j,\n",
       "        0.00000000e+00+0.00000000e+00j,  0.00000000e+00+0.00000000e+00j,\n",
       "        0.00000000e+00+0.00000000e+00j,  0.00000000e+00+0.00000000e+00j,\n",
       "        0.00000000e+00+0.00000000e+00j,  0.00000000e+00+0.00000000e+00j,\n",
       "        0.00000000e+00+0.00000000e+00j,  0.00000000e+00+0.00000000e+00j,\n",
       "        0.00000000e+00+0.00000000e+00j,  0.00000000e+00+0.00000000e+00j,\n",
       "        0.00000000e+00+0.00000000e+00j,  0.00000000e+00+0.00000000e+00j,\n",
       "        0.00000000e+00+0.00000000e+00j,  0.00000000e+00+0.00000000e+00j,\n",
       "        1.68341165e-03+1.37392313e-03j, -2.07163719e-03-1.66736462e-03j,\n",
       "       -1.72726849e-03-1.38956557e-03j, -1.56497178e-04-1.37009133e-04j,\n",
       "        1.19081138e-03+9.27983068e-04j,  1.77355667e-03+1.38417925e-03j,\n",
       "        1.57810374e-03+1.23110509e-03j,  8.48306862e-04+6.67115239e-04j,\n",
       "       -9.41174338e-05-5.46317023e-05j, -9.58390475e-04-7.10677790e-04j,\n",
       "       -1.54023374e-03-1.14824997e-03j, -1.73953424e-03-1.29622461e-03j,\n",
       "       -1.55304459e-03-1.15708459e-03j, -1.05261239e-03-7.88507275e-04j,\n",
       "       -3.57080350e-04-2.81040757e-04j,  3.96182234e-04+2.63605228e-04j,\n",
       "        1.07609833e-03+7.50775464e-04j,  1.57669632e-03+1.10606352e-03j,\n",
       "        1.82891956e-03+1.28300816e-03j,  1.80548586e-03+1.26558769e-03j,\n",
       "        1.51960557e-03+1.06632462e-03j,  1.01885085e-03+7.21107383e-04j,\n",
       "        3.75713360e-04+2.81946416e-04j, -3.23565942e-04-1.91152700e-04j,\n",
       "       -9.90421945e-04-6.38156029e-04j, -1.54439580e-03-1.00597380e-03j,\n",
       "       -1.92161651e-03-1.25384898e-03j, -2.08070885e-03-1.35682457e-03j,\n",
       "       -2.00583378e-03-1.30719022e-03j, -1.70687276e-03-1.11401461e-03j,\n",
       "       -1.21702789e-03-8.01033949e-04j, -5.88310761e-04-4.03281440e-04j,\n",
       "        1.14471243e-04+3.70922274e-05j,  8.20554731e-04+4.75339666e-04j,\n",
       "        1.46020471e-03+8.68535072e-04j,  1.97121370e-03+1.17950387e-03j,\n",
       "        2.30438211e-03+1.37995983e-03j,  2.42757587e-03+1.45264321e-03j,\n",
       "        2.32810618e-03+1.39235639e-03j,  2.01333184e-03+1.20589369e-03j,\n",
       "        1.50953399e-03+9.10952379e-04j,  8.59247304e-04+5.34186036e-04j,\n",
       "        1.17340370e-04+1.08616728e-04j, -6.53782245e-04-3.29344303e-04j,\n",
       "       -1.38943820e-03-7.43006054e-04j, -2.02795568e-03-1.09838486e-03j,\n",
       "       -2.51558206e-03-1.36684370e-03j, -2.81065161e-03-1.52719975e-03j,\n",
       "       -2.88672322e-03-1.56716772e-03j, -2.73448724e-03-1.48406432e-03j,\n",
       "       -4.04575030e-03-2.65868084e-03j,  2.76023249e-04+6.82462929e-04j,\n",
       "        6.52683839e-04+7.82021665e-04j, -9.48878763e-05-4.42279784e-05j,\n",
       "       -5.76931751e-04-6.65794149e-04j, -3.16007412e-04-6.94157633e-04j,\n",
       "        6.38922897e-04-1.60055685e-04j,  1.98696365e-03+7.10652812e-04j,\n",
       "        3.35897198e-03+1.64289396e-03j,  4.42971134e-03+2.39832200e-03j,\n",
       "        4.97584440e-03+2.81721605e-03j,  4.89495545e-03+2.82978674e-03j,\n",
       "        4.19845779e-03+2.44790125e-03j,  2.98888168e-03+1.74589892e-03j,\n",
       "        1.42976054e-03+8.37023774e-04j, -2.85779491e-04-1.49903008e-04j,\n",
       "       -1.96350667e-03-1.09057448e-03j, -3.43104607e-03-1.88039405e-03j,\n",
       "       -4.55404749e-03-2.44416659e-03j, -5.24533076e-03-2.74045162e-03j,\n",
       "       -5.46754438e-03-2.76127503e-03j, -5.23038143e-03-2.52821013e-03j,\n",
       "       -4.58368235e-03-2.08597416e-03j, -3.60785153e-03-1.49468025e-03j,\n",
       "       -2.40296516e-03-8.21775437e-04j, -1.07778976e-03-1.34515926e-04j,\n",
       "        2.60298419e-04+5.06385574e-04j,  1.51376881e-03+1.05153435e-03j,\n",
       "        2.60131657e-03+1.46586243e-03j,  3.46197616e-03+1.72987700e-03j,\n",
       "        4.05700305e-03+1.83931096e-03j,  4.36973978e-03+1.80345282e-03j,\n",
       "        4.40381321e-03+1.64250465e-03j,  4.18008872e-03+1.38434673e-03j,\n",
       "        3.73283682e-03+1.06108097e-03j,  3.10555423e-03+7.05688191e-04j,\n",
       "        2.34683369e-03+3.49075709e-04j,  1.50660351e-03+1.77183024e-05j,\n",
       "        6.32969818e-04-2.67983317e-04j, -2.30199494e-04-4.94580767e-04j,\n",
       "       -1.04490014e-03-6.55718358e-04j, -1.77985779e-03-7.51620507e-04j,\n",
       "       -2.41073131e-03-7.88055972e-04j, -2.91979450e-03-7.74937168e-04j,\n",
       "       -3.29526297e-03-7.24724864e-04j, -3.53043828e-03-6.50805185e-04j,\n",
       "       -3.62282846e-03-5.65989165e-04j, -3.57337698e-03-4.81257991e-04j,\n",
       "       -3.38589411e-03-4.04842759e-04j])"
      ]
     },
     "execution_count": 30,
     "metadata": {},
     "output_type": "execute_result"
    }
   ],
   "source": [
    "y_out[:, 1]\n"
   ]
  },
  {
   "cell_type": "code",
   "execution_count": null,
   "metadata": {},
   "outputs": [],
   "source": []
  }
 ],
 "metadata": {
  "kernelspec": {
   "display_name": "gds",
   "language": "python",
   "name": "python3"
  },
  "language_info": {
   "codemirror_mode": {
    "name": "ipython",
    "version": 3
   },
   "file_extension": ".py",
   "mimetype": "text/x-python",
   "name": "python",
   "nbconvert_exporter": "python",
   "pygments_lexer": "ipython3",
   "version": "3.11.7"
  }
 },
 "nbformat": 4,
 "nbformat_minor": 2
}
