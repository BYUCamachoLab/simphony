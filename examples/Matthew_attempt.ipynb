{
 "cells": [
  {
   "cell_type": "code",
   "execution_count": 1,
   "metadata": {},
   "outputs": [],
   "source": [
    "import jax\n",
    "from jax import config\n",
    "config.update(\"jax_enable_x64\", True)\n",
    "import jax.numpy as jnp\n",
    "import numpy as np\n",
    "import matplotlib.pyplot as plt\n",
    "import sax\n",
    "import pandas as pd\n",
    "import simphony\n",
    "from simphony.quantum import QuantumTimeElement\n",
    "from simphony.libraries import siepic, ideal\n",
    "from simphony.utils import smooth_rectangular_pulse, dict_to_matrix, gaussian_pulse\n",
    "from simphony.time_domain.baseband_vector_fitting import BasebandModel\n",
    "from scipy import signal\n",
    "from scipy.signal import  StateSpace, dlsim\n"
   ]
  },
  {
   "cell_type": "code",
   "execution_count": 2,
   "metadata": {},
   "outputs": [],
   "source": [
    "def dlsim_complex(system, u, t=None, x0=None):\n",
    "    out_samples = len(u)\n",
    "    stoptime = (out_samples - 1) * system.dt\n",
    "\n",
    "    xout = np.zeros((out_samples, system.A.shape[0]), dtype=complex)\n",
    "    yout = np.zeros((out_samples, system.C.shape[0]), dtype=complex)\n",
    "    tout = np.linspace(0.0, stoptime, num=out_samples)\n",
    "\n",
    "    xout[0, :] = np.zeros((system.A.shape[1],), dtype=complex)\n",
    "\n",
    "    u_dt = u\n",
    "\n",
    "    # Simulate the system\n",
    "    for i in range(0, out_samples - 1):\n",
    "        xout[i+1, :] = (np.dot(system.A, xout[i, :]) +\n",
    "                        np.dot(system.B, u_dt[i, :]))\n",
    "        yout[i, :] = (np.dot(system.C, xout[i, :]) +\n",
    "                    np.dot(system.D, u_dt[i, :]))\n",
    "\n",
    "    # Last point\n",
    "    yout[out_samples-1, :] = (np.dot(system.C, xout[out_samples-1, :]) +\n",
    "                            np.dot(system.D, u_dt[out_samples-1, :]))\n",
    "\n",
    "    return tout, yout, xout"
   ]
  },
  {
   "cell_type": "code",
   "execution_count": 3,
   "metadata": {},
   "outputs": [
    {
     "name": "stderr",
     "output_type": "stream",
     "text": [
      "An NVIDIA GPU may be present on this machine, but a CUDA-enabled jaxlib is not installed. Falling back to cpu.\n",
      "No artists with labels found to put in legend.  Note that artists whose label start with an underscore are ignored when legend() is called with no argument.\n"
     ]
    },
    {
     "data": {
      "image/png": "[encoded data removed]",
      "text/plain": [
       "<Figure size 640x480 with 1 Axes>"
      ]
     },
     "metadata": {},
     "output_type": "display_data"
    }
   ],
   "source": [
    "netlist = {\n",
    "    \"instances\": {\n",
    "        \"wg\": \"waveguide\",\n",
    "    },\n",
    "    \"connections\": {},\n",
    "    \"ports\": {\n",
    "        \"o0\": \"wg,o0\",\n",
    "        \"o1\": \"wg,o1\",\n",
    "    }\n",
    "}\n",
    "circuit, info = sax.circuit(\n",
    "    netlist=netlist,\n",
    "    models={\n",
    "        \"waveguide\": ideal.waveguide,\n",
    "    }\n",
    ")\n",
    "\n",
    "wvl_microns = np.linspace(1.51, 1.59, 200)\n",
    "center_wvl = 1.55\n",
    "\n",
    "ckt = circuit(wl=wvl_microns, wg={\"length\": 100, \"loss\": 50})\n",
    "s_params = np.asarray(dict_to_matrix(ckt))\n",
    "plt.plot(wvl_microns, np.abs(s_params[:, 0, 1])**2)\n",
    "T = 1e-12\n",
    "\n",
    "baseband_model  = BasebandModel(wvl_microns, center_wvl, s_params, 50)\n",
    "response = baseband_model.compute_response(1, 0)\n",
    "plt.plot(wvl_microns, np.abs(response)**2)\n",
    "y = baseband_model.generate_sys_discrete()\n",
    "#s_system = signal.dlti(y.A, y.B, y.C, y.D, dt = y.dt)\n",
    "s_system = StateSpace(y.A, y.B, y.C, y.D, dt = y.dt)\n",
    "# t = np.linspace(0.0, T, int(abs(T/y.dt)))\n",
    "T = 8e-12\n",
    "t = np.arange(0.0, T, y.dt)\n",
    "u1 = np.zeros_like(t, dtype=complex)\n",
    "u1[100:250] = 1\n",
    "u2 = np.zeros_like(t, dtype=complex)\n",
    "u = np.vstack([u1,u2]).T\n",
    "\n",
    "input_signal = np.zeros((100, 2), dtype=complex)\n",
    "\n",
    "input_signal[:, 1] = 0.0 + 0.0*1j\n",
    "# t_out,y_out,x_out = dlsim_complex(s_system, u) \n",
    "t_out,y_out,x_out = dlsim_complex(s_system, u) \n",
    "plt.clf()\n",
    "plt.plot(t_out, np.abs(y_out[:, 1])**2)\n",
    "plt.plot(t_out, np.abs(u)**2)\n",
    "# plt.step(t_out, u, where='post', label='Input: Rectangular Pulse', color='g', alpha=0.6)\n",
    "# plt.step(t_out, y_out, where='post', label='Output response', color='b')\n",
    "# plt.title('Baseband Model Output Response to Rectangular Pulse Input')\n",
    "# plt.xlabel('Time')\n",
    "# plt.ylabel('E-field Amp')\n",
    "\n",
    "# T = 1e-12\n",
    "# baseband_model.compute_state_space_model()\n",
    "# sys = StateSpace(baseband_model.A, baseband_model.B, baseband_model.C, baseband_model.D, dt = 1* 1/baseband_model.sampling_freq)\n",
    "\n",
    "# t = np.linspace(0.0, T, int(abs(T/sys.dt)))\n",
    "# T = 1e-12\n",
    "# u1 = np.zeros_like(t)\n",
    "# u1[100:200] = 1\n",
    "# u2 = np.zeros_like(t)\n",
    "# u = np.vstack([u1,u2]).T\n",
    "\n",
    "# input_signal = np.zeros((100, 2), dtype=complex)\n",
    "\n",
    "# input_signal[:, 1] = 0.0 + 0.0*1j\n",
    "# t_out,y_out,x_out = signal.dlsim(sys, u) \n",
    "# plt.step(t_out, u, where='post', label='Input: Rectangular Pulse', color='g', alpha=0.6)\n",
    "# plt.step(t_out, y_out, where='post', label='Output response', color='b')\n",
    "# plt.title('Baseband Model Output Response to Rectangular Pulse Input')\n",
    "# plt.xlabel('Time')\n",
    "# plt.ylabel('E-field Amp')\n",
    "\n",
    "\n",
    "plt.legend()\n",
    "plt.show()\n",
    "\n"
   ]
  },
  {
   "cell_type": "code",
   "execution_count": 91,
   "metadata": {},
   "outputs": [
    {
     "data": {
      "text/plain": [
       "[<matplotlib.lines.Line2D at 0x7fc20f906150>]"
      ]
     },
     "execution_count": 91,
     "metadata": {},
     "output_type": "execute_result"
    },
    {
     "data": {
      "image/png": "[encoded data removed]",
      "text/plain": [
       "<Figure size 640x480 with 1 Axes>"
      ]
     },
     "metadata": {},
     "output_type": "display_data"
    }
   ],
   "source": [
    "baseband_model.poles.shape\n",
    "baseband_model.residues.shape\n",
    "\n",
    "def compute_impulse_response(dpr_model, N = 1600):\n",
    "    num_ports = dpr_model.num_ports\n",
    "    response = np.zeros([N, num_ports, num_ports], dtype=complex)\n",
    "\n",
    "    poles = dpr_model.poles\n",
    "\n",
    "    for a in range(num_ports):\n",
    "        for b in range(num_ports):\n",
    "            residues = dpr_model.residues[:, a, b]\n",
    "            dt = np.abs(1 / dpr_model.sampling_freq)\n",
    "            t = np.linspace(0, dt*N, N)\n",
    "\n",
    "            response[0, a, b] = dpr_model.D[a, b]\n",
    "            for n in range(1, t.shape[0]):\n",
    "                for p, r in zip(poles, residues):\n",
    "                    response[n, a, b] += r*(p**(n-1))\n",
    "\n",
    "    return t, response\n",
    "\n",
    "t, impulse_response = compute_impulse_response(baseband_model)\n",
    "plt.plot(t, np.abs(impulse_response[:, 0, 1])**2)\n",
    "# plt.plot(t, np.angle(response))"
   ]
  },
  {
   "cell_type": "code",
   "execution_count": 109,
   "metadata": {},
   "outputs": [],
   "source": [
    "from simphony.quantum import QuantumState, CoherentState, SqueezedState, compose_qstate\n",
    "\n",
    "\n",
    "def to_unitary(s_params):\n",
    "    \"\"\"This method converts s-parameters into a unitary transform by adding\n",
    "    vacuum ports.\n",
    "\n",
    "    The original ports maintain their index while new vacuum ports will\n",
    "    always be the last n_ports.\n",
    "\n",
    "    Parameters\n",
    "    ----------\n",
    "    s_params : ArrayLike\n",
    "        s-parameters in the shape of (n_freq, n_ports, n_ports).\n",
    "\n",
    "    Returns\n",
    "    -------\n",
    "    unitary : Array\n",
    "        The unitary s-parameters of the shape (n_freq, 2*n_ports,\n",
    "        2*n_ports).\n",
    "    \"\"\"\n",
    "    n_freqs, n_ports, _ = s_params.shape\n",
    "    new_n_ports = n_ports * 2\n",
    "    unitary = jnp.zeros((n_freqs, new_n_ports, new_n_ports), dtype=complex)\n",
    "    for f in range(n_freqs):\n",
    "        unitary = unitary.at[f, :n_ports, :n_ports].set(s_params[f])\n",
    "        unitary = unitary.at[f, n_ports:, n_ports:].set(s_params[f])\n",
    "        for i in range(n_ports):\n",
    "            val = jnp.sqrt(\n",
    "                1 - unitary[f, :n_ports, i].dot(unitary[f, :n_ports, i].conj())\n",
    "            )\n",
    "            unitary = unitary.at[f, n_ports + i, i].set(val)\n",
    "            unitary = unitary.at[f, i, n_ports + i].set(-val)\n",
    "\n",
    "    return unitary\n",
    "\n",
    "\n",
    "def compute_unitary_matrices(impulse_response):\n",
    "    unitary_matrices = np.zeros([impulse_response.shape[0], 2*impulse_response.shape[1], 2*impulse_response.shape[2]])\n",
    "\n",
    "    # You can think of the transformation matrix as instaneous s-parameters\n",
    "    for n in range(impulse_response.shape[0]):\n",
    "        transformation_matrix = np.expand_dims(impulse_response[n], axis=0)\n",
    "        unitary_matrices[n, :, :] = (to_unitary(transformation_matrix))\n",
    "    \n",
    "    return unitary_matrices\n",
    "    \n"
   ]
  },
  {
   "cell_type": "code",
   "execution_count": 93,
   "metadata": {},
   "outputs": [
    {
     "data": {
      "image/png": "[encoded data removed]",
      "text/plain": [
       "<Figure size 640x480 with 1 Axes>"
      ]
     },
     "metadata": {},
     "output_type": "display_data"
    }
   ],
   "source": [
    "def quantum_input(amplitudes):\n",
    "    states = []\n",
    "    for amp in amplitudes:\n",
    "        in_state = SqueezedState(\"o0\", r=1.0, phi=0, alpha=amp/2 + 1j*amp/2)\n",
    "        vac = CoherentState(\"o1\", 0.0 + 0.0j)\n",
    "        qstate = compose_qstate(in_state, vac)\n",
    "        qstate._add_vacuums(2)\n",
    "        qstate.to_xxpp()\n",
    "        states.append(qstate)\n",
    "    \n",
    "    return states\n",
    "\n",
    "amplitudes = gaussian_pulse(t, T/4, T/50)\n",
    "plt.plot(t, amplitudes)\n",
    "in_states = quantum_input(amplitudes)"
   ]
  },
  {
   "cell_type": "code",
   "execution_count": 111,
   "metadata": {},
   "outputs": [
    {
     "name": "stderr",
     "output_type": "stream",
     "text": [
      "/tmp/ipykernel_4772/1824945911.py:44: ComplexWarning: Casting complex values to real discards the imaginary part\n",
      "  unitary_matrices[n, :, :] = (to_unitary(transformation_matrix))\n"
     ]
    },
    {
     "data": {
      "text/plain": [
       "(1600, 4, 4)"
      ]
     },
     "execution_count": 111,
     "metadata": {},
     "output_type": "execute_result"
    }
   ],
   "source": [
    "quantum_unitaries = compute_unitary_matrices(impulse_response)\n",
    "quantum_unitaries.shape"
   ]
  },
  {
   "cell_type": "code",
   "execution_count": 106,
   "metadata": {},
   "outputs": [
    {
     "data": {
      "text/plain": [
       "1600"
      ]
     },
     "execution_count": 106,
     "metadata": {},
     "output_type": "execute_result"
    }
   ],
   "source": [
    "len(quantum_unitaries)"
   ]
  },
  {
   "cell_type": "code",
   "execution_count": 5,
   "metadata": {},
   "outputs": [
    {
     "data": {
      "text/plain": [
       "-199786718647174.38"
      ]
     },
     "execution_count": 5,
     "metadata": {},
     "output_type": "execute_result"
    }
   ],
   "source": [
    "baseband_model.sampling_freq"
   ]
  },
  {
   "cell_type": "code",
   "execution_count": 6,
   "metadata": {},
   "outputs": [
    {
     "name": "stdout",
     "output_type": "stream",
     "text": [
      "(1599, 2)\n"
     ]
    },
    {
     "data": {
      "text/plain": [
       "(100, 2)"
      ]
     },
     "execution_count": 6,
     "metadata": {},
     "output_type": "execute_result"
    }
   ],
   "source": [
    "print(u.shape)\n",
    "y.B.shape"
   ]
  },
  {
   "cell_type": "code",
   "execution_count": 7,
   "metadata": {},
   "outputs": [
    {
     "data": {
      "text/plain": [
       "array([0.00000000e+00+0.00000000e+00j, 0.00000000e+00+0.00000000e+00j,\n",
       "       0.00000000e+00+0.00000000e+00j, ...,\n",
       "       2.59786629e-08+7.24985445e-08j, 1.83476545e-08+1.17450440e-07j,\n",
       "       1.04887689e-08+1.56862018e-07j])"
      ]
     },
     "execution_count": 7,
     "metadata": {},
     "output_type": "execute_result"
    }
   ],
   "source": [
    "y_out[:, 1]\n"
   ]
  },
  {
   "cell_type": "code",
   "execution_count": null,
   "metadata": {},
   "outputs": [],
   "source": []
  }
 ],
 "metadata": {
  "kernelspec": {
   "display_name": "gds",
   "language": "python",
   "name": "python3"
  },
  "language_info": {
   "codemirror_mode": {
    "name": "ipython",
    "version": 3
   },
   "file_extension": ".py",
   "mimetype": "text/x-python",
   "name": "python",
   "nbconvert_exporter": "python",
   "pygments_lexer": "ipython3",
   "version": "3.11.7"
  }
 },
 "nbformat": 4,
 "nbformat_minor": 2
}
