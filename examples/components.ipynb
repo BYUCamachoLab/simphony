{
 "cells": [
  {
   "cell_type": "code",
   "execution_count": 1,
   "id": "a3f65be3",
   "metadata": {},
   "outputs": [
    {
     "name": "stderr",
     "output_type": "stream",
     "text": [
      "/home/wyrgly/code/camacho/simphony/.venv/lib/python3.12/site-packages/gravis/_internal/plotting/template_system.py:5: UserWarning: pkg_resources is deprecated as an API. See https://setuptools.pypa.io/en/latest/pkg_resources.html. The pkg_resources package is slated for removal as early as 2025-11-30. Refrain from using this package or pin to Setuptools<81.\n",
      "  import pkg_resources as _pkg_resources\n"
     ]
    }
   ],
   "source": [
    "from simphony.signals import optical_signal, electrical_signal\n",
    "import numpy as np\n",
    "osig = optical_signal(field=1.0)\n",
    "esig = electrical_signal(voltage=0.5)\n",
    "\n",
    "from simphony.libraries.analytic import PhaseModulator\n",
    "pm = PhaseModulator()\n",
    "inputs = {\n",
    "    \"o0\": osig,\n",
    "    \"o1\": osig,\n",
    "    \"e0\": esig,\n",
    "}"
   ]
  },
  {
   "cell_type": "code",
   "execution_count": 3,
   "id": "0e9f85f3",
   "metadata": {},
   "outputs": [
    {
     "name": "stdout",
     "output_type": "stream",
     "text": [
      "0.0017010590017889626\n",
      "0.0004152190012973733\n"
     ]
    }
   ],
   "source": [
    "import time\n",
    "\n",
    "tic = time.perf_counter()\n",
    "result = pm.steady_state(inputs)\n",
    "toc = time.perf_counter()\n",
    "elapsed_time = toc - tic\n",
    "print(elapsed_time)\n",
    "\n",
    "tic = time.perf_counter()\n",
    "result = pm.steady_state(inputs)\n",
    "toc = time.perf_counter()\n",
    "elapsed_time = toc - tic\n",
    "print(elapsed_time)"
   ]
  },
  {
   "cell_type": "code",
   "execution_count": null,
   "id": "084930f1",
   "metadata": {},
   "outputs": [],
   "source": []
  },
  {
   "cell_type": "code",
   "execution_count": null,
   "id": "f93cdfdc",
   "metadata": {},
   "outputs": [],
   "source": []
  }
 ],
 "metadata": {
  "kernelspec": {
   "display_name": ".venv",
   "language": "python",
   "name": "python3"
  },
  "language_info": {
   "codemirror_mode": {
    "name": "ipython",
    "version": 3
   },
   "file_extension": ".py",
   "mimetype": "text/x-python",
   "name": "python",
   "nbconvert_exporter": "python",
   "pygments_lexer": "ipython3",
   "version": "3.12.3"
  }
 },
 "nbformat": 4,
 "nbformat_minor": 5
}
