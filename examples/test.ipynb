{
 "cells": [
  {
   "cell_type": "code",
   "execution_count": null,
   "id": "437315ee",
   "metadata": {},
   "outputs": [],
   "source": [
    "import numpy as np\n",
    "\n",
    "def s_to_symplectic(S: np.ndarray) -> np.ndarray:\n",
    "    \"\"\"\n",
    "    Convert a unitary scattering matrix S (N x N complex) to\n",
    "    its corresponding symplectic matrix F (2N x 2N real).\n",
    "\n",
    "    Parameters:\n",
    "    -----------\n",
    "    S : np.ndarray\n",
    "        Complex unitary scattering matrix of shape (N, N).\n",
    "\n",
    "    Returns:\n",
    "    --------\n",
    "    F : np.ndarray\n",
    "        Real symplectic matrix of shape (2N, 2N).\n",
    "    \"\"\"\n",
    "    # Check if S is square\n",
    "    N = S.shape[0]\n",
    "    assert S.shape == (N, N), \"S must be square\"\n",
    "\n",
    "    # Real and imaginary parts\n",
    "    Re = np.real(S)\n",
    "    Im = np.imag(S)\n",
    "\n",
    "    # Construct symplectic matrix\n",
    "    top = np.hstack((Re, -Im))\n",
    "    bottom = np.hstack((Im, Re))\n",
    "    F = np.vstack((top, bottom))\n",
    "\n",
    "    # Optional: verify symplectic condition F Ω F^T = Ω\n",
    "    # Ω = np.block([\n",
    "    #     [np.zeros((N,N)), np.eye(N)],\n",
    "    #     [-np.eye(N), np.zeros((N,N))]\n",
    "    # ])\n",
    "    # assert np.allclose(F @ Ω @ F.T, Ω), \"F is not symplectic!\"\n",
    "\n",
    "    return F\n",
    "import numpy as np\n",
    "\n",
    "def symplectic_omega(N: int) -> np.ndarray:\n",
    "    \"\"\"\n",
    "    Generate the symplectic form matrix Omega for N modes.\n",
    "\n",
    "    Parameters:\n",
    "    -----------\n",
    "    N : int\n",
    "        Number of modes.\n",
    "\n",
    "    Returns:\n",
    "    --------\n",
    "    Omega : np.ndarray\n",
    "        The 2N x 2N symplectic form matrix.\n",
    "    \"\"\"\n",
    "    # 2x2 block\n",
    "    omega_block = np.array([[0, 1],\n",
    "                            [-1, 0]])\n",
    "\n",
    "    # Build block diagonal Omega with N copies of omega_block\n",
    "    Omega = np.kron(np.eye(N), omega_block)\n",
    "\n",
    "    return Omega\n"
   ]
  },
  {
   "cell_type": "code",
   "execution_count": 14,
   "id": "39bacf97",
   "metadata": {},
   "outputs": [
    {
     "data": {
      "text/plain": [
       "array([[1.+0.j, 0.+0.j],\n",
       "       [0.+0.j, 1.+0.j]])"
      ]
     },
     "execution_count": 14,
     "metadata": {},
     "output_type": "execute_result"
    }
   ],
   "source": [
    "S = 1/np.sqrt(2)*np.array([[1, 1j], [1j, 1]])\n",
    "F = s_to_symplectic(S)\n",
    "S@S.conj().T"
   ]
  },
  {
   "cell_type": "code",
   "execution_count": 15,
   "id": "5edf56a8",
   "metadata": {},
   "outputs": [
    {
     "name": "stdout",
     "output_type": "stream",
     "text": [
      "[[ 0.00000000e+00 -2.23711432e-17  1.00000000e+00  0.00000000e+00]\n",
      " [ 2.23711432e-17  0.00000000e+00  0.00000000e+00 -1.00000000e+00]\n",
      " [-1.00000000e+00  0.00000000e+00  0.00000000e+00  2.23711432e-17]\n",
      " [ 0.00000000e+00  1.00000000e+00 -2.23711432e-17  0.00000000e+00]]\n"
     ]
    }
   ],
   "source": [
    "Omega = symplectic_omega(2)\n",
    "print(F@Omega@F.T)"
   ]
  }
 ],
 "metadata": {
  "kernelspec": {
   "display_name": ".venv (3.12.3)",
   "language": "python",
   "name": "python3"
  },
  "language_info": {
   "codemirror_mode": {
    "name": "ipython",
    "version": 3
   },
   "file_extension": ".py",
   "mimetype": "text/x-python",
   "name": "python",
   "nbconvert_exporter": "python",
   "pygments_lexer": "ipython3",
   "version": "3.12.3"
  }
 },
 "nbformat": 4,
 "nbformat_minor": 5
}
