{
 "cells": [
  {
   "cell_type": "code",
   "execution_count": 3,
   "metadata": {},
   "outputs": [
    {
     "name": "stdout",
     "output_type": "stream",
     "text": [
      "The autoreload extension is already loaded. To reload it, use:\n",
      "  %reload_ext autoreload\n"
     ]
    }
   ],
   "source": [
    "%load_ext autoreload\n",
    "%autoreload 2\n",
    "\n",
    "from simphony.libraries.ideal import Waveguide, Coupler\n",
    "from simphony.circuit import Circuit\n",
    "from simphony.simulation import ClassicalSim, Laser, Detector\n",
    "import numpy as jnp"
   ]
  },
  {
   "cell_type": "code",
   "execution_count": 9,
   "metadata": {},
   "outputs": [],
   "source": [
    "a = jnp.arange(16).reshape(4,4)\n",
    "b = jnp.arange(16).reshape(4,4)\n",
    "bt = b.T"
   ]
  },
  {
   "cell_type": "code",
   "execution_count": 57,
   "metadata": {},
   "outputs": [
    {
     "data": {
      "text/plain": [
       "array([[ 0,  1,  2,  3],\n",
       "       [ 4,  5,  6,  7],\n",
       "       [ 8,  9, 10, 11],\n",
       "       [12, 13, 14, 15]])"
      ]
     },
     "execution_count": 57,
     "metadata": {},
     "output_type": "execute_result"
    }
   ],
   "source": [
    "b"
   ]
  },
  {
   "cell_type": "code",
   "execution_count": 58,
   "metadata": {},
   "outputs": [
    {
     "data": {
      "text/plain": [
       "array([[ 0,  4,  8, 12],\n",
       "       [ 1,  5,  9, 13],\n",
       "       [ 2,  6, 10, 14],\n",
       "       [ 3,  7, 11, 15]])"
      ]
     },
     "execution_count": 58,
     "metadata": {},
     "output_type": "execute_result"
    }
   ],
   "source": [
    "bt"
   ]
  },
  {
   "cell_type": "code",
   "execution_count": 61,
   "metadata": {},
   "outputs": [
    {
     "data": {
      "text/plain": [
       "array([0, 1, 2, 3])"
      ]
     },
     "execution_count": 61,
     "metadata": {},
     "output_type": "execute_result"
    }
   ],
   "source": [
    "a[0]"
   ]
  },
  {
   "cell_type": "code",
   "execution_count": 62,
   "metadata": {},
   "outputs": [
    {
     "data": {
      "text/plain": [
       "array([ 0,  4,  8, 12])"
      ]
     },
     "execution_count": 62,
     "metadata": {},
     "output_type": "execute_result"
    }
   ],
   "source": [
    "b[:,0]"
   ]
  },
  {
   "cell_type": "code",
   "execution_count": 63,
   "metadata": {},
   "outputs": [
    {
     "data": {
      "text/plain": [
       "array([ 0,  4,  8, 12])"
      ]
     },
     "execution_count": 63,
     "metadata": {},
     "output_type": "execute_result"
    }
   ],
   "source": [
    "bt[0]"
   ]
  },
  {
   "cell_type": "code",
   "execution_count": 64,
   "metadata": {},
   "outputs": [
    {
     "data": {
      "text/plain": [
       "array([[ 0,  0,  0,  0],\n",
       "       [ 0,  4,  8, 12],\n",
       "       [ 0,  8, 16, 24],\n",
       "       [ 0, 12, 24, 36]])"
      ]
     },
     "execution_count": 64,
     "metadata": {},
     "output_type": "execute_result"
    }
   ],
   "source": [
    "np.outer(a[0], bt[0])"
   ]
  },
  {
   "cell_type": "code",
   "execution_count": 66,
   "metadata": {},
   "outputs": [
    {
     "data": {
      "text/plain": [
       "array([[[  0,   0,   0,   0],\n",
       "        [  0,   4,   8,  12],\n",
       "        [  0,   8,  16,  24],\n",
       "        [  0,  12,  24,  36]],\n",
       "\n",
       "       [[  4,  20,  36,  52],\n",
       "        [  5,  25,  45,  65],\n",
       "        [  6,  30,  54,  78],\n",
       "        [  7,  35,  63,  91]],\n",
       "\n",
       "       [[ 16,  48,  80, 112],\n",
       "        [ 18,  54,  90, 126],\n",
       "        [ 20,  60, 100, 140],\n",
       "        [ 22,  66, 110, 154]],\n",
       "\n",
       "       [[ 36,  84, 132, 180],\n",
       "        [ 39,  91, 143, 195],\n",
       "        [ 42,  98, 154, 210],\n",
       "        [ 45, 105, 165, 225]]])"
      ]
     },
     "execution_count": 66,
     "metadata": {},
     "output_type": "execute_result"
    }
   ],
   "source": [
    "np.einsum('ij,ik->ijk',a,bt)"
   ]
  },
  {
   "cell_type": "code",
   "execution_count": 67,
   "metadata": {},
   "outputs": [
    {
     "data": {
      "text/plain": [
       "array([[[  0,   0,   0,   0],\n",
       "        [  0,   4,   8,  12],\n",
       "        [  0,   8,  16,  24],\n",
       "        [  0,  12,  24,  36]],\n",
       "\n",
       "       [[  4,  20,  36,  52],\n",
       "        [  5,  25,  45,  65],\n",
       "        [  6,  30,  54,  78],\n",
       "        [  7,  35,  63,  91]],\n",
       "\n",
       "       [[ 16,  48,  80, 112],\n",
       "        [ 18,  54,  90, 126],\n",
       "        [ 20,  60, 100, 140],\n",
       "        [ 22,  66, 110, 154]],\n",
       "\n",
       "       [[ 36,  84, 132, 180],\n",
       "        [ 39,  91, 143, 195],\n",
       "        [ 42,  98, 154, 210],\n",
       "        [ 45, 105, 165, 225]]])"
      ]
     },
     "execution_count": 67,
     "metadata": {},
     "output_type": "execute_result"
    }
   ],
   "source": [
    "a[:,:,None]@bt[:,None,:]"
   ]
  },
  {
   "cell_type": "code",
   "execution_count": 12,
   "metadata": {},
   "outputs": [
    {
     "data": {
      "text/plain": [
       "array([[ 2,  3,  0,  1],\n",
       "       [ 4,  6,  0,  2],\n",
       "       [ 6,  9,  0,  3],\n",
       "       [ 8, 12,  0,  4]])"
      ]
     },
     "execution_count": 12,
     "metadata": {},
     "output_type": "execute_result"
    }
   ],
   "source": [
    "np.outer(a,b)"
   ]
  },
  {
   "cell_type": "code",
   "execution_count": 4,
   "metadata": {},
   "outputs": [
    {
     "data": {
      "text/plain": [
       "array([ True,  True, False, False])"
      ]
     },
     "execution_count": 4,
     "metadata": {},
     "output_type": "execute_result"
    }
   ],
   "source": [
    "a = [0,1,4,5]\n",
    "b = np.array([1,2,3,3])\n",
    "a < b"
   ]
  },
  {
   "cell_type": "code",
   "execution_count": 28,
   "metadata": {},
   "outputs": [
    {
     "data": {
      "text/plain": [
       "array([[-0.92994561-0.34037462j]])"
      ]
     },
     "execution_count": 28,
     "metadata": {},
     "output_type": "execute_result"
    }
   ],
   "source": [
    "# Laser and detectors added after circuit creation\n",
    "\n",
    "ckt = Circuit()\n",
    "wg = Waveguide(length=1)\n",
    "coupler = Coupler()\n",
    "ckt.connect(wg.o(0), coupler.o(1))\n",
    "ckt.connect(wg.o(1), coupler.o(2))\n",
    "ckt.expose()\n",
    "\n",
    "laser = Laser(ckt, port=ckt.o(0))\n",
    "detector = Detector(ckt, port=ckt.o(1))\n",
    "\n",
    "# wls = np.linspace(1.53, 1.57, 100)\n",
    "wls = jnp.array([1.55])\n",
    "sim = ClassicalSim(ckt=ckt, wl=wls)\n",
    "result = sim.run()\n",
    "result.output"
   ]
  },
  {
   "cell_type": "code",
   "execution_count": 25,
   "metadata": {},
   "outputs": [
    {
     "ename": "TypeError",
     "evalue": "Laser.__init__() missing 2 required positional arguments: 'ckt' and 'port'",
     "output_type": "error",
     "traceback": [
      "\u001b[0;31m---------------------------------------------------------------------------\u001b[0m",
      "\u001b[0;31mTypeError\u001b[0m                                 Traceback (most recent call last)",
      "Cell \u001b[0;32mIn[25], line 6\u001b[0m\n\u001b[1;32m      4\u001b[0m wg \u001b[39m=\u001b[39m Waveguide(length\u001b[39m=\u001b[39m\u001b[39m1\u001b[39m)\n\u001b[1;32m      5\u001b[0m coupler \u001b[39m=\u001b[39m Coupler()\n\u001b[0;32m----> 6\u001b[0m laser \u001b[39m=\u001b[39m Laser()\n\u001b[1;32m      7\u001b[0m detector \u001b[39m=\u001b[39m Detector()\n\u001b[1;32m      8\u001b[0m ckt\u001b[39m.\u001b[39mconnect(wg\u001b[39m.\u001b[39mo(\u001b[39m0\u001b[39m), coupler\u001b[39m.\u001b[39mo(\u001b[39m1\u001b[39m))\n",
      "\u001b[0;31mTypeError\u001b[0m: Laser.__init__() missing 2 required positional arguments: 'ckt' and 'port'"
     ]
    }
   ],
   "source": [
    "# Laser and dectectors added during circuit creation\n",
    "\n",
    "ckt = Circuit()\n",
    "wg = Waveguide(length=1)\n",
    "coupler = Coupler()\n",
    "laser = Laser()\n",
    "detector = Detector()\n",
    "ckt.connect(wg.o(0), coupler.o(1))\n",
    "ckt.connect(wg.o(1), coupler.o(2))\n",
    "ckt.connect(laser, coupler)\n",
    "ckt.connect(detector, coupler)\n",
    "\n",
    "freq = np.linspace(1.53, 1.57, 100)\n",
    "sim = ClassicalSim(ckt=ckt, freq=freq)\n",
    "result = sim.run()"
   ]
  },
  {
   "cell_type": "code",
   "execution_count": null,
   "metadata": {},
   "outputs": [],
   "source": [
    "# Laser and dectectors added during simulation creation\n",
    "\n",
    "ckt = Circuit()\n",
    "wg = Waveguide(length=1)\n",
    "coupler = Coupler()\n",
    "ckt.connect(wg.o(0), coupler.o(1))\n",
    "ckt.connect(wg.o(1), coupler.o(2))\n",
    "ckt.expose()\n",
    "\n",
    "freq = np.linspace(1.53, 1.57, 100)\n",
    "sim = ClassicalSim(ckt=ckt, freq=freq)\n",
    "laser = Laser(ckt, port=sim.o(0))\n",
    "detector = Detector(ckt, port=sim.o(1))\n",
    "result = sim.run()"
   ]
  },
  {
   "cell_type": "code",
   "execution_count": null,
   "metadata": {},
   "outputs": [],
   "source": []
  },
  {
   "cell_type": "code",
   "execution_count": null,
   "metadata": {},
   "outputs": [],
   "source": [
    "# example quantum simulation\n",
    "from simphony.simulation import QuantumSim, SqueezedState, CoherentState\n",
    "from simphony.circuit import Circuit\n",
    "\n",
    "# circcuit \n",
    "ckt = Circuit()\n",
    "wg1 = Waveguide(length=1)\n",
    "wg2 = Waveguide(length=3)\n",
    "coupler1 = Coupler(coupling=0.75, loss=0.1)\n",
    "ckt.connect()\n",
    "\n",
    "# define input states\n",
    "state1 = SqueezedState(0.5, 0.5)\n",
    "state2 = CoherentState(0.5)\n",
    "\n",
    "freq = 1.55\n",
    "sim = QuantumSim(ckt=ckt, freq=freq)\n"
   ]
  }
 ],
 "metadata": {
  "kernelspec": {
   "display_name": "nojax",
   "language": "python",
   "name": "python3"
  },
  "language_info": {
   "codemirror_mode": {
    "name": "ipython",
    "version": 3
   },
   "file_extension": ".py",
   "mimetype": "text/x-python",
   "name": "python",
   "nbconvert_exporter": "python",
   "pygments_lexer": "ipython3",
   "version": "3.11.0"
  },
  "orig_nbformat": 4
 },
 "nbformat": 4,
 "nbformat_minor": 2
}
