{
 "cells": [
  {
   "cell_type": "code",
   "execution_count": 1,
   "metadata": {},
   "outputs": [],
   "source": [
    "%load_ext autoreload\n",
    "%autoreload 2\n",
    "\n",
    "from simphony.libraries.ideal import Waveguide, Coupler\n",
    "from simphony.circuit import Circuit\n",
    "from simphony.simulation import QuantumSim, QuantumResult, CoherentState, SqueezedState, TwoModeSqueezed, compose_qstate\n",
    "from simphony.simulation import ClassicalSim, Laser, Detector\n",
    "from simphony.utils import polar\n",
    "import numpy as jnp\n",
    "import matplotlib.pyplot as plt\n",
    "import pandas as pd"
   ]
  },
  {
   "cell_type": "code",
   "execution_count": 2,
   "metadata": {},
   "outputs": [
    {
     "data": {
      "text/html": [
       "<div>\n",
       "<style scoped>\n",
       "    .dataframe tbody tr th:only-of-type {\n",
       "        vertical-align: middle;\n",
       "    }\n",
       "\n",
       "    .dataframe tbody tr th {\n",
       "        vertical-align: top;\n",
       "    }\n",
       "\n",
       "    .dataframe thead th {\n",
       "        text-align: right;\n",
       "    }\n",
       "</style>\n",
       "<table border=\"1\" class=\"dataframe\">\n",
       "  <thead>\n",
       "    <tr style=\"text-align: right;\">\n",
       "      <th></th>\n",
       "      <th>0</th>\n",
       "      <th>1</th>\n",
       "      <th>2</th>\n",
       "      <th>3</th>\n",
       "      <th>4</th>\n",
       "      <th>5</th>\n",
       "      <th>6</th>\n",
       "      <th>7</th>\n",
       "      <th>8</th>\n",
       "      <th>9</th>\n",
       "      <th>10</th>\n",
       "      <th>11</th>\n",
       "      <th>12</th>\n",
       "      <th>13</th>\n",
       "      <th>14</th>\n",
       "      <th>15</th>\n",
       "    </tr>\n",
       "  </thead>\n",
       "  <tbody>\n",
       "    <tr>\n",
       "      <th>0</th>\n",
       "      <td>1.0</td>\n",
       "      <td>3.0</td>\n",
       "      <td>0.0</td>\n",
       "      <td>0.0</td>\n",
       "      <td>0.0</td>\n",
       "      <td>0.0</td>\n",
       "      <td>0.0</td>\n",
       "      <td>0.0</td>\n",
       "      <td>2.0</td>\n",
       "      <td>4.0</td>\n",
       "      <td>0.0</td>\n",
       "      <td>0.0</td>\n",
       "      <td>0.0</td>\n",
       "      <td>0.0</td>\n",
       "      <td>0.0</td>\n",
       "      <td>0.0</td>\n",
       "    </tr>\n",
       "  </tbody>\n",
       "</table>\n",
       "</div>"
      ],
      "text/plain": [
       "    0    1    2    3    4    5    6    7    8    9    10   11   12   13   14   \n",
       "0  1.0  3.0  0.0  0.0  0.0  0.0  0.0  0.0  2.0  4.0  0.0  0.0  0.0  0.0  0.0  \\\n",
       "\n",
       "    15  \n",
       "0  0.0  "
      ]
     },
     "metadata": {},
     "output_type": "display_data"
    },
    {
     "data": {
      "text/html": [
       "<div>\n",
       "<style scoped>\n",
       "    .dataframe tbody tr th:only-of-type {\n",
       "        vertical-align: middle;\n",
       "    }\n",
       "\n",
       "    .dataframe tbody tr th {\n",
       "        vertical-align: top;\n",
       "    }\n",
       "\n",
       "    .dataframe thead th {\n",
       "        text-align: right;\n",
       "    }\n",
       "</style>\n",
       "<table border=\"1\" class=\"dataframe\">\n",
       "  <thead>\n",
       "    <tr style=\"text-align: right;\">\n",
       "      <th></th>\n",
       "      <th>0</th>\n",
       "      <th>1</th>\n",
       "      <th>2</th>\n",
       "      <th>3</th>\n",
       "      <th>4</th>\n",
       "      <th>5</th>\n",
       "      <th>6</th>\n",
       "      <th>7</th>\n",
       "      <th>8</th>\n",
       "      <th>9</th>\n",
       "      <th>10</th>\n",
       "      <th>11</th>\n",
       "      <th>12</th>\n",
       "      <th>13</th>\n",
       "      <th>14</th>\n",
       "      <th>15</th>\n",
       "    </tr>\n",
       "  </thead>\n",
       "  <tbody>\n",
       "    <tr>\n",
       "      <th>0</th>\n",
       "      <td>0.0</td>\n",
       "      <td>0.0</td>\n",
       "      <td>1.494954</td>\n",
       "      <td>-3.075699</td>\n",
       "      <td>0.058719</td>\n",
       "      <td>0.176158</td>\n",
       "      <td>0.0</td>\n",
       "      <td>0.0</td>\n",
       "      <td>0.0</td>\n",
       "      <td>0.0</td>\n",
       "      <td>1.323374</td>\n",
       "      <td>-4.055913</td>\n",
       "      <td>0.117439</td>\n",
       "      <td>0.234877</td>\n",
       "      <td>0.0</td>\n",
       "      <td>0.0</td>\n",
       "    </tr>\n",
       "  </tbody>\n",
       "</table>\n",
       "</div>"
      ],
      "text/plain": [
       "    0    1         2         3         4         5    6    7    8    9    \n",
       "0  0.0  0.0  1.494954 -3.075699  0.058719  0.176158  0.0  0.0  0.0  0.0  \\\n",
       "\n",
       "         10        11        12        13   14   15  \n",
       "0  1.323374 -4.055913  0.117439  0.234877  0.0  0.0  "
      ]
     },
     "metadata": {},
     "output_type": "display_data"
    }
   ],
   "source": [
    "def coupler_factory():\n",
    "    wg0 = Waveguide(length=1)\n",
    "    wg1 = Waveguide(length=1)\n",
    "    coupler = Coupler()\n",
    "    ckt = Circuit()\n",
    "    ckt.connect(coupler.o(2), wg0.o(0))\n",
    "    ckt.connect(coupler.o(3), wg1.o(0))\n",
    "    ckt.expose()\n",
    "    return ckt\n",
    "ckt = coupler_factory()\n",
    "# print(pd.DataFrame(ckt.s_params(jnp.array([1.55]))[0]))\n",
    "# input = TwoModeSqueezed(2, 10, 10, ckt.o(0), ckt.o(1))\n",
    "coh1 = CoherentState(ckt, ckt.o(0), 1+2j)\n",
    "coh2 = CoherentState(ckt, ckt.o(1), 3+4j)\n",
    "input = compose_qstate(coh1, coh2)\n",
    "sim = QuantumSim(ckt, wl=jnp.array([1.55]), input=input)\n",
    "res = sim.run()\n",
    "display(pd.DataFrame(res.input_means).T)\n",
    "display(pd.DataFrame(res.means))\n"
   ]
  },
  {
   "cell_type": "code",
   "execution_count": null,
   "metadata": {},
   "outputs": [],
   "source": []
  },
  {
   "cell_type": "code",
   "execution_count": 3,
   "metadata": {},
   "outputs": [
    {
     "data": {
      "text/html": [
       "<div>\n",
       "<style scoped>\n",
       "    .dataframe tbody tr th:only-of-type {\n",
       "        vertical-align: middle;\n",
       "    }\n",
       "\n",
       "    .dataframe tbody tr th {\n",
       "        vertical-align: top;\n",
       "    }\n",
       "\n",
       "    .dataframe thead th {\n",
       "        text-align: right;\n",
       "    }\n",
       "</style>\n",
       "<table border=\"1\" class=\"dataframe\">\n",
       "  <thead>\n",
       "    <tr style=\"text-align: right;\">\n",
       "      <th></th>\n",
       "      <th>0</th>\n",
       "      <th>1</th>\n",
       "      <th>2</th>\n",
       "      <th>3</th>\n",
       "    </tr>\n",
       "  </thead>\n",
       "  <tbody>\n",
       "    <tr>\n",
       "      <th>0</th>\n",
       "      <td>1.0+2.0j</td>\n",
       "      <td>3.0+4.0j</td>\n",
       "      <td>0.0+0.0j</td>\n",
       "      <td>0.0+0.0j</td>\n",
       "    </tr>\n",
       "  </tbody>\n",
       "</table>\n",
       "</div>"
      ],
      "text/plain": [
       "          0         1         2         3\n",
       "0  1.0+2.0j  3.0+4.0j  0.0+0.0j  0.0+0.0j"
      ]
     },
     "metadata": {},
     "output_type": "display_data"
    },
    {
     "data": {
      "text/html": [
       "<div>\n",
       "<style scoped>\n",
       "    .dataframe tbody tr th:only-of-type {\n",
       "        vertical-align: middle;\n",
       "    }\n",
       "\n",
       "    .dataframe tbody tr th {\n",
       "        vertical-align: top;\n",
       "    }\n",
       "\n",
       "    .dataframe thead th {\n",
       "        text-align: right;\n",
       "    }\n",
       "</style>\n",
       "<table border=\"1\" class=\"dataframe\">\n",
       "  <thead>\n",
       "    <tr style=\"text-align: right;\">\n",
       "      <th></th>\n",
       "      <th>0</th>\n",
       "      <th>1</th>\n",
       "      <th>2</th>\n",
       "      <th>3</th>\n",
       "    </tr>\n",
       "  </thead>\n",
       "  <tbody>\n",
       "    <tr>\n",
       "      <th>0</th>\n",
       "      <td>0.0+0.0j</td>\n",
       "      <td>0.0+0.0j</td>\n",
       "      <td>1.494954+1.323374j</td>\n",
       "      <td>-3.075699-4.055913j</td>\n",
       "    </tr>\n",
       "  </tbody>\n",
       "</table>\n",
       "</div>"
      ],
      "text/plain": [
       "          0         1                   2                   3\n",
       "0  0.0+0.0j  0.0+0.0j  1.494954+1.323374j -3.075699-4.055913j"
      ]
     },
     "metadata": {},
     "output_type": "display_data"
    }
   ],
   "source": [
    "def coupler_factory():\n",
    "    wg0 = Waveguide(length=1)\n",
    "    wg1 = Waveguide(length=1)\n",
    "    coupler = Coupler()\n",
    "    ckt = Circuit()\n",
    "    ckt.connect(coupler.o(2), wg0.o(0))\n",
    "    ckt.connect(coupler.o(3), wg1.o(0))\n",
    "    ckt.expose()\n",
    "    amp1, phase1 = polar(1+2j)\n",
    "    amp2, phase2 = polar(3+4j)\n",
    "    Laser(ckt, port=ckt.o(0), power=amp1**2, phase=phase1)\n",
    "    Laser(ckt, port=ckt.o(1), power=amp2**2, phase=phase2)\n",
    "    Detector(ckt, port=ckt.o(2))\n",
    "    Detector(ckt, port=ckt.o(3))\n",
    "    return ckt\n",
    "ckt = coupler_factory()\n",
    "wls = jnp.array([1.55])\n",
    "sim = ClassicalSim(ckt=ckt, wl=wls)\n",
    "res = sim.run()\n",
    "display(pd.DataFrame(res.input_source))\n",
    "display(pd.DataFrame(res.output))"
   ]
  },
  {
   "cell_type": "code",
   "execution_count": 4,
   "metadata": {},
   "outputs": [
    {
     "data": {
      "text/plain": [
       "(-1+1.2246467991473532e-16j)"
      ]
     },
     "execution_count": 4,
     "metadata": {},
     "output_type": "execute_result"
    }
   ],
   "source": [
    "jnp.exp(1j*jnp.pi)"
   ]
  },
  {
   "cell_type": "code",
   "execution_count": null,
   "metadata": {},
   "outputs": [],
   "source": []
  }
 ],
 "metadata": {
  "kernelspec": {
   "display_name": "nojax",
   "language": "python",
   "name": "python3"
  },
  "language_info": {
   "codemirror_mode": {
    "name": "ipython",
    "version": 3
   },
   "file_extension": ".py",
   "mimetype": "text/x-python",
   "name": "python",
   "nbconvert_exporter": "python",
   "pygments_lexer": "ipython3",
   "version": "3.11.0"
  },
  "orig_nbformat": 4
 },
 "nbformat": 4,
 "nbformat_minor": 2
}
