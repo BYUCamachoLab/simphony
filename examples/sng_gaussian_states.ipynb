{
 "cells": [
  {
   "cell_type": "markdown",
   "id": "a7c53091",
   "metadata": {},
   "source": [
    "$$\n",
    "\\begin{aligned}\n",
    "C_{ij} =\\ & A_{ij} \\\\\n",
    "&+ A_{ik} (I - A_{lk})^{-1} A_{lj} \\\\\n",
    "&+ A_{il} (I - A_{kl})^{-1} A_{kj} \\\\\n",
    "&+ A_{ik} (I - A_{lk})^{-1} A_{lk} (I - A_{kl})^{-1} A_{kj} \\\\\n",
    "&+ A_{il} (I - A_{kl})^{-1} A_{kl} (I - A_{lk})^{-1} A_{lj}\n",
    "\\end{aligned}\n",
    "$$"
   ]
  },
  {
   "cell_type": "code",
   "execution_count": null,
   "id": "f303a7f2",
   "metadata": {},
   "outputs": [
    {
     "name": "stdout",
     "output_type": "stream",
     "text": [
      "     0    1    2    3    4    5    6    7\n",
      "0  0.0  0.0  1.0  0.0  0.0  0.0  0.0  0.0\n",
      "1  0.0  0.0  0.0  1.0  0.0  0.0  0.0  0.0\n",
      "2  1.0  0.0  0.0  0.0  0.0  0.0  0.0  0.0\n",
      "3  0.0  1.0  0.0  0.0  0.0  0.0  0.0  0.0\n",
      "4  0.0  0.0  0.0  0.0  0.0  0.0  1.0  0.0\n",
      "5  0.0  0.0  0.0  0.0  0.0  0.0  0.0  1.0\n",
      "6  0.0  0.0  0.0  0.0  1.0  0.0  0.0  0.0\n",
      "7  0.0  0.0  0.0  0.0  0.0  1.0  0.0  0.0\n",
      "     0    1    2    3\n",
      "0  0.0  0.0  1.0  0.0\n",
      "1  0.0  0.0  0.0  1.0\n",
      "2  1.0  0.0  0.0  0.0\n",
      "3  0.0  1.0  0.0  0.0\n"
     ]
    }
   ],
   "source": [
    "import jax.numpy as jnp\n",
    "from jax.numpy.linalg import pinv\n",
    "\n",
    "def permutation_xxpp_to_xpxp(num_modes):\n",
    "    \"\"\"Returns permutation matrix P to convert from xxpp to xpxp ordering\"\"\"\n",
    "    n = 2 * num_modes\n",
    "    P = jnp.zeros((n, n))\n",
    "    for i in range(num_modes):\n",
    "        P = P.at[2*i, i].set(1)         # x_i\n",
    "        P = P.at[2*i + 1, i + num_modes].set(1)  # p_i\n",
    "    return P\n",
    "\n",
    "def xxpp_to_xpxp(A):\n",
    "    P = permutation_xxpp_to_xpxp(A.shape[0]//2)\n",
    "    return P @ A @ P.T\n",
    "\n",
    "def realify(A):\n",
    "    return jnp.block([[A.real, A.imag], [-A.imag, A.real]])\n",
    "\n",
    "def interconnect_s(A, k, l):\n",
    "    A = jnp.asarray(A)\n",
    "    N = A.shape[0] // 2\n",
    "\n",
    "    x = jnp.arange(N)\n",
    "    # Create mask that is True if x is NOT equal to a or b\n",
    "    mask = (x != k) & (x != l)\n",
    "    ext_ports = x[mask]\n",
    "\n",
    "    C = jnp.zeros((2*N - 4, 2*N - 4))\n",
    "    for m in range(C.shape[0]//2):\n",
    "        i = ext_ports[m].item()\n",
    "        for n in range(C.shape[0]//2):\n",
    "            j = ext_ports[n].item()\n",
    "            term_0 = A[2*i:2*(i+1), 2*j:2*(j+1)]\n",
    "            term_1 = A[2*i:2*(i+1), 2*k:2*(k+1)] @ pinv(jnp.eye(2)-A[2*l:2*(l+1), 2*k:2*(k+1)]) @ A[2*l:2*(l+1), 2*j:2*(j+1)]\n",
    "            term_2 = A[2*i:2*(i+1), 2*l:2*(l+1)] @ pinv(jnp.eye(2)-A[2*k:2*(k+1), 2*l:2*(l+1)]) @ A[2*k:2*(k+1), 2*j:2*(j+1)]\n",
    "            term_3 = A[2*i:2*(i+1), 2*k:2*(k+1)] @ pinv(jnp.eye(2)-A[2*l:2*(l+1), 2*k:2*(k+1)]) @ A[2*l:2*(l+1), 2*k:2*(k+1)] @ pinv(jnp.eye(2)-A[2*k:2*(k+1), 2*l:2*(l+1)])@A[2*k:2*(k+1), 2*j:2*(j+1)]\n",
    "            term_4 = A[2*i:2*(i+1), 2*l:2*(l+1)] @ pinv(jnp.eye(2)-A[2*k:2*(k+1), 2*l:2*(l+1)]) @ A[2*k:2*(k+1), 2*l:2*(l+1)] @ pinv(jnp.eye(2)-A[2*l:2*(l+1), 2*k:2*(k+1)])@A[2*l:2*(l+1), 2*j:2*(j+1)]\n",
    "            C = C.at[2*m:2*(m+1), 2*n:2*(n+1)].set(C[2*m:2*(m+1), 2*n:2*(n+1)] + term_0 + term_1 + term_2 + term_3 + term_4)\n",
    "            pass\n",
    "    \n",
    "    return C\n",
    "    \n",
    "    \n"
   ]
  },
  {
   "cell_type": "code",
   "execution_count": null,
   "id": "462ba2a2",
   "metadata": {},
   "outputs": [
    {
     "name": "stdout",
     "output_type": "stream",
     "text": [
      "     0    1    2    3         4         5         6         7\n",
      "0  0.0  0.0  1.0  0.0  0.000000  0.000000  0.000000  0.000000\n",
      "1  0.0  0.0  0.0  1.0  0.000000  0.000000  0.000000  0.000000\n",
      "2  1.0  0.0  0.0  0.0  0.000000  0.000000  0.000000  0.000000\n",
      "3  0.0  1.0  0.0  0.0  0.000000  0.000000  0.000000  0.000000\n",
      "4  0.0  0.0  0.0  0.0  0.000000  0.000000  0.866025  0.500000\n",
      "5  0.0  0.0  0.0  0.0  0.000000  0.000000 -0.500000  0.866025\n",
      "6  0.0  0.0  0.0  0.0  0.866025  0.500000  0.000000  0.000000\n",
      "7  0.0  0.0  0.0  0.0 -0.500000  0.866025  0.000000  0.000000\n",
      "          0         1         2         3\n",
      "0  0.000000  0.000000  0.866025  0.500000\n",
      "1  0.000000  0.000000 -0.500000  0.866025\n",
      "2  0.866025  0.500000  0.000000  0.000000\n",
      "3 -0.500000  0.866025  0.000000  0.000000\n"
     ]
    }
   ],
   "source": [
    "import scipy\n",
    "import numpy as np\n",
    "import pandas as pd\n",
    "phi_a = 0 * np.pi / 180\n",
    "phi_b = 0 * np.pi / 180\n",
    "\n",
    "S_a = np.exp(1j * phi_a) * np.array([[0j, 1],[1, 0j]])\n",
    "S_b = np.exp(1j * phi_b) * np.array([[0j, 1],[1, 0j]])\n",
    "S = scipy.linalg.block_diag(S_a, S_b)\n",
    "F = xxpp_to_xpxp(realify(S))\n",
    "\n",
    "F_new = interconnect_s(F, 1, 2)\n",
    "\n",
    "print(pd.DataFrame(F))\n",
    "print(pd.DataFrame(F_new))"
   ]
  },
  {
   "cell_type": "code",
   "execution_count": 1,
   "id": "0a61dce6",
   "metadata": {},
   "outputs": [
    {
     "name": "stderr",
     "output_type": "stream",
     "text": [
      "/home/wyrgly/camacho/simphony/.venv/lib/python3.12/site-packages/skrf/mathFunctions.py:268: RuntimeWarning: divide by zero encountered in log10\n",
      "  out = 20 * np.log10(z)\n"
     ]
    },
    {
     "data": {
      "image/png": "[encoded data removed]",
      "text/plain": [
       "<Figure size 640x480 with 1 Axes>"
      ]
     },
     "metadata": {},
     "output_type": "display_data"
    },
    {
     "name": "stdout",
     "output_type": "stream",
     "text": [
      "Combined S-matrix:\n",
      " [[0.       +0.j  0.8660254+0.5j]\n",
      " [0.8660254+0.5j 0.       +0.j ]]\n"
     ]
    }
   ],
   "source": [
    "import skrf as rf\n",
    "\n",
    "\n",
    "# Single frequency at 5 GHz\n",
    "freq = rf.Frequency(5, 5, 1, unit='GHz')\n",
    "\n",
    "# Define phases\n",
    "phi_a = 0 * np.pi / 180\n",
    "phi_b = 30 * np.pi / 180\n",
    "\n",
    "# Define S-matrices (2-port delay lines with phase shifts)\n",
    "S_a = np.exp(1j * phi_a) * np.array([[0j, 1],\n",
    "                                     [1, 0j]])\n",
    "S_b = np.exp(1j * phi_b) * np.array([[0j, 1],\n",
    "                                     [1, 0j]])\n",
    "\n",
    "# Wrap into 3D arrays for single frequency (shape: 1 x 2 x 2)\n",
    "S_a = S_a[np.newaxis, :, :]\n",
    "S_b = S_b[np.newaxis, :, :]\n",
    "\n",
    "# Create Networks\n",
    "net_a = rf.Network(s=S_a, frequency=freq)\n",
    "net_b = rf.Network(s=S_b, frequency=freq)\n",
    "\n",
    "# Connect port 1 of net_a to port 0 of net_b\n",
    "# The resulting network has ports: net_a port 0 and net_b port 1\n",
    "combined = rf.connect(net_a, 1, net_b, 0)\n",
    "\n",
    "# Plot the combined network S-parameters in dB\n",
    "combined.plot_s_db()\n",
    "plt.title(\"S-parameters of connected networks with phase delays\")\n",
    "plt.show()\n",
    "\n",
    "# Print combined S-matrix at the frequency\n",
    "print(\"Combined S-matrix:\\n\", combined.s[0])\n"
   ]
  },
  {
   "cell_type": "code",
   "execution_count": null,
   "id": "9a4107dd",
   "metadata": {},
   "outputs": [
    {
     "name": "stdout",
     "output_type": "stream",
     "text": [
      "                    0                   1                   2  \\\n",
      "0  0.000000+0.000000j  0.866025+0.500000j  0.000000+0.000000j   \n",
      "1  0.866025+0.500000j  0.000000+0.000000j  0.000000+0.000000j   \n",
      "2  0.000000+0.000000j  0.000000+0.000000j  0.000000+0.000000j   \n",
      "3  0.000000+0.000000j  0.000000+0.000000j  0.866025+0.500000j   \n",
      "\n",
      "                    3  \n",
      "0  0.000000+0.000000j  \n",
      "1  0.000000+0.000000j  \n",
      "2  0.866025+0.500000j  \n",
      "3  0.000000+0.000000j  \n",
      "                    0                   1                   2  \\\n",
      "0  0.000000+0.000000j  0.000000+0.000000j  0.866025+0.500000j   \n",
      "1  0.000000+0.000000j  0.000000+0.000000j  0.000000+0.000000j   \n",
      "2  0.866025+0.500000j  0.000000+0.000000j  0.000000+0.000000j   \n",
      "3  0.000000+0.000000j  0.866025+0.500000j  0.000000+0.000000j   \n",
      "\n",
      "                    3  \n",
      "0  0.000000+0.000000j  \n",
      "1  0.866025+0.500000j  \n",
      "2  0.000000+0.000000j  \n",
      "3  0.000000+0.000000j  \n",
      "[[0.5+0.8660254j 0. +0.j       ]\n",
      " [0. +0.j        0.5+0.8660254j]]\n"
     ]
    }
   ],
   "source": [
    "import numpy as np\n",
    "import scipy\n",
    "import pandas as pd\n",
    "\n",
    "import numpy as np\n",
    "\n",
    "def permutation_matrix(connections, num_ports_a, num_ports_b):\n",
    "    N = num_ports_a + num_ports_b\n",
    "    internal_ports = set()\n",
    "    for a_port, b_port in connections:\n",
    "        internal_ports.add(a_port)\n",
    "        internal_ports.add(num_ports_a + b_port)\n",
    "    \n",
    "    external_ports = [p for p in range(N) if p not in internal_ports]\n",
    "    internal_ports = sorted(internal_ports)\n",
    "    \n",
    "    new_order = external_ports + internal_ports\n",
    "    P = np.zeros((N, N), dtype=int)\n",
    "    for new_idx, old_idx in enumerate(new_order):\n",
    "        # P[new_idx, old_idx] = 1\n",
    "        P[old_idx, new_idx] = 1\n",
    "    return P\n",
    "\n",
    "\n",
    "phi_a = 0 * np.pi/180\n",
    "phi_b = 30 * np.pi/180\n",
    "\n",
    "S_a = np.exp(1j*phi_a)*np.array([[0j, 1], [1, 0j]])\n",
    "S_b = np.exp(1j*phi_b)*np.array([[0j, 1], [1, 0j]])\n",
    "\n",
    "S = scipy.linalg.block_diag(S_a, S_b)\n",
    "connections = [(1, 0)]\n",
    "num_ports_a = 2\n",
    "num_ports_b = 2\n",
    "P = permutation_matrix(connections, num_ports_a, num_ports_b)\n",
    "num_internal_ports = 2*len(connections)\n",
    "num_external_ports = num_ports_a + num_ports_b - num_internal_ports\n",
    "\n",
    "S_prime = P.T@S@P\n",
    "\n",
    "e = num_external_ports\n",
    "i = num_internal_ports\n",
    "\n",
    "S_ee = S_prime[:e, :e]\n",
    "S_ei = S_prime[:e, e:e+i]\n",
    "S_ie = S_prime[e:e+i, :e]\n",
    "S_ii = S_prime[e:e+i, e:e+i]\n",
    "\n",
    "# S_ei = np.array([[1j, 0j], [0j, 0]])\n",
    "# S_ie = np.array([[1j, 0j], [1j, 0j]])\n",
    "# S_ii = np.array([[0j, 0j], [0j, 0]])\n",
    "print(pd.DataFrame(S))\n",
    "print(pd.DataFrame(S_prime))\n",
    "\n",
    "S_new = S_ee + S_ei @ np.linalg.inv(np.eye(S_ii.shape[0]) - S_ii)@S_ie\n",
    "print(S_new)"
   ]
  },
  {
   "cell_type": "code",
   "execution_count": 241,
   "id": "b1b56279",
   "metadata": {},
   "outputs": [
    {
     "data": {
      "text/plain": [
       "array([[0.+0.j, 0.+0.j],\n",
       "       [0.+0.j, 0.+0.j]])"
      ]
     },
     "execution_count": 241,
     "metadata": {},
     "output_type": "execute_result"
    }
   ],
   "source": [
    "S_ee"
   ]
  },
  {
   "cell_type": "markdown",
   "id": "75887608",
   "metadata": {},
   "source": [
    "# Math Aside\n",
    "We can find the inverse if the sum on the right converges.\n",
    "$$\n",
    "(I-T)^{-1} = \\sum_{k=0}^{\\infty}T^k\n",
    "$$"
   ]
  },
  {
   "cell_type": "code",
   "execution_count": 176,
   "id": "b4eaa164",
   "metadata": {},
   "outputs": [
    {
     "name": "stdout",
     "output_type": "stream",
     "text": [
      "Eigenvalues: [0.+0.j 0.+0.j]\n"
     ]
    },
    {
     "data": {
      "text/plain": [
       "array([[-1.0000000e+00, -1.2246468e-16],\n",
       "       [ 1.2246468e-16, -1.0000000e+00]])"
      ]
     },
     "execution_count": 176,
     "metadata": {},
     "output_type": "execute_result"
    }
   ],
   "source": [
    "from scipy.linalg import eig\n",
    "import numpy as np\n",
    "\n",
    "phi = np.pi\n",
    "transmittivity = 1.0\n",
    "\n",
    "F_phi = np.array([\n",
    "    [np.cos(phi), -np.sin(phi)],\n",
    "    [np.sin(phi), np.cos(phi)],\n",
    "])\n",
    "\n",
    "# Compute eigenvalues and right eigenvectors\n",
    "eigenvalues, eigenvectors = eig(np.sqrt(1-transmittivity)*F_phi)\n",
    "\n",
    "print(\"Eigenvalues:\", eigenvalues)\n",
    "F_phi"
   ]
  },
  {
   "cell_type": "code",
   "execution_count": 177,
   "id": "4cd272f7",
   "metadata": {},
   "outputs": [
    {
     "name": "stdout",
     "output_type": "stream",
     "text": [
      "[[-1.0000000e+00 -1.2246468e-16]\n",
      " [ 1.2246468e-16 -1.0000000e+00]]\n"
     ]
    },
    {
     "data": {
      "text/plain": [
       "array([[-1.0000000e+00, -1.2246468e-16],\n",
       "       [ 1.2246468e-16, -1.0000000e+00]])"
      ]
     },
     "execution_count": 177,
     "metadata": {},
     "output_type": "execute_result"
    }
   ],
   "source": [
    "F_prime = transmittivity*F_phi@np.linalg.inv(np.eye(2)+np.sqrt(1-transmittivity)*F_phi)+np.sqrt(1-transmittivity)*np.eye(2)\n",
    "\n",
    "print(F_prime)\n",
    "# np.angle(F_prime@np.array([1, 0])[0] + 1j*F_prime@np.array([1, 0])[1])\n",
    "out_real = F_prime@np.array([1, 0])\n",
    "out_complex = out_real[0] + 1j*out_real[1]\n",
    "np.angle(out_complex)*180/np.pi\n",
    "\n",
    "F_prime"
   ]
  },
  {
   "cell_type": "code",
   "execution_count": 172,
   "id": "e4d23575",
   "metadata": {},
   "outputs": [
    {
     "data": {
      "text/plain": [
       "array([[0., 0.],\n",
       "       [0., 0.]])"
      ]
     },
     "execution_count": 172,
     "metadata": {},
     "output_type": "execute_result"
    }
   ],
   "source": [
    "np.linalg.pinv(np.zeros((2, 2)))"
   ]
  },
  {
   "cell_type": "code",
   "execution_count": 163,
   "id": "30b7f864",
   "metadata": {},
   "outputs": [
    {
     "data": {
      "text/plain": [
       "np.float64(179.99999999999997)"
      ]
     },
     "execution_count": 163,
     "metadata": {},
     "output_type": "execute_result"
    }
   ],
   "source": [
    "out = F_prime @ np.array([1, 0])\n",
    "out_complex = out[0] + 1j*out[1]\n",
    "np.angle(out_complex)*180/np.pi"
   ]
  },
  {
   "cell_type": "markdown",
   "id": "7c5e7153",
   "metadata": {},
   "source": [
    "# Sagnac Example\n",
    "$$\n",
    "\\begin{align*}\n",
    "\\hat{a}_1 &\\rightarrow \\sqrt{\\eta} \\, \\hat{a}_1 + \\sqrt{1 - \\eta} \\, \\hat{a}_2 \\\\\n",
    "\\hat{a}_2 &\\rightarrow -\\sqrt{1 - \\eta} \\, \\hat{a}_1 + \\sqrt{\\eta} \\, \\hat{a}_2\n",
    "\\end{align*}\n",
    "$$\n",
    "\n",
    "$$\n",
    "\\begin{equation*}\n",
    "\\begin{pmatrix}\n",
    "\\hat{a}_1' \\\\\n",
    "\\hat{a}_2'\n",
    "\\end{pmatrix}\n",
    "=\n",
    "\\begin{pmatrix}\n",
    "\\sqrt{\\eta} & \\sqrt{1 - \\eta} \\\\\n",
    "-\\sqrt{1 - \\eta} & \\sqrt{\\eta}\n",
    "\\end{pmatrix}\n",
    "\\begin{pmatrix}\n",
    "\\hat{a}_1 \\\\\n",
    "\\hat{a}_2\n",
    "\\end{pmatrix}\n",
    "\\end{equation*}\n",
    "$$\n",
    "\n",
    "\\begin{equation*}\n",
    "F_{\\text{BS}} =\n",
    "\\begin{pmatrix}\n",
    "\\sqrt{\\eta} & 0 & \\sqrt{1 - \\eta} & 0 \\\\\n",
    "0 & \\sqrt{\\eta} & 0 & \\sqrt{1 - \\eta} \\\\\n",
    "-\\sqrt{1 - \\eta} & 0 & \\sqrt{\\eta} & 0 \\\\\n",
    "0 & -\\sqrt{1 - \\eta} & 0 & \\sqrt{\\eta}\n",
    "\\end{pmatrix}\n",
    "\\end{equation*}\n"
   ]
  },
  {
   "cell_type": "code",
   "execution_count": null,
   "id": "b7fc0a4e",
   "metadata": {},
   "outputs": [],
   "source": []
  }
 ],
 "metadata": {
  "kernelspec": {
   "display_name": ".venv (3.12.3)",
   "language": "python",
   "name": "python3"
  },
  "language_info": {
   "codemirror_mode": {
    "name": "ipython",
    "version": 3
   },
   "file_extension": ".py",
   "mimetype": "text/x-python",
   "name": "python",
   "nbconvert_exporter": "python",
   "pygments_lexer": "ipython3",
   "version": "3.12.3"
  }
 },
 "nbformat": 4,
 "nbformat_minor": 5
}
