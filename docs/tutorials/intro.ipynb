{
 "cells": [
  {
   "cell_type": "markdown",
   "metadata": {},
   "source": [
    "(introduction-to-simphony)=\n",
    "# Introduction to simphony"
   ]
  },
  {
   "cell_type": "markdown",
   "metadata": {},
   "source": [
    "Before we start this tutorial, you should know the basics of Python. We expect you to have an Python environment set up,\n",
    "with the simphony package installed.\n",
    "\n",
    "Our goal with this tutorial is to define and simulate a simple circuit. In Simphony, circuits are represented all in a\n",
    "single Python file. We'll go through the typical objects found in every circuit definition, in order.\n"
   ]
  },
  {
   "cell_type": "markdown",
   "metadata": {},
   "source": [
    "## Models\n",
    "\n",
    "Models are the basic components in simphony, which are used to represent an element in a photonic circuit. Each model has a \n",
    "\n",
    "The base Model class provides a common interface for all models, including methods to get and set the scattering \n",
    "parameters, get references to ports, rename ports, and check if a model is connected to any others. It also \n",
    "provides methods to convert the model to a scikit-rf network, which can be useful for further analysis and \n",
    "simulation.\n"
   ]
  },
  {
   "cell_type": "markdown",
   "metadata": {},
   "source": [
    "```{eval-rst}\n",
    "Here's an overview of the Model parent class :py:class:`simphony.models.Model`:\n",
    "\n",
    ".. autoclass:: simphony.models.Model\n",
    "    :noindex:\n",
    "```"
   ]
  },
  {
   "cell_type": "markdown",
   "metadata": {},
   "source": [
    "```{note}\n",
    "A basic model has no ``__init__()`` function. It is only required if the model takes in parameters (width or length, for\n",
    "example) that  affect the scattering parameters.\n",
    "```"
   ]
  },
  {
   "cell_type": "markdown",
   "metadata": {},
   "source": [
    "All models in Simphony extend this parent class, but redefine ports, and s-parameters to match the device\n",
    "they represent."
   ]
  },
  {
   "cell_type": "markdown",
   "metadata": {},
   "source": [
    "## Instantiating Models\n",
    "\n",
    "Before we can use a model in our circuit, we need to instantiate it. Simphony includes a library of models from the [SiEPIC PDK](https://github.com/SiEPIC) (developed at the University of British Columbia).\n",
    "We might define a couple of models with the following:"
   ]
  },
  {
   "cell_type": "code",
   "execution_count": 1,
   "metadata": {},
   "outputs": [],
   "source": [
    "from simphony.libraries import siepic\n",
    "\n",
    "# waveguide of 2.5 mm length\n",
    "wg1 = siepic.Waveguide(length=2500, loss=3)\n",
    "# waveguide of 7.5 mm length\n",
    "wg2 = siepic.Waveguide(length=7500, loss=3)"
   ]
  },
  {
   "cell_type": "markdown",
   "metadata": {},
   "source": [
    "```{eval-rst}\n",
    "These are both :py:class:`simphony.libraries.siepic.Waveguide` models. The siepic components are parameterizable, so we can pass different parameters when instantiating them. In this case ``wg1`` will be a shorter waveguide than ``wg2``.\n",
    "Thus the two will have differing s-parameters for each model since each waveguide was set to have 3 dB of loss per cm.\n",
    "```\n",
    "\n",
    "```{note}\n",
    "Convention in simphony is to use um for units of length.\n",
    "```"
   ]
  },
  {
   "cell_type": "markdown",
   "metadata": {},
   "source": [
    "## Creating a Circuit\n",
    "\n",
    "```{eval-rst}\n",
    "A circuit consists of at least two connected models. Models are connect via their :py:class:`simphony.models.OPort` class.\n",
    "```\n",
    "\n",
    "Using our previous two components to demonstrate, the simplest way to connect ports is as follows:"
   ]
  },
  {
   "cell_type": "code",
   "execution_count": 2,
   "metadata": {},
   "outputs": [
    {
     "name": "stdout",
     "output_type": "stream",
     "text": [
      "[[[ 0.        +0.j        -0.53715961-0.4611364j]\n",
      "  [-0.53715961-0.4611364j  0.        +0.j       ]]]\n"
     ]
    }
   ],
   "source": [
    "from simphony.circuit import Circuit\n",
    "\n",
    "ckt = Circuit()\n",
    "ckt.connect(wg1.o(1), wg2.o(0))\n",
    "\n",
    "# Circuit s-parameters at 1550 nm\n",
    "print(ckt.s_params(1.55))"
   ]
  },
  {
   "cell_type": "markdown",
   "metadata": {},
   "source": [
    "## Simulation\n",
    "\n",
    "```{eval-rst}\n",
    "A :py:class:`simphony.circuit.Circuit` class automatically perform a subnetwork growth algorithm to calculate the resultant s-parameters of the circuit based on the individual s-parameters of each model it is composed of. A :py:class:`simphony.circuit.Circuit` can then be passed to a simulator from :py:module:`simphony.simulation` which provides a collection of simulators. \n",
    "\n",
    "Let's run a simple wl sweep simulation on the circuit we have created using the :py:class:`simphony.simulation.classical.ClassicalSim` class.\n",
    "``````"
   ]
  },
  {
   "cell_type": "code",
   "execution_count": 3,
   "metadata": {},
   "outputs": [
    {
     "name": "stdout",
     "output_type": "stream",
     "text": [
      "Power transmission: 0.5011872336272725\n"
     ]
    }
   ],
   "source": [
    "from simphony.simulation import ClassicalSim\n",
    "\n",
    "# Create a simulation and add a laser and detector\n",
    "sim = ClassicalSim(ckt, wl=1.55)\n",
    "sim.add_laser(ckt.o(0))\n",
    "sim.add_detector(ckt.o(1))\n",
    "\n",
    "# Run the simulation\n",
    "result = sim.run()\n",
    "\n",
    "# Since the total wg length is 1 cm and the loss is 3 dB/cm, the power should be 50%.\n",
    "print(f\"Power transmission: {abs(result.output[0, 0])**2}\")\n"
   ]
  },
  {
   "cell_type": "code",
   "execution_count": null,
   "metadata": {},
   "outputs": [],
   "source": []
  }
 ],
 "metadata": {
  "kernelspec": {
   "display_name": "nojax",
   "language": "python",
   "name": "python3"
  },
  "language_info": {
   "codemirror_mode": {
    "name": "ipython",
    "version": 3
   },
   "file_extension": ".py",
   "mimetype": "text/x-python",
   "name": "python",
   "nbconvert_exporter": "python",
   "pygments_lexer": "ipython3",
   "version": "3.11.4"
  },
  "orig_nbformat": 4
 },
 "nbformat": 4,
 "nbformat_minor": 2
}
