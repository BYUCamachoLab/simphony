{
 "cells": [
  {
   "cell_type": "markdown",
   "metadata": {},
   "source": [
    "(introduction-to-simphony)=\n",
    "# Introduction to simphony"
   ]
  },
  {
   "cell_type": "markdown",
   "metadata": {},
   "source": [
    "Simphony is a Python package that, in conjunction with [SAX](https://flaport.github.io/sax/index.html), helps in defining and simulating photonic circuits. Having a basic understanding of [Python](https://www.python.org/) will be helpful. \n",
    "\n",
    "In order to get started, you will need to set up a Python environment with simphony installed. If you are new to Python, we recommend using [Miniconda](https://docs.conda.io/projects/miniconda/en/latest/) to install and manage your Python environment. Once you have Miniconda installed, you can create a new environment and install the [``simphony``](https://pypi.org/project/simphony/) package by running the following commands in your terminal:\n",
    "\n",
    "```bash\n",
    "conda create -n simphony python=3.11\n",
    "conda activate simphony\n",
    "pip install simphony\n",
    "```\n",
    "\n",
    "Our goal with this tutorial is to give some of the background of the basics of simphony and [SAX](https://flaport.github.io/sax/), the underlying scattering parameter solver, in order to simulate a *very* simple photonic circuit. We'll go through the typical objects found in every circuit definition. We'll also show you how to simulate the circuit and obtain the results.\n",
    "\n",
    "You can follow along with these tutorials, executing the code cells one at a time on your own machine, in a [JupyterLab/Notebook](https://jupyter.org/) file by creating your own notebook (in VSCode this is as simple as creating a file with a \".ipynb\" extension) or simply downloading this tutorial page as an ``.ipynb`` file using the link in the top right corner of this page."
   ]
  },
  {
   "cell_type": "markdown",
   "metadata": {},
   "source": [
    ":::{note}\n",
    "We run the following command **first** to ensure that JAX, the library that allows Simphony and SAX to run calculations on GPU's, uses double precision. Be aware that this setting must be set before JAX initializes, or the setting won't take. That is why it must be the first command in your file. Depending on the models used, this can be important for the accuracy of the results.\n",
    ":::"
   ]
  },
  {
   "cell_type": "code",
   "execution_count": 1,
   "metadata": {},
   "outputs": [],
   "source": [
    "from jax import config\n",
    "config.update(\"jax_enable_x64\", True)"
   ]
  },
  {
   "cell_type": "markdown",
   "metadata": {},
   "source": [
    ":::{admonition} For advanced users\n",
    ":class: tip\n",
    "\n",
    "Alternatively, you can set it as an environment variable so your development environment always uses the right setting:\n",
    "\n",
    "```bash\n",
    "JAX_ENABLE_X64=True\n",
    "```\n",
    ":::"
   ]
  },
  {
   "cell_type": "markdown",
   "metadata": {},
   "source": [
    "## Models\n",
    "\n",
    "```{margin} S-parameters\n",
    "\n",
    "Some useful explanations of s-parameters (or \"scattering\" parameters) can be found on:\n",
    "\n",
    "* [MATLAB's documentation](https://www.mathworks.com/discovery/s-parameter.html)\n",
    "* [YouTube](https://www.youtube.com/watch?v=-Pi0UbErHTY) (5 min)\n",
    "* [Microwaves 101](https://www.microwaves101.com/encyclopedias/s-parameters)\n",
    "* [Wikipedia](https://en.wikipedia.org/wiki/Scattering_parameters)\n",
    "* [Everything RF](https://www.everythingrf.com/community/what-are-s-parameters)\n",
    "```\n",
    "\n",
    "Models are the most basic building block in SAX, and they are used to represent an element/component/device/geometry in a photonic circuit. Models are simply functions that return [s-parameters](https://www.mathworks.com/discovery/s-parameter.html), or \"[scattering]() [parameters](),\" when called with the appropriate arguments. These could be parameters that modify a geometry, such as its length, or modify its behavior, such as a current, voltage, or temperature change. \n",
    "\n",
    "The returned s-parameter format in SAX is simply a [dictionary](https://docs.python.org/3/tutorial/datastructures.html#dictionaries) of port-to-port scattering parameters (usually sampled at some predefined set of wavelength points). Hence its keys are human-readable pairs, which makes it easy to select which parameter you want simply by inspection, and its values are arrays. \n",
    "\n",
    "An additional computational benefit of dictionaries over the usual matrix representation is that it also takes less memory in the case of sparse matrices (those where most port relationships are 0). As an example of this, consider the case of an wavelength-dependent \"ideal\" waveguide--a \"pipe\" for light with transmission that depends upon wavelength but has no back reflections. We can store in our s-dictionary an array of only the forward transmission coefficients for the given wavelength range, and leave off the definitions for the back reflection, saving us half the memory a normal s-parameter matrix would consume storing nothing but zeros.\n",
    "\n",
    "A sample s-dictionary might look like this:\n",
    "\n",
    "```python\n",
    "s = {\n",
    "    (\"in\", \"in\"): np.array([[0.5]]),\n",
    "    (\"in\", \"out\"): np.array([[0.5]]),\n",
    "    (\"out\", \"in\"): np.array([[0.5]]),\n",
    "    (\"out\", \"out\"): np.array([[0.5]]),\n",
    "}\n",
    "```\n",
    "\n",
    "You can see that selecting the port relationship you're interested in is as simple as indexing use the desired pair:\n",
    "\n",
    "```python\n",
    "s[(\"in\", \"out\")]\n",
    "```"
   ]
  },
  {
   "cell_type": "markdown",
   "metadata": {},
   "source": [
    "Simphony includes a number of pre-built models sourced from multiple model libraries (including the [SiEPIC Ebeam PDK](https://github.com/SiEPIC/SiEPIC_EBeam_PDK) and [SiPANN](https://sipann.readthedocs.io/en/latest/)), but you can also create your own custom models by writing a function that implements the interface for a model. Here we make a simple custom model with two ports and one parameter (note our use of [type hints](https://docs.python.org/3/library/typing.html), which is best practice in modern Python and helps document the function parameters for any future user who might use models you create):"
   ]
  },
  {
   "cell_type": "code",
   "execution_count": 2,
   "metadata": {},
   "outputs": [
    {
     "data": {
      "text/plain": [
       "{('in0', 'out0'): -0.5j, ('out0', 'in0'): -0.5j}"
      ]
     },
     "execution_count": 2,
     "metadata": {},
     "output_type": "execute_result"
    }
   ],
   "source": [
    "import numpy as np\n",
    "import sax\n",
    "from jax.typing import ArrayLike\n",
    "\n",
    "def custom_model(param: float = 0.5) -> sax.SDict:\n",
    "    \"\"\"This model will have one parameter, param, which defaults to 0.5.\n",
    "    \n",
    "    Args:\n",
    "        param: Some float parameter.\n",
    "\n",
    "    Returns:\n",
    "        sdict: A dictionary of scattering matrices.\n",
    "    \"\"\"\n",
    "    # a simple wavelength independent s-matrix\n",
    "    sdict = sax.reciprocal({\n",
    "        (\"in0\", \"out0\"): -1j * np.sqrt(param),\n",
    "    })\n",
    "    return sdict\n",
    "    \n",
    "# A model is simulated by \"calling\" it with appropriate paraeters.\n",
    "custom_model(param=0.25)"
   ]
  },
  {
   "cell_type": "markdown",
   "metadata": {},
   "source": [
    "```{margin} About keyword-only arguments\n",
    "\n",
    "You can learn a little bit more about keyword-only arguments from these excellent articles:\n",
    "\n",
    "* [Python 3 guide for scientists](https://python-3-for-scientists.readthedocs.io/en/latest/python3_advanced.html)\n",
    "* [Luke Plant's Blog](https://lukeplant.me.uk/blog/posts/keyword-only-arguments-in-python/)\n",
    "```\n",
    "\n",
    "```{important}\n",
    "Model function parameters **are required to be keyword-only**.\n",
    "\n",
    "* In the backend, SAX inspects the model signature and passes in only the requested variables to the model function. \n",
    "* The global simulation parameters that are passed in must be named the same across all pertinent models.\n",
    "* In order to determine the names of the ports in a model while building the netlist, SAX evaluates the model once without arguments. Hence, sensible defaults that run without raising any errors are required.\n",
    "```"
   ]
  },
  {
   "cell_type": "markdown",
   "metadata": {},
   "source": [
    "## Using Pre-built Models\n",
    "\n",
    "```{eval-rst}\n",
    "Simphony includes some pre-built models that can be used to build photonic circuits :py:mod:`simphony.libraries`:\n",
    "``` \n",
    "\n",
    "One library we use comes from the [SiEPIC PDK](https://github.com/SiEPIC) (developed at the University of British Columbia). This library contains the s-parameters for a number of photonic components that were simulated with various combinations of different parameters. This concept is known as a \"parameter sweep,\" and can help you predict circuit performance particularly in the presence of fabrication variations.\n",
    "\n",
    "\n",
    "```{eval-rst}\n",
    "Let's instantiate two different waveguides of different lengths. We'll use the same model for both: the :py:func:`~simphony.libraries.siepic.models.waveguide` model. Inspecting the function signature for our models, we see that these SiEPIC models are parameterizable, and we can ascertain from the documentation the parameter names and units required when instantiating them:\n",
    "```"
   ]
  },
  {
   "cell_type": "code",
   "execution_count": 3,
   "metadata": {},
   "outputs": [
    {
     "name": "stdout",
     "output_type": "stream",
     "text": [
      "\u001b[0;31mSignature:\u001b[0m\n",
      "\u001b[0msiepic\u001b[0m\u001b[0;34m.\u001b[0m\u001b[0mwaveguide\u001b[0m\u001b[0;34m(\u001b[0m\u001b[0;34m\u001b[0m\n",
      "\u001b[0;34m\u001b[0m    \u001b[0mwl\u001b[0m\u001b[0;34m:\u001b[0m \u001b[0mUnion\u001b[0m\u001b[0;34m[\u001b[0m\u001b[0mfloat\u001b[0m\u001b[0;34m,\u001b[0m \u001b[0mjax\u001b[0m\u001b[0;34m.\u001b[0m\u001b[0mArray\u001b[0m\u001b[0;34m]\u001b[0m \u001b[0;34m=\u001b[0m \u001b[0;36m1.55\u001b[0m\u001b[0;34m,\u001b[0m\u001b[0;34m\u001b[0m\n",
      "\u001b[0;34m\u001b[0m    \u001b[0mpol\u001b[0m\u001b[0;34m:\u001b[0m \u001b[0mLiteral\u001b[0m\u001b[0;34m[\u001b[0m\u001b[0;34m'te'\u001b[0m\u001b[0;34m,\u001b[0m \u001b[0;34m'tm'\u001b[0m\u001b[0;34m]\u001b[0m \u001b[0;34m=\u001b[0m \u001b[0;34m'te'\u001b[0m\u001b[0;34m,\u001b[0m\u001b[0;34m\u001b[0m\n",
      "\u001b[0;34m\u001b[0m    \u001b[0mlength\u001b[0m\u001b[0;34m:\u001b[0m \u001b[0mfloat\u001b[0m \u001b[0;34m=\u001b[0m \u001b[0;36m0.0\u001b[0m\u001b[0;34m,\u001b[0m\u001b[0;34m\u001b[0m\n",
      "\u001b[0;34m\u001b[0m    \u001b[0mwidth\u001b[0m\u001b[0;34m:\u001b[0m \u001b[0mfloat\u001b[0m \u001b[0;34m=\u001b[0m \u001b[0;36m500.0\u001b[0m\u001b[0;34m,\u001b[0m\u001b[0;34m\u001b[0m\n",
      "\u001b[0;34m\u001b[0m    \u001b[0mheight\u001b[0m\u001b[0;34m:\u001b[0m \u001b[0mfloat\u001b[0m \u001b[0;34m=\u001b[0m \u001b[0;36m220.0\u001b[0m\u001b[0;34m,\u001b[0m\u001b[0;34m\u001b[0m\n",
      "\u001b[0;34m\u001b[0m    \u001b[0mloss\u001b[0m\u001b[0;34m:\u001b[0m \u001b[0mfloat\u001b[0m \u001b[0;34m=\u001b[0m \u001b[0;36m0.0\u001b[0m\u001b[0;34m,\u001b[0m\u001b[0;34m\u001b[0m\n",
      "\u001b[0;34m\u001b[0m\u001b[0;34m)\u001b[0m \u001b[0;34m->\u001b[0m \u001b[0mDict\u001b[0m\u001b[0;34m[\u001b[0m\u001b[0mTuple\u001b[0m\u001b[0;34m[\u001b[0m\u001b[0mstr\u001b[0m\u001b[0;34m,\u001b[0m \u001b[0mstr\u001b[0m\u001b[0;34m]\u001b[0m\u001b[0;34m,\u001b[0m \u001b[0mjaxtyping\u001b[0m\u001b[0;34m.\u001b[0m\u001b[0mComplex\u001b[0m\u001b[0;34m[\u001b[0m\u001b[0mArray\u001b[0m\u001b[0;34m,\u001b[0m \u001b[0;34m'...'\u001b[0m\u001b[0;34m]\u001b[0m\u001b[0;34m]\u001b[0m\u001b[0;34m\u001b[0m\u001b[0;34m\u001b[0m\u001b[0m\n",
      "\u001b[0;31mDocstring:\u001b[0m\n",
      "Model for an waveguide optimized for TE polarized light at 1550\n",
      "nanometers.\n",
      "\n",
      "A waveguide easily connects other optical components within a circuit.\n",
      "\n",
      ".. image:: /_static/images/ebeam_wg_integral_1550.png\n",
      "    :alt: ebeam_bdc_te1550.png\n",
      "\n",
      "Parameters\n",
      "----------\n",
      "pol : str, optional\n",
      "    Polarization of the grating coupler. Must be either 'te' (default) or\n",
      "    'tm'.\n",
      "length : float, optional\n",
      "    Waveguide length in microns (default 0).\n",
      "width : float, optional\n",
      "    Waveguide width in nanometers (default 500).\n",
      "height : float, optional\n",
      "    Waveguide height in nanometers (default 220).\n",
      "loss : float, optional\n",
      "    Loss of the waveguide in dB/cm (default 0).\n",
      "sigma_ne : float, optional\n",
      "    Standard deviation of the effective index for monte carlo simulations\n",
      "    (default 0.05).\n",
      "sigma_ng : float, optional\n",
      "    Standard deviation of the group velocity for monte carlo simulations\n",
      "    (default 0.05).\n",
      "sigma_nd : float, optional\n",
      "    Standard deviation of the group dispersion for monte carlo simulations\n",
      "    (default 0.0001).\n",
      "\n",
      "Notes\n",
      "-----\n",
      "The `sigma_` values in the parameters are used for monte carlo simulations.\n",
      "\n",
      "Sorted matrix of valid parameter combinations for waveguides:\n",
      "\n",
      "========  =======\n",
      "height    width\n",
      "========  =======\n",
      "    210      400\n",
      "    210      420\n",
      "    210      440\n",
      "    210      460\n",
      "    210      480\n",
      "    210      500\n",
      "    210      520\n",
      "    210      540\n",
      "    210      560\n",
      "    210      580\n",
      "    210      600\n",
      "    210      640\n",
      "    210      680\n",
      "    210      720\n",
      "    210      760\n",
      "    210      800\n",
      "    210      840\n",
      "    210      880\n",
      "    210      920\n",
      "    210      960\n",
      "    210     1000\n",
      "    210     1040\n",
      "    210     1080\n",
      "    210     1120\n",
      "    210     1160\n",
      "    210     1200\n",
      "    210     1240\n",
      "    210     1280\n",
      "    210     1320\n",
      "    210     1360\n",
      "    210     1400\n",
      "    210     1500\n",
      "    210     1600\n",
      "    210     1700\n",
      "    210     1800\n",
      "    210     1900\n",
      "    210     2000\n",
      "    210     2100\n",
      "    210     2200\n",
      "    210     2300\n",
      "    210     2400\n",
      "    210     2500\n",
      "    210     2600\n",
      "    210     2700\n",
      "    210     2800\n",
      "    210     2900\n",
      "    210     3000\n",
      "    210     3100\n",
      "    210     3200\n",
      "    210     3300\n",
      "    210     3400\n",
      "    210     3500\n",
      "    220      400\n",
      "    220      420\n",
      "    220      440\n",
      "    220      460\n",
      "    220      480\n",
      "    220      500\n",
      "    220      520\n",
      "    220      540\n",
      "    220      560\n",
      "    220      580\n",
      "    220      600\n",
      "    220      640\n",
      "    220      680\n",
      "    220      720\n",
      "    220      760\n",
      "    220      800\n",
      "    220      840\n",
      "    220      880\n",
      "    220      920\n",
      "    220      960\n",
      "    220     1000\n",
      "    220     1040\n",
      "    220     1080\n",
      "    220     1120\n",
      "    220     1160\n",
      "    220     1200\n",
      "    220     1240\n",
      "    220     1280\n",
      "    220     1320\n",
      "    220     1360\n",
      "    220     1400\n",
      "    220     1500\n",
      "    220     1600\n",
      "    220     1700\n",
      "    220     1800\n",
      "    220     1900\n",
      "    220     2000\n",
      "    220     2100\n",
      "    220     2200\n",
      "    220     2300\n",
      "    220     2400\n",
      "    220     2500\n",
      "    220     2600\n",
      "    220     2700\n",
      "    220     2800\n",
      "    220     2900\n",
      "    220     3000\n",
      "    220     3100\n",
      "    220     3200\n",
      "    220     3300\n",
      "    220     3400\n",
      "    220     3500\n",
      "    230      400\n",
      "    230      420\n",
      "    230      440\n",
      "    230      460\n",
      "    230      480\n",
      "    230      500\n",
      "    230      520\n",
      "    230      540\n",
      "    230      560\n",
      "    230      580\n",
      "    230      600\n",
      "    230      640\n",
      "    230      680\n",
      "    230      720\n",
      "    230      760\n",
      "    230      800\n",
      "    230      840\n",
      "    230      880\n",
      "    230      920\n",
      "    230      960\n",
      "    230     1000\n",
      "    230     1040\n",
      "    230     1080\n",
      "    230     1120\n",
      "    230     1160\n",
      "    230     1200\n",
      "    230     1240\n",
      "    230     1280\n",
      "    230     1320\n",
      "    230     1360\n",
      "    230     1400\n",
      "    230     1500\n",
      "    230     1600\n",
      "    230     1700\n",
      "    230     1800\n",
      "    230     1900\n",
      "    230     2000\n",
      "    230     2100\n",
      "    230     2200\n",
      "    230     2300\n",
      "    230     2400\n",
      "    230     2500\n",
      "    230     2600\n",
      "    230     2700\n",
      "    230     2800\n",
      "    230     2900\n",
      "    230     3000\n",
      "    230     3100\n",
      "    230     3200\n",
      "    230     3300\n",
      "    230     3400\n",
      "    230     3500\n",
      "========  =======\n",
      "\u001b[0;31mFile:\u001b[0m      ~/git/simphony/simphony/libraries/siepic/models.py\n",
      "\u001b[0;31mType:\u001b[0m      function"
     ]
    }
   ],
   "source": [
    "from simphony.libraries import siepic\n",
    "\n",
    "\n",
    "siepic.waveguide?"
   ]
  },
  {
   "cell_type": "markdown",
   "metadata": {},
   "source": [
    "Since all models require keyword arguments, that means they ought to have sensible defaults. In this case, they do, and we'll just set the parameters that are nonstandard for our purposes: the length (in microns) and waveguide silicon thickness. We'll make ``wg1`` thicker than ``wg2``. Due to the thickness difference and the length difference between the two waveguides, their s-parameters will differ."
   ]
  },
  {
   "cell_type": "code",
   "execution_count": 4,
   "metadata": {},
   "outputs": [],
   "source": [
    "# waveguide of 2.5 mm length\n",
    "wg1 = siepic.waveguide(length=2500, height=220)\n",
    "# waveguide of 7.5 mm length\n",
    "wg2 = siepic.waveguide(length=7500, height=210)"
   ]
  },
  {
   "cell_type": "markdown",
   "metadata": {},
   "source": [
    "We can see the s-parameter dictionary for one of the waveguides by simply printing it (this will also tell us the port naming convention for this model):"
   ]
  },
  {
   "cell_type": "code",
   "execution_count": 5,
   "metadata": {},
   "outputs": [
    {
     "data": {
      "text/plain": [
       "{('o0', 'o0'): Array([0.+0.j], dtype=complex128),\n",
       " ('o0', 'o1'): Array([-0.82076344+0.57126822j], dtype=complex128),\n",
       " ('o1', 'o0'): Array([-0.82076344+0.57126822j], dtype=complex128),\n",
       " ('o1', 'o1'): Array([0.+0.j], dtype=complex128)}"
      ]
     },
     "execution_count": 5,
     "metadata": {},
     "output_type": "execute_result"
    }
   ],
   "source": [
    "wg1"
   ]
  },
  {
   "cell_type": "markdown",
   "metadata": {},
   "source": [
    "```{note}\n",
    "The convention in simphony is to use microns for units of length.\n",
    "```"
   ]
  },
  {
   "cell_type": "markdown",
   "metadata": {},
   "source": [
    "## Creating a Circuit\n",
    "\n",
    "Ports are represented simply by string names in SAX, and a netlist (or a circuit) is simply a dictionary defining instances of models, their corresponding connections, and the subsequently exposed ports. Netlists can also be used as models in other netlists; this concept is called recursive netlists, and we will discuss them in a later tutorial. Suffice it for now to say that the ports of the composite model (i.e. the subcircuit defined by some netlist), when connected within the context of a larger circuit, are the ports defined by your netlist.\n",
    "\n",
    "The simplest way to create a circuit and connect ports is to define the keys ``\"instances\"``, ``\"connections\"``, and ``\"ports\"``, as follows:"
   ]
  },
  {
   "cell_type": "code",
   "execution_count": 6,
   "metadata": {},
   "outputs": [],
   "source": [
    "netlist = {\n",
    "    \"instances\": {\n",
    "        \"wg1\": \"waveguide\",\n",
    "        \"wg2\": \"waveguide\",\n",
    "    },\n",
    "    \"connections\": {\n",
    "        \"wg1,o1\": \"wg2,o0\",\n",
    "    },\n",
    "    \"ports\": {\n",
    "        \"in\": \"wg1,o0\",\n",
    "        \"out\": \"wg2,o1\",\n",
    "    }\n",
    "}"
   ]
  },
  {
   "cell_type": "markdown",
   "metadata": {},
   "source": [
    "You then create a circuit object and define which functions (also called models in SAX parlance, and type hinted as \"SModel\") should be used to calculate the s-parameters for your component instances. This makes it very easy to swap other models in and out during different simulations.\n",
    "\n",
    "Because we said that ``\"wg1\"`` and ``\"wg2\"`` are instances of the ``\"waveguide\"`` model, we need to tell the circuit what model use to calculate the s-parameters for the ``\"waveguide\"`` instances. We do this by passing in a dictionary of model names to model functions. In this case, we only have one model, so we pass in a dictionary with one key-value pair."
   ]
  },
  {
   "cell_type": "code",
   "execution_count": 7,
   "metadata": {},
   "outputs": [],
   "source": [
    "circuit, info = sax.circuit(\n",
    "    netlist=netlist,\n",
    "    models={\n",
    "        \"waveguide\": siepic.waveguide,\n",
    "    }\n",
    ")"
   ]
  },
  {
   "cell_type": "markdown",
   "metadata": {},
   "source": [
    "Many models in simphony have port names prefixed with \"o\" and increasing from 0, e.g. \"o0\", \"o1\", etc. However, you should check the model functions you use before placing them in a netlist in order to guarantee you know what your model's port names are (this is easily accomplished by simply evaluating the model function and inspecting the keys of the resulting dictionary).\n",
    "\n",
    "In our netlist, we specified \"o1\" of ``wg1`` must connect to \"o0\" of ``wg2``. We gave our overall circuit more useful port names, though; \"in\" and \"out\" are more descriptive than \"o0\" and \"o1\".\n",
    "\n",
    ":::{note}\n",
    "For each model you use, refer to its documentation to see how port names are assigned.\n",
    ":::\n",
    "\n",
    "With this netlist defined, we now have a rudimentary circuit to run simulations on."
   ]
  },
  {
   "cell_type": "markdown",
   "metadata": {},
   "source": [
    "## Simulation"
   ]
  },
  {
   "cell_type": "markdown",
   "metadata": {},
   "source": [
    "### Native sax simulation\n",
    "\n",
    "In sax, the object returned by ``sax.circuit`` is a callable--this simply means it returns a function that can be called with the appropriate arguments. In this case, the arguments are the simulation parameters. In this case, that includes the array of wavelength points to evaluate the circuit performance at. The returned function is the one that actually calculates the s-parameters for the overall circuit. It inspects the signatures of the models comprising the circuit and passes through parameters provided at the toplevel. It passes to each only the parameters requied for a given function evaluation.\n",
    "\n",
    "Parameters can be specified for each instance in the netlist using keyword parameters corresponding to instance names and providing dictionaries containg parameter mappings to those keywords. Alternatively, parameters that share names can be specified at the toplevel and applied to all instances in a way that is reminiscent of a global parameter.\n",
    "\n",
    "We can inspect the function parametere list of our circuit:"
   ]
  },
  {
   "cell_type": "code",
   "execution_count": 8,
   "metadata": {},
   "outputs": [
    {
     "name": "stdout",
     "output_type": "stream",
     "text": [
      "\u001b[0;31mSignature:\u001b[0m\n",
      "\u001b[0mcircuit\u001b[0m\u001b[0;34m(\u001b[0m\u001b[0;34m\u001b[0m\n",
      "\u001b[0;34m\u001b[0m    \u001b[0;34m*\u001b[0m\u001b[0;34m,\u001b[0m\u001b[0;34m\u001b[0m\n",
      "\u001b[0;34m\u001b[0m    \u001b[0mwg1\u001b[0m\u001b[0;34m=\u001b[0m\u001b[0;34m{\u001b[0m\u001b[0;34m'wl'\u001b[0m\u001b[0;34m:\u001b[0m \u001b[0mArray\u001b[0m\u001b[0;34m(\u001b[0m\u001b[0;36m1.55\u001b[0m\u001b[0;34m,\u001b[0m \u001b[0mdtype\u001b[0m\u001b[0;34m=\u001b[0m\u001b[0mfloat64\u001b[0m\u001b[0;34m)\u001b[0m\u001b[0;34m,\u001b[0m \u001b[0;34m'pol'\u001b[0m\u001b[0;34m:\u001b[0m \u001b[0;34m'te'\u001b[0m\u001b[0;34m,\u001b[0m \u001b[0;34m'length'\u001b[0m\u001b[0;34m:\u001b[0m \u001b[0mArray\u001b[0m\u001b[0;34m(\u001b[0m\u001b[0;36m0.\u001b[0m\u001b[0;34m,\u001b[0m \u001b[0mdtype\u001b[0m\u001b[0;34m=\u001b[0m\u001b[0mfloat64\u001b[0m\u001b[0;34m)\u001b[0m\u001b[0;34m,\u001b[0m \u001b[0;34m'width'\u001b[0m\u001b[0;34m:\u001b[0m \u001b[0mArray\u001b[0m\u001b[0;34m(\u001b[0m\u001b[0;36m500.\u001b[0m\u001b[0;34m,\u001b[0m \u001b[0mdtype\u001b[0m\u001b[0;34m=\u001b[0m\u001b[0mfloat64\u001b[0m\u001b[0;34m)\u001b[0m\u001b[0;34m,\u001b[0m \u001b[0;34m'height'\u001b[0m\u001b[0;34m:\u001b[0m \u001b[0mArray\u001b[0m\u001b[0;34m(\u001b[0m\u001b[0;36m220.\u001b[0m\u001b[0;34m,\u001b[0m \u001b[0mdtype\u001b[0m\u001b[0;34m=\u001b[0m\u001b[0mfloat64\u001b[0m\u001b[0;34m)\u001b[0m\u001b[0;34m,\u001b[0m \u001b[0;34m'loss'\u001b[0m\u001b[0;34m:\u001b[0m \u001b[0mArray\u001b[0m\u001b[0;34m(\u001b[0m\u001b[0;36m0.\u001b[0m\u001b[0;34m,\u001b[0m \u001b[0mdtype\u001b[0m\u001b[0;34m=\u001b[0m\u001b[0mfloat64\u001b[0m\u001b[0;34m)\u001b[0m\u001b[0;34m}\u001b[0m\u001b[0;34m,\u001b[0m\u001b[0;34m\u001b[0m\n",
      "\u001b[0;34m\u001b[0m    \u001b[0mwg2\u001b[0m\u001b[0;34m=\u001b[0m\u001b[0;34m{\u001b[0m\u001b[0;34m'wl'\u001b[0m\u001b[0;34m:\u001b[0m \u001b[0mArray\u001b[0m\u001b[0;34m(\u001b[0m\u001b[0;36m1.55\u001b[0m\u001b[0;34m,\u001b[0m \u001b[0mdtype\u001b[0m\u001b[0;34m=\u001b[0m\u001b[0mfloat64\u001b[0m\u001b[0;34m)\u001b[0m\u001b[0;34m,\u001b[0m \u001b[0;34m'pol'\u001b[0m\u001b[0;34m:\u001b[0m \u001b[0;34m'te'\u001b[0m\u001b[0;34m,\u001b[0m \u001b[0;34m'length'\u001b[0m\u001b[0;34m:\u001b[0m \u001b[0mArray\u001b[0m\u001b[0;34m(\u001b[0m\u001b[0;36m0.\u001b[0m\u001b[0;34m,\u001b[0m \u001b[0mdtype\u001b[0m\u001b[0;34m=\u001b[0m\u001b[0mfloat64\u001b[0m\u001b[0;34m)\u001b[0m\u001b[0;34m,\u001b[0m \u001b[0;34m'width'\u001b[0m\u001b[0;34m:\u001b[0m \u001b[0mArray\u001b[0m\u001b[0;34m(\u001b[0m\u001b[0;36m500.\u001b[0m\u001b[0;34m,\u001b[0m \u001b[0mdtype\u001b[0m\u001b[0;34m=\u001b[0m\u001b[0mfloat64\u001b[0m\u001b[0;34m)\u001b[0m\u001b[0;34m,\u001b[0m \u001b[0;34m'height'\u001b[0m\u001b[0;34m:\u001b[0m \u001b[0mArray\u001b[0m\u001b[0;34m(\u001b[0m\u001b[0;36m220.\u001b[0m\u001b[0;34m,\u001b[0m \u001b[0mdtype\u001b[0m\u001b[0;34m=\u001b[0m\u001b[0mfloat64\u001b[0m\u001b[0;34m)\u001b[0m\u001b[0;34m,\u001b[0m \u001b[0;34m'loss'\u001b[0m\u001b[0;34m:\u001b[0m \u001b[0mArray\u001b[0m\u001b[0;34m(\u001b[0m\u001b[0;36m0.\u001b[0m\u001b[0;34m,\u001b[0m \u001b[0mdtype\u001b[0m\u001b[0;34m=\u001b[0m\u001b[0mfloat64\u001b[0m\u001b[0;34m)\u001b[0m\u001b[0;34m}\u001b[0m\u001b[0;34m,\u001b[0m\u001b[0;34m\u001b[0m\n",
      "\u001b[0;34m\u001b[0m\u001b[0;34m)\u001b[0m \u001b[0;34m->\u001b[0m \u001b[0;34m'SType'\u001b[0m\u001b[0;34m\u001b[0m\u001b[0;34m\u001b[0m\u001b[0m\n",
      "\u001b[0;31mDocstring:\u001b[0m <no docstring>\n",
      "\u001b[0;31mFile:\u001b[0m      ~/git/sax/sax/circuit.py\n",
      "\u001b[0;31mType:\u001b[0m      function"
     ]
    }
   ],
   "source": [
    "circuit?"
   ]
  },
  {
   "cell_type": "markdown",
   "metadata": {},
   "source": [
    "And we can evaluate it at a set of wavelength points:"
   ]
  },
  {
   "cell_type": "code",
   "execution_count": 9,
   "metadata": {},
   "outputs": [
    {
     "data": {
      "text/plain": [
       "{('in',\n",
       "  'in'): Array([0.+0.j, 0.+0.j, 0.+0.j, 0.+0.j, 0.+0.j], dtype=complex128),\n",
       " ('in',\n",
       "  'out'): Array([1.+0.j, 1.+0.j, 1.+0.j, 1.+0.j, 1.+0.j], dtype=complex128),\n",
       " ('out',\n",
       "  'in'): Array([1.+0.j, 1.+0.j, 1.+0.j, 1.+0.j, 1.+0.j], dtype=complex128),\n",
       " ('out',\n",
       "  'out'): Array([0.+0.j, 0.+0.j, 0.+0.j, 0.+0.j, 0.+0.j], dtype=complex128)}"
      ]
     },
     "execution_count": 9,
     "metadata": {},
     "output_type": "execute_result"
    }
   ],
   "source": [
    "sdict = circuit(wl=np.linspace(1.5, 1.6, 5))\n",
    "sdict"
   ]
  },
  {
   "cell_type": "markdown",
   "metadata": {},
   "source": [
    "As seen here, it would be very easy to select the overall transmission of our circuit by simply indexing the s-parameter dictionary with the appropriate port pair:"
   ]
  },
  {
   "cell_type": "code",
   "execution_count": 10,
   "metadata": {},
   "outputs": [
    {
     "data": {
      "text/plain": [
       "Array([1.+0.j, 1.+0.j, 1.+0.j, 1.+0.j, 1.+0.j], dtype=complex128)"
      ]
     },
     "execution_count": 10,
     "metadata": {},
     "output_type": "execute_result"
    }
   ],
   "source": [
    "sdict[(\"in\", \"out\")]"
   ]
  },
  {
   "cell_type": "markdown",
   "metadata": {},
   "source": [
    "### Helper simulation objects provided by simphony\n",
    "\n",
    "In bare-bones sax, it is difficult to provide multiple sources to a circuit to evaluate performance. It's also a more manual process to assign responsivity values to ports, for example, to mimic what you might actually observe on an oscilloscope after measuring light using a photodetector.\n",
    "\n",
    "```{eval-rst}\n",
    ":py:mod:`simphony.classical` provides a collection of simulators that connect to an input and output pin on a circuit, then perform a series of calculations to solve for the relationship between output light at each port of the circuit for given inputs of light.\n",
    "```\n",
    "\n",
    "Let's run a simple sweep simulation on the circuit we have created. We can pass parameters to the individual components within our circuit using the names we gave them in our netlist--that is, \"wg1\" and \"wg2\". This time, we'll pass them dictionaries of keyword arguments that will be used to instantiate their given models, so the key names must match those in the parameter list of the model. (Remember: always check the API of the models you want to use to see what parameters they take.)"
   ]
  },
  {
   "cell_type": "code",
   "execution_count": 11,
   "metadata": {},
   "outputs": [
    {
     "name": "stdout",
     "output_type": "stream",
     "text": [
      "Power transmission: [0.50118723]\n"
     ]
    }
   ],
   "source": [
    "from simphony.classical import ClassicalSim\n",
    "\n",
    "# Create a simulation and add a laser and detector\n",
    "sim = ClassicalSim(circuit, wl=1.55, wg1={\"length\": 2500.0, \"loss\": 3.0}, wg2={\"length\": 7500.0, \"loss\": 3.0})\n",
    "laser = sim.add_laser(ports=[\"in\"], power=1.0)\n",
    "detector = sim.add_detector(ports=[\"out\"])\n",
    "\n",
    "# Run the simulation\n",
    "result = sim.run()\n",
    "\n",
    "# Since the total wg length is 1 cm and the loss is 3 dB/cm, the power should be approximately 50%.\n",
    "print(f\"Power transmission: {abs(result.sdict['out'])**2}\")"
   ]
  },
  {
   "cell_type": "markdown",
   "metadata": {},
   "source": [
    "We instantiated our simulator with our circuit, adding a laser input to the \"input\" port of ``wg1`` and placing a detector on\n",
    "``wg2``. Our sweep simulation injected light at the input over a range of wavelengths from 1.5 microns to 1.6 microns, and now ``result`` contains parameters that came out of our circuit corresponding to the injected frequencies. We can use these results however we like in further analyses.\n",
    "\n",
    "In order to view the results, we can use the ``matplotlib`` package to graph our output, but that will be demonstrated\n",
    "in following tutorials. For this tutorial, we're done!"
   ]
  },
  {
   "cell_type": "markdown",
   "metadata": {},
   "source": []
  }
 ],
 "metadata": {
  "kernelspec": {
   "display_name": "env",
   "language": "python",
   "name": "python3"
  },
  "language_info": {
   "codemirror_mode": {
    "name": "ipython",
    "version": 3
   },
   "file_extension": ".py",
   "mimetype": "text/x-python",
   "name": "python",
   "nbconvert_exporter": "python",
   "pygments_lexer": "ipython3",
   "version": "3.11.5"
  },
  "orig_nbformat": 4
 },
 "nbformat": 4,
 "nbformat_minor": 2
}
