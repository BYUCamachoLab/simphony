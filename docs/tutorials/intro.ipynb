{
 "cells": [
  {
   "cell_type": "markdown",
   "metadata": {},
   "source": [
    "(introduction-to-simphony)=\n",
    "# Introduction to simphony"
   ]
  },
  {
   "cell_type": "markdown",
   "metadata": {},
   "source": [
    "Before we start this tutorial, you should know the basics of Python. We expect you to have an Python environment set up,\n",
    "with the [``simphony``](https://pypi.org/project/simphony/) package installed.\n",
    "\n",
    "Our goal with this tutorial is to define and simulate a simple circuit. In simphony, circuits are represented all in a\n",
    "single Python file. We'll go through the typical objects found in every circuit definition, in order.\n",
    "\n",
    "```{note}\n",
    "Simphony uses SPICE-like concepts--such as components, ports, and nets--to define circuits. This should make simphony\n",
    "intuitive for all those familiar with SPICE, which is commonly used to define electronic circuits. \n",
    "```"
   ]
  },
  {
   "cell_type": "markdown",
   "metadata": {},
   "source": [
    "## Models\n",
    "\n",
    "Models are the basic components in simphony, which are used to represent an element in a photonic circuit. Each model has a \n",
    "\n",
    "The base Model class provides a common interface for all models, including methods to get and set the scattering \n",
    "parameters, get references to ports, rename ports, and check if a model is connected to any others. It also \n",
    "provides methods to convert the model to a scikit-rf network, which can be useful for further analysis and \n",
    "simulation.\n"
   ]
  },
  {
   "cell_type": "markdown",
   "metadata": {},
   "source": [
    "```{eval-rst}\n",
    "Here's an overview of the Model parent class :py:class:`simphony.models.Model`:\n",
    "\n",
    ".. autoclass:: simphony.models.Model\n",
    "    :noindex:\n",
    "```"
   ]
  },
  {
   "cell_type": "markdown",
   "metadata": {},
   "source": [
    "```{note}\n",
    "A basic model has no ``__init__()`` function. It is only required if the model takes in parameters (width or length, for\n",
    "example) that  affect the scattering parameters.\n",
    "```"
   ]
  },
  {
   "cell_type": "markdown",
   "metadata": {},
   "source": [
    "All models in Simphony extend this parent class, but redefine ports, and s-parameters to match the device\n",
    "they represent."
   ]
  },
  {
   "cell_type": "markdown",
   "metadata": {},
   "source": [
    "## Instantiating Models\n",
    "\n",
    "Before we can use a model in our circuit, we need to instantiate it. When we instantiate a model we call the resulting\n",
    "object a component. The difference between models and components is that we can add any kind of state to a component\n",
    "after it has been instantiated, outside of what the model defines.\n",
    "\n",
    "Simphony includes a default library of models from the [SiEPIC PDK](https://github.com/SiEPIC) (developed at the University of British Columbia).\n",
    "We might instantiate a couple of models with the following (note in the docstring for the model that length should be defined in microns):"
   ]
  },
  {
   "cell_type": "code",
   "execution_count": 8,
   "metadata": {},
   "outputs": [],
   "source": [
    "from simphony.libraries import siepic\n",
    "\n",
    "# waveguide of 2.5 mm length\n",
    "wg1 = siepic.Waveguide(length=2500, loss=3)\n",
    "# waveguide of 7.5 mm length\n",
    "wg2 = siepic.Waveguide(length=7500, loss=3)"
   ]
  },
  {
   "cell_type": "markdown",
   "metadata": {},
   "source": [
    "```{eval-rst}\n",
    "These are both :py:class:`~simphony.libraries.siepic.Waveguide` models. The SiEPIC components are parameterizable, so we can pass different parameters when instantiating them. In this case ``wg1`` will be a shorter waveguide than ``wg2``.\n",
    "Thus the two will have differing s-parameters for each model since each waveguide was set to have 3 dB of loss per cm.\n",
    "```\n",
    "\n",
    "```{note}\n",
    "The convention in simphony is to use microns for units of length.\n",
    "```"
   ]
  },
  {
   "cell_type": "markdown",
   "metadata": {},
   "source": [
    "## Creating a Circuit\n",
    "\n",
    "```{eval-rst}\n",
    "The :py:class:`~simphony.models.Port` class is used as an interface to connect two components in a circuit. As an end user,\n",
    "you should rarely have to interact with ports directly; instead, there are :py:class:`~simphony.circuit.Circuit` methods that will handle\n",
    "connecting ports for you. Let's give an example.\n",
    "```\n",
    "\n",
    "The simplest way to connect ports is as follows:"
   ]
  },
  {
   "cell_type": "code",
   "execution_count": 9,
   "metadata": {},
   "outputs": [],
   "source": [
    "from simphony.circuit import Circuit"
   ]
  },
  {
   "cell_type": "code",
   "execution_count": 10,
   "metadata": {},
   "outputs": [],
   "source": [
    "wg1 = siepic.Waveguide(length=2500, loss=3)\n",
    "wg2 = siepic.Waveguide(length=7500, loss=3)\n",
    "\n",
    "ckt = Circuit()\n",
    "ckt.connect(wg1, wg2)"
   ]
  },
  {
   "cell_type": "markdown",
   "metadata": {},
   "source": [
    "This will connect the first unconnected optical port on each component together. However, if we want the first port of ``wg1`` to\n",
    "be an input, and instead connect its second port to ``wg2`` as an output, we have to connect the ports explicitly (recalling that ports are 0-indexed):"
   ]
  },
  {
   "cell_type": "code",
   "execution_count": 11,
   "metadata": {},
   "outputs": [],
   "source": [
    "wg1 = siepic.Waveguide(length=2500, loss=3)\n",
    "wg2 = siepic.Waveguide(length=7500, loss=3)\n",
    "\n",
    "ckt = Circuit()\n",
    "ckt.connect(wg1.o(1), wg2.o(0))"
   ]
  },
  {
   "cell_type": "markdown",
   "metadata": {},
   "source": [
    "By default, a model instantiates its ports with names \"o0\", \"o1\", etc. Here we specify \"o1\" of ``wg1`` must\n",
    "connect to \"o0\" of ``wg2``. "
   ]
  },
  {
   "cell_type": "code",
   "execution_count": 12,
   "metadata": {},
   "outputs": [],
   "source": [
    "wg1 = siepic.Waveguide(length=2500, loss=3)\n",
    "wg2 = siepic.Waveguide(length=7500, loss=3)\n",
    "\n",
    "ckt = Circuit()\n",
    "ckt.connect(wg1.o(\"o1\"), wg2.o(\"o0\"))"
   ]
  },
  {
   "cell_type": "markdown",
   "metadata": {},
   "source": [
    "We can also rename pins for semantic clarity. Also, anytime we specify a model without specifying a port, the first unconnected port is used."
   ]
  },
  {
   "cell_type": "code",
   "execution_count": 13,
   "metadata": {},
   "outputs": [],
   "source": [
    "wg1 = siepic.Waveguide(length=2500, loss=3)\n",
    "wg2 = siepic.Waveguide(length=7500, loss=3)\n",
    "\n",
    "# Pass in a list of strings to rename the ports of component1 in the same order \n",
    "# as they're defined in the model\n",
    "wg1.rename_oports([\"input\", \"output\"])\n",
    "\n",
    "ckt = Circuit()\n",
    "# Use the next unconnected port of component2\n",
    "ckt.connect(wg1.o(\"output\"), wg2)"
   ]
  },
  {
   "cell_type": "markdown",
   "metadata": {},
   "source": [
    "Here, we do the same as the previous example, except that we rename the two pins of ``component1`` to \"input\" and\n",
    "\"output\", and then connect \"output\" to ``component2``. We do not need to explicitly specify \"o1\" for ``component2``,\n",
    "since that is the first unconnected pin.\n",
    "\n",
    "With this connection, we now have a rudimentary circuit to run simulations on."
   ]
  },
  {
   "cell_type": "markdown",
   "metadata": {},
   "source": [
    "## Simulation\n",
    "\n",
    "```{eval-rst}\n",
    ":py:mod:`simphony.simulators` provides a collection of simulators that connect to an input and output pin on a\n",
    "circuit, then perform a subnetwork growth algorithm (a series of matrix operations). The results show us what output\n",
    "light comes out of the circuit for given inputs of light.\n",
    "```\n",
    "\n",
    "<!-- The simulation process modifies pins and components, so\n",
    "simulators actually copy the circuit they are passed in order to preserve the original circuit. -->\n",
    "\n",
    "Let's run a simple sweep simulation on the circuit we have created:"
   ]
  },
  {
   "cell_type": "code",
   "execution_count": 14,
   "metadata": {},
   "outputs": [
    {
     "name": "stdout",
     "output_type": "stream",
     "text": [
      "Power transmission: 0.5011872053146362\n"
     ]
    },
    {
     "name": "stderr",
     "output_type": "stream",
     "text": [
      "/home/sequoia/git/simphony/simphony/simulation/simdevices.py:66: UserWarning: Responsivity is not yet implemented, so it is ignored.\n",
      "  warnings.warn(\"Responsivity is not yet implemented, so it is ignored.\")\n",
      "/home/sequoia/git/simphony/simphony/connect.py:95: UserWarning: Explicitly requested dtype complex_ requested in zeros is not available, and will be truncated to dtype complex64. To enable more dtypes, set the jax_enable_x64 configuration option or the JAX_ENABLE_X64 shell environment variable. See https://github.com/google/jax#current-gotchas for more.\n",
      "  C = jnp.zeros((nf, nC, nC), dtype=\"complex_\")\n",
      "/home/sequoia/git/simphony/simphony/simulation/classical.py:140: UserWarning: Explicitly requested dtype <class 'jax.numpy.complex128'> requested in zeros is not available, and will be truncated to dtype complex64. To enable more dtypes, set the jax_enable_x64 configuration option or the JAX_ENABLE_X64 shell environment variable. See https://github.com/google/jax#current-gotchas for more.\n",
      "  src_v = jnp.zeros((len(self.wl), len(self.ckt._oports)), dtype=jnp.complex128)\n"
     ]
    }
   ],
   "source": [
    "from simphony.simulation import ClassicalSim\n",
    "\n",
    "# Create a simulation and add a laser and detector\n",
    "sim = ClassicalSim(ckt, wl=1.55)\n",
    "laser = sim.add_laser(ports=ckt.o(\"input\"), power=1.0)\n",
    "detector = sim.add_detector(ports=ckt.o(1))\n",
    "\n",
    "# Run the simulation\n",
    "result = sim.run()\n",
    "\n",
    "# Since the total wg length is 1 cm and the loss is 3 dB/cm, the power should be 50%.\n",
    "print(f\"Power transmission: {abs(result.output[0, 0])**2}\")"
   ]
  },
  {
   "cell_type": "markdown",
   "metadata": {},
   "source": [
    "We instantiated up our simulator with our circuit, adding a laser input to the \"input\" port of ``wg1`` and placing a detector on\n",
    "``wg2``. Our sweep simulation passed input light on a range of wavelengths from 1.5 microns to\n",
    "1.6 microns, and now ``result`` contains what frequencies came out of our circuit. We can use these results however we like.\n",
    "\n",
    "In order to view the results, we can use the ``matplotlib`` package to graph our output, but that will be demonstrated\n",
    "in following tutorials. For this tutorial, we're done!"
   ]
  },
  {
   "cell_type": "markdown",
   "metadata": {},
   "source": []
  }
 ],
 "metadata": {
  "kernelspec": {
   "display_name": "env",
   "language": "python",
   "name": "python3"
  },
  "language_info": {
   "codemirror_mode": {
    "name": "ipython",
    "version": 3
   },
   "file_extension": ".py",
   "mimetype": "text/x-python",
   "name": "python",
   "nbconvert_exporter": "python",
   "pygments_lexer": "ipython3",
   "version": "3.11.4"
  },
  "orig_nbformat": 4
 },
 "nbformat": 4,
 "nbformat_minor": 2
}
