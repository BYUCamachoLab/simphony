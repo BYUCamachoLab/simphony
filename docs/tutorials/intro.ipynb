{
 "cells": [
  {
   "cell_type": "markdown",
   "metadata": {},
   "source": [
    "(introduction-to-simphony)=\n",
    "# Introduction to simphony"
   ]
  },
  {
   "cell_type": "markdown",
   "metadata": {},
   "source": [
    "Before we start this tutorial, you should know the basics of Python. We expect you to have an Python environment set up,\n",
    "with the simphony package installed.\n",
    "\n",
    "Our goal with this tutorial is to define and simulate a simple circuit. In Simphony, circuits are represented all in a\n",
    "single Python file. We'll go through the typical objects found in every circuit definition, in order.\n",
    "\n",
    "```{note}\n",
    "Simphony uses SPICE concepts--such as components, pins, and nets--to define circuits. This should make Simphony\n",
    "intuitive for all those familiar with SPICE, which is commonly used to define electronic circuits. \n",
    "```"
   ]
  },
  {
   "cell_type": "markdown",
   "metadata": {},
   "source": [
    "## Models\n",
    "\n",
    "Models are basic, presimulated devices; you will connect a these together as components to build your circuit.\n",
    "\n",
    "A model has a number of ports for inputs and outputs, known as 'pins' in Simphony, and a range of light frequencies that\n",
    "the model is valid over. Internally, it stores a set of scattering parameters (s-parameters). S-parameters, if you\n",
    "aren't already familiar with them, are matrices used when simulating your circuit. We won't go into depth on them here."
   ]
  },
  {
   "cell_type": "markdown",
   "metadata": {},
   "source": [
    "```{eval-rst}\n",
    "Here's an overview of the Model parent class :py:class:`simphony.models.Model`.\n",
    "\n",
    ".. autoclass:: simphony.models.Model\n",
    "    :noindex:\n",
    "```"
   ]
  },
  {
   "cell_type": "markdown",
   "metadata": {},
   "source": [
    "```{note}\n",
    "A basic model has no ``__init__()`` function. It is only required if the model takes in parameters (width or length, for\n",
    "example) that  affect the scattering parameters.\n",
    "```"
   ]
  },
  {
   "cell_type": "markdown",
   "metadata": {},
   "source": [
    "All models in Simphony extend this parent class, but redefine pins, frequencies and s-parameters to match the device\n",
    "they represent."
   ]
  },
  {
   "cell_type": "markdown",
   "metadata": {},
   "source": [
    "## Instantiating Models\n",
    "\n",
    "Before we can use a model in our circuit, we need to instantiate it. When we instantiate a model we call the resulting\n",
    "object a component. The difference between models and components is that we can add any kind of state to a component\n",
    "after it has been instantiated, outside of what the model defines.\n",
    "\n",
    "Simphony includes a default library of models from the [SiEPIC PDK](https://github.com/SiEPIC) (developed at the University of British Columbia).\n",
    "We might define a couple of models with the following:"
   ]
  },
  {
   "cell_type": "code",
   "execution_count": null,
   "metadata": {},
   "outputs": [],
   "source": [
    "from simphony.libraries import siepic\n",
    "\n",
    "component1 = siepic.Waveguide(length=500e-9)\n",
    "component2 = siepic.Waveguide(length=1500e-9)"
   ]
  },
  {
   "cell_type": "markdown",
   "metadata": {},
   "source": [
    "```{eval-rst}\n",
    "These are both :py:class:`Waveguide` components. The model has two pins and a valid frequency range. We pass in\n",
    "parameters when instantiating them, so that ``component1`` will be a shorter :py:class:`Waveguide` than ``component2``.\n",
    "Thus the two will have differing s-parameters, meaning differing simulation results.\n",
    "```\n",
    "\n",
    "```{note}\n",
    "All measurements in Simphony should be in base SI units: instead of nanometer measurements, we will pass in meter\n",
    "measurements when instantiating models (i.e. 500e-9 m instead of 500 nm).\n",
    "```"
   ]
  },
  {
   "cell_type": "markdown",
   "metadata": {},
   "source": [
    "## Connecting Components\n",
    "\n",
    "```{eval-rst}\n",
    "The :py:class:`simphony.pins.Pin` class is used as an interface to connect two components in a circuit. As an end user,\n",
    "you should rarely have to interact with pins themselves; instead, there are component methods that will handle\n",
    "connecting pins for you. Let's give an example.\n",
    "```\n",
    "\n",
    "Using our previous two components to demonstrate, the simplest way to connect pins is as follows:"
   ]
  },
  {
   "cell_type": "code",
   "execution_count": null,
   "metadata": {},
   "outputs": [],
   "source": [
    "component1.connect(component2)"
   ]
  },
  {
   "cell_type": "markdown",
   "metadata": {},
   "source": [
    "This will connect the first unconnected pin on both components. However, if we want the first pin of ``component1`` to\n",
    "be an input, and instead connect its second pin to ``component2`` as an output, we have to connect the pins explicitly:"
   ]
  },
  {
   "cell_type": "code",
   "execution_count": null,
   "metadata": {},
   "outputs": [],
   "source": [
    "component1[\"pin2\"].connect(component2[\"pin1\"])"
   ]
  },
  {
   "cell_type": "markdown",
   "metadata": {},
   "source": [
    "By default, a model instantiates its pins with names 'pin1', 'pin2', etc. Here we specify 'pin2' of ``component1`` must\n",
    "connect to 'pin1' of ``component2``. We can also rename pins for semantic clarity:"
   ]
  },
  {
   "cell_type": "code",
   "execution_count": null,
   "metadata": {},
   "outputs": [],
   "source": [
    "component1.rename_pins(\"input\", \"output\")\n",
    "component1[\"output\"].connect(component2)"
   ]
  },
  {
   "cell_type": "markdown",
   "metadata": {},
   "source": [
    "Here, we do the same as the previous example, except that we rename the two pins of ``component1`` to 'input' and\n",
    "'output', and then connect 'output' to ``component2``. We do not need to explicitly specify 'pin1' for ``component2``,\n",
    "since that is the first unconnected pin.\n",
    "\n",
    "With this connection, we now have a rudimentary 'circuit' to run simulations on."
   ]
  },
  {
   "cell_type": "markdown",
   "metadata": {},
   "source": [
    "## Simulation\n",
    "\n",
    "```{eval-rst}\n",
    ":py:class:`simphony.simulators` provides a collection of simulators that connect to an input and output pin on a\n",
    "circuit, then perform a subnetwork growth algorithm (a series of matrix operations). The results show us what output\n",
    "light comes out of the circuit for given inputs of light. The simulation process modifies pins and components, so\n",
    "simulators actually copy the circuit they are passed in order to preserve the original circuit.\n",
    "```\n",
    "\n",
    "Let's run a simple sweep simulation on the circuit we have created:"
   ]
  },
  {
   "cell_type": "code",
   "execution_count": null,
   "metadata": {},
   "outputs": [],
   "source": [
    "from simphony.simulators import SweepSimulator\n",
    "\n",
    "simulation = SweepSimulator(1500e-9, 1600e-9)\n",
    "simulation.multiconnect(component1[\"input\"], component2[\"pin2\"])\n",
    "result = simulation.simulate()"
   ]
  },
  {
   "cell_type": "markdown",
   "metadata": {},
   "source": [
    "We hooked up our simulator to our circuit, with the 'input' pin on ``component1`` being our input and 'pin2' on\n",
    "``component2`` being our output. Our sweep simulation passed input light on a range of wavelengths from 1500nm to\n",
    "1600nm, and now ``result`` contains what frequencies came out of our circuit. We can use these results however we like.\n",
    "\n",
    "In order to view the results, we can use the ``matplotlib`` package to graph our output, but that will be demonstrated\n",
    "in following tutorials. For this tutorial, we're done!"
   ]
  }
 ],
 "metadata": {
  "language_info": {
   "name": "python"
  },
  "orig_nbformat": 4
 },
 "nbformat": 4,
 "nbformat_minor": 2
}
