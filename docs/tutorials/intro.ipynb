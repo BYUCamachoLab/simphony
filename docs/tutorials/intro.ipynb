{
 "cells": [
  {
   "cell_type": "markdown",
   "metadata": {},
   "source": [
    "(introduction-to-simphony)=\n",
    "# Introduction to simphony"
   ]
  },
  {
   "cell_type": "markdown",
   "metadata": {},
   "source": [
    "Simphony is a Python package for defining and simulating photonic circuits, so having a basic understanding of Python will be helpful. In order to get started you will need to setup a python environment with simphony installed. If you are new to Python, we recommend using [Anaconda](https://www.anaconda.com/products/individual) to manage your Python environment. Once you have Anaconda installed, you can create a new environment and install the [``simphony``](https://pypi.org/project/simphony/) package by running the following commands in your terminal:\n",
    "\n",
    "```bash\n",
    "conda create -n simphony python=3.11\n",
    "conda activate simphony\n",
    "pip install simphony\n",
    "```\n",
    "\n",
    "Our goal with this tutorial is to give some of the background of the basics of simphony in order to simulate a very simple photonic circuit. We'll go through the typical objects found in every circuit definition. We'll also show how to simulate the circuit and obtain the results.\n",
    "\n",
    "```{note}\n",
    "Simphony uses SPICE-like concepts--such as components, ports, and nets--to define circuits. This should make simphony\n",
    "intuitive for all those familiar with SPICE, which is commonly used to define electronic circuits. \n",
    "```"
   ]
  },
  {
   "cell_type": "markdown",
   "metadata": {},
   "source": [
    "## Models\n",
    "\n",
    "Models are the basic components in simphony, which are used to represent an element in a photonic circuit. The base Model class provides a common interface for all models, including methods to get and set the scattering parameters, get references to ports, rename ports, and check if a model is connected to any others. It also \n",
    "provides methods to convert the model to a scikit-rf network, which can be useful for further analysis and \n",
    "simulation.\n",
    "\n",
    "```{eval-rst}\n",
    "More detailed information about the Model parent class can be found on its doc page :py:class:`simphony.models.Model`:\n",
    "```\n",
    "\n",
    "All models in Simphony extend this parent class, but redefine ports, and s-parameters to match the device they represent. Simphony has a number of built-in models, but you can also create your own custom models by extending this Model class. Here we make a simple custom model with two ports and one parameter:"
   ]
  },
  {
   "cell_type": "code",
   "execution_count": 5,
   "metadata": {},
   "outputs": [
    {
     "data": {
      "text/plain": [
       "array([[[0. +0.j , 0. -0.5j],\n",
       "        [0.5+0.j , 0. +0.j ]],\n",
       "\n",
       "       [[0. +0.j , 0. -0.5j],\n",
       "        [0.5+0.j , 0. +0.j ]],\n",
       "\n",
       "       [[0. +0.j , 0. -0.5j],\n",
       "        [0.5+0.j , 0. +0.j ]]])"
      ]
     },
     "execution_count": 5,
     "metadata": {},
     "output_type": "execute_result"
    }
   ],
   "source": [
    "import numpy as np\n",
    "from simphony.models import Model\n",
    "\n",
    "class CustomModel(Model):\n",
    "    onames = [\"o0\", \"o1\"] # indicates the names of the optical ports of the model\n",
    "\n",
    "    def __init__(self, param: float = 0.5): # this model will have one parameter\n",
    "        self.param = param\n",
    "\n",
    "    def s_params(self, wl):\n",
    "        # a simple wavelength independent s-matrix\n",
    "        smatrix = np.array([[0, -1j * np.sqrt(self.param)],[np.sqrt(self.param), 0]])\n",
    "        return np.stack([smatrix] * len(wl), axis=0) # repeats smatrix for each wavelength\n",
    "    \n",
    "mymodel = CustomModel(param=0.25)\n",
    "mymodel.s_params(wl=np.linspace(1.5, 1.6, 3))"
   ]
  },
  {
   "cell_type": "markdown",
   "metadata": {},
   "source": [
    "```{note}\n",
    "All s_params in simphony are an array of shape (n_wl, n_ports, n_ports). The first dimension being the number of wavelength points and the next two being the scattering parameters for each port. For example S[2, 0, 1] is the scattering parameter from port 0 to port 1 at wavelength point corresponding to index 2.\n",
    "```{note}\n",
    "\n",
    "A basic model has no ``__init__()`` function. It is only required if the model takes in parameters (width or length, for example) that  affect the scattering parameters.\n",
    "```"
   ]
  },
  {
   "cell_type": "markdown",
   "metadata": {},
   "source": [
    "## Using Pre-built Models\n",
    "\n",
    "```{eval-rst}\n",
    "Simphony includes some pre-built models that can be used to build photonic circuits :py:mod:`simphony.libraries`:\n",
    "``` \n",
    "\n",
    "One library we use comes from the [SiEPIC PDK](https://github.com/SiEPIC) (developed at the University of British Columbia). This library contains the s-parameters for a number of photonic components that were fabricated and measured for a number of different parameters.\n",
    "\n",
    "For example lets instantiate two different models for a waveguide of different lengths:"
   ]
  },
  {
   "cell_type": "code",
   "execution_count": 8,
   "metadata": {},
   "outputs": [],
   "source": [
    "from simphony.libraries import siepic\n",
    "\n",
    "# waveguide of 2.5 mm length\n",
    "wg1 = siepic.Waveguide(length=100, height=220)\n",
    "# waveguide of 7.5 mm length\n",
    "wg2 = siepic.Waveguide(length=100, height=210)"
   ]
  },
  {
   "cell_type": "markdown",
   "metadata": {},
   "source": [
    "```{eval-rst}\n",
    "These are both :py:class:`~simphony.libraries.siepic.Waveguide` models. The SiEPIC components are parameterizable, so we can pass different parameters when instantiating them. In this case ``wg1`` will be a thicker waveguide than ``wg2``. The two models will have different s-parameters since their heights are different.\n",
    "```\n",
    "\n",
    "```{note}\n",
    "The convention in simphony is to use microns for units of length.\n",
    "```"
   ]
  },
  {
   "cell_type": "markdown",
   "metadata": {},
   "source": [
    "## Creating a Circuit\n",
    "\n",
    "```{eval-rst}\n",
    "The :py:class:`~simphony.models.Port` class is used as an interface to connect two models in a circuit. The :py:class:`~simphony.circuit.Circuit` class contains methods that handles connecting ports for you. Let's give an example.\n",
    "```\n",
    "\n",
    "The simplest way to connect ports is as follows:"
   ]
  },
  {
   "cell_type": "code",
   "execution_count": 9,
   "metadata": {},
   "outputs": [],
   "source": [
    "from simphony.circuit import Circuit\n",
    "\n",
    "wg1 = siepic.Waveguide(length=2500, loss=3)\n",
    "wg2 = siepic.Waveguide(length=7500, loss=3)\n",
    "\n",
    "ckt = Circuit()\n",
    "ckt.connect(wg1, wg2)"
   ]
  },
  {
   "cell_type": "markdown",
   "metadata": {},
   "source": [
    "This will connect the first unconnected optical port on each component together. However, if we want the first port of ``wg1`` to\n",
    "be an input, and instead connect its second port to ``wg2`` as an output, we have to connect the ports explicitly (recalling that ports are 0-indexed):"
   ]
  },
  {
   "cell_type": "code",
   "execution_count": 10,
   "metadata": {},
   "outputs": [],
   "source": [
    "wg1 = siepic.Waveguide(length=2500, loss=3)\n",
    "wg2 = siepic.Waveguide(length=7500, loss=3)\n",
    "\n",
    "ckt = Circuit()\n",
    "ckt.connect(wg1.o(1), wg2.o(0))"
   ]
  },
  {
   "cell_type": "markdown",
   "metadata": {},
   "source": [
    "By default, a model instantiates its ports with names \"o0\", \"o1\", etc. Here we specify \"o1\" of ``wg1`` must\n",
    "connect to \"o0\" of ``wg2``. "
   ]
  },
  {
   "cell_type": "code",
   "execution_count": 11,
   "metadata": {},
   "outputs": [],
   "source": [
    "wg1 = siepic.Waveguide(length=2500, loss=3)\n",
    "wg2 = siepic.Waveguide(length=7500, loss=3)\n",
    "\n",
    "ckt = Circuit()\n",
    "ckt.connect(wg1.o(\"o1\"), wg2.o(\"o0\"))"
   ]
  },
  {
   "cell_type": "markdown",
   "metadata": {},
   "source": [
    "We can also rename ports for semantic clarity. Also, anytime we specify a model without specifying a port, the first unconnected port is used."
   ]
  },
  {
   "cell_type": "code",
   "execution_count": 12,
   "metadata": {},
   "outputs": [],
   "source": [
    "wg1 = siepic.Waveguide(length=2500, loss=3)\n",
    "wg2 = siepic.Waveguide(length=7500, loss=3)\n",
    "\n",
    "# Pass in a list of strings to rename the ports of component1 in the same order \n",
    "# as they're defined in the model\n",
    "wg1.rename_oports([\"input\", \"output\"])\n",
    "\n",
    "ckt = Circuit()\n",
    "# Use the next unconnected port of component2\n",
    "ckt.connect(wg1.o(\"output\"), wg2)"
   ]
  },
  {
   "cell_type": "markdown",
   "metadata": {},
   "source": [
    "Here, we do the same as the previous example, except that we rename the two ports of ``component1`` to \"input\" and\n",
    "\"output\", and then connect \"output\" to ``component2``. We do not need to explicitly specify \"o0\" for ``component2``,\n",
    "since that is the first unconnected port.\n",
    "\n",
    "With this connection, we now have a rudimentary circuit to run simulations on."
   ]
  },
  {
   "cell_type": "markdown",
   "metadata": {},
   "source": [
    "## Simulation\n",
    "\n",
    "```{eval-rst}\n",
    ":py:mod:`simphony.simulators` provides a collection of simulators that connect to an input and output pin on a\n",
    "circuit, then perform a subnetwork growth algorithm (a series of matrix operations). The results show us what output light comes out of the circuit for given inputs of light.\n",
    "```\n",
    "\n",
    "<!-- The simulation process modifies pins and components, so\n",
    "simulators actually copy the circuit they are passed in order to preserve the original circuit. -->\n",
    "\n",
    "Let's run a simple sweep simulation on the circuit we have created:"
   ]
  },
  {
   "cell_type": "code",
   "execution_count": 13,
   "metadata": {},
   "outputs": [
    {
     "name": "stdout",
     "output_type": "stream",
     "text": [
      "Power transmission: 0.5011872336272725\n"
     ]
    },
    {
     "name": "stderr",
     "output_type": "stream",
     "text": [
      "/home/chuuni/simphony/simphony/simulation/simdevices.py:67: UserWarning: Responsivity is not yet implemented, so it is ignored.\n",
      "  warnings.warn(\"Responsivity is not yet implemented, so it is ignored.\")\n"
     ]
    }
   ],
   "source": [
    "from simphony.simulation import ClassicalSim\n",
    "\n",
    "# Create a simulation and add a laser and detector\n",
    "sim = ClassicalSim(ckt, wl=1.55)\n",
    "laser = sim.add_laser(ports=ckt.o(\"input\"), power=1.0)\n",
    "detector = sim.add_detector(ports=ckt.o(1))\n",
    "\n",
    "# Run the simulation\n",
    "result = sim.run()\n",
    "\n",
    "# Since the total wg length is 1 cm and the loss is 3 dB/cm, the power should be 50%.\n",
    "print(f\"Power transmission: {abs(result.output[0, 0])**2}\")"
   ]
  },
  {
   "cell_type": "markdown",
   "metadata": {},
   "source": [
    "We instantiated up our simulator with our circuit, adding a laser input to the \"input\" port of ``wg1`` and placing a detector on\n",
    "``wg2``. Our sweep simulation passed input light on a range of wavelengths from 1.5 microns to\n",
    "1.6 microns, and now ``result`` contains what frequencies came out of our circuit. We can use these results however we like.\n",
    "\n",
    "In order to view the results, we can use the ``matplotlib`` package to graph our output, but that will be demonstrated\n",
    "in following tutorials. For this tutorial, we're done!"
   ]
  }
 ],
 "metadata": {
  "kernelspec": {
   "display_name": "env",
   "language": "python",
   "name": "python3"
  },
  "language_info": {
   "codemirror_mode": {
    "name": "ipython",
    "version": 3
   },
   "file_extension": ".py",
   "mimetype": "text/x-python",
   "name": "python",
   "nbconvert_exporter": "python",
   "pygments_lexer": "ipython3",
   "version": "3.11.4"
  },
  "orig_nbformat": 4
 },
 "nbformat": 4,
 "nbformat_minor": 2
}
