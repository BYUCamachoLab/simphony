{
 "cells": [
  {
   "cell_type": "markdown",
   "metadata": {},
   "source": [
    "(monte_carlo_tutorial)=\n",
    "# Monte-Carlo simulation\n",
    "\n",
    "Let's also run a Monte-Carlo simulation. This type of simulation estimates manufacturing variability and margin of error\n",
    "found on real silicon circuits. Disconnect the previous simulator to connect the new simulator:"
   ]
  },
  {
   "cell_type": "code",
   "execution_count": null,
   "metadata": {},
   "outputs": [
    {
     "ename": "NameError",
     "evalue": "name 'simulator' is not defined",
     "output_type": "error",
     "traceback": [
      "\u001b[0;31m---------------------------------------------------------------------------\u001b[0m\n",
      "\u001b[0;31mNameError\u001b[0m                                 Traceback (most recent call last)\n",
      "Cell \u001b[0;32mIn[9], line 1\u001b[0m\n",
      "\u001b[0;32m----> 1\u001b[0m simulator\u001b[39m.\u001b[39mdisconnect()\n",
      "\u001b[1;32m      2\u001b[0m simulator \u001b[39m=\u001b[39m MonteCarloSweepSimulator(\u001b[39m1500e-9\u001b[39m, \u001b[39m1600e-9\u001b[39m)\n",
      "\u001b[1;32m      3\u001b[0m simulator\u001b[39m.\u001b[39mmulticonnect(gc_input, gc_output)\n",
      "\n",
      "\u001b[0;31mNameError\u001b[0m: name 'simulator' is not defined"
     ]
    }
   ],
   "source": [
    "simulator.disconnect()\n",
    "simulator = MonteCarloSweepSimulator(1500e-9, 1600e-9)\n",
    "simulator.multiconnect(gc_input, gc_output)"
   ]
  },
  {
   "cell_type": "markdown",
   "metadata": {},
   "source": [
    "Then we run the Monte-Carlo simulation several times, plotting each curve. We will now see several, slightly different\n",
    "curves on our graph due to random variation."
   ]
  },
  {
   "cell_type": "code",
   "execution_count": null,
   "metadata": {},
   "outputs": [],
   "source": [
    "results = simulator.simulate(runs=10)\n",
    "for f, p in results:\n",
    "    plt.plot(f, p)"
   ]
  },
  {
   "cell_type": "markdown",
   "metadata": {},
   "source": [
    "Finally, we can plot the first simulation again with black, to make sure it displays on top. We want this because the\n",
    "first simulation records results for ideal conditions."
   ]
  },
  {
   "cell_type": "code",
   "execution_count": null,
   "metadata": {},
   "outputs": [],
   "source": [
    "f, p = results[0]\n",
    "plt.plot(f, p, \"k\")\n",
    "plt.title(\"MZI Monte Carlo\")\n",
    "plt.tight_layout()\n",
    "plt.show()"
   ]
  },
  {
   "cell_type": "markdown",
   "metadata": {},
   "source": [
    "You should see something similar to this graph when you run your MZI now:\n",
    "\n",
    "![monte carlo spectrum](/_static/images/plot_mzi_mc2.png)\n",
    "\n",
    "We have now defined and simulated our MZI! This completes our tutorial."
   ]
  }
 ],
 "metadata": {
  "language_info": {
   "name": "python"
  },
  "orig_nbformat": 4
 },
 "nbformat": 4,
 "nbformat_minor": 2
}
