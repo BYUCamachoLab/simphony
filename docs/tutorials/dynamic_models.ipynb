{
 "cells": [
  {
   "cell_type": "markdown",
   "metadata": {},
   "source": [
    "# Dynamic Models"
   ]
  },
  {
   "cell_type": "markdown",
   "metadata": {},
   "source": [
    "Since objects are compared by equality, you need to make sure attributes are different between unique models. This can be done by adding a unique ID to each model, for example, using ``uuid4()`` or just a simple counter."
   ]
  },
  {
   "cell_type": "code",
   "execution_count": null,
   "metadata": {},
   "outputs": [],
   "source": [
    "def s_params(self, wl):\n",
    "    return interpolate(wl, self.wl, self.s)\n",
    "\n",
    "my_models = []\n",
    "for (name, wl, s) in my_collection:\n",
    "    my_models.append(type(name, (Model,), {ocount=s.shape[1], wl=wl, s=s, s_params=s_params}))"
   ]
  }
 ],
 "metadata": {
  "language_info": {
   "name": "python"
  },
  "orig_nbformat": 4
 },
 "nbformat": 4,
 "nbformat_minor": 2
}
