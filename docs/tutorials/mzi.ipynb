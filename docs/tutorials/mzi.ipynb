{
 "cells": [
  {
   "cell_type": "markdown",
   "metadata": {},
   "source": [
    "(example-mzi)=\n",
    "# Mach-Zehnder interferometer\n",
    "\n",
    "In this tutorial, we'll define and simulate a simple circuit known as a\n",
    "Mach-Zender Interferometer (MZI). This tutorial will walk through the code\n",
    "found in ``examples/mzi.py`` of the Simphony repository. We expect you to have\n",
    "read the previous tutorial, [intro](../intro).\n",
    "\n",
    "\n",
    "## Deconstructing the MZI\n",
    "\n",
    "In an MZI, light entering the circuit is split and travels down two paths of\n",
    "differing lengths. When the light is recombined, it interferes, and the output\n",
    "is frequency-dependent.\n",
    "\n",
    "```{figure} /_static/images/mzi.png\n",
    ":alt: waveguide\n",
    ":align: center\n",
    "\n",
    "A basic MZI. \n",
    "```\n",
    "\n",
    "The MZI we'll create can be broken down into constituent parts. Simphony\n",
    "includes models for these constituent parts below:\n",
    "\n",
    "```{figure} /_static/images/mzi_outline_ports_marked.png\n",
    ":alt: mzi\n",
    ":align: center\n",
    "\n",
    "Reusable components in an MZI.\n",
    "```\n",
    "\n",
    "The grating couplers are the input and output for light in the circuit. The\n",
    "Y-branch can split and recombine light, and because the waveguides which carry\n",
    "light across the circuit are varying length, this produces interference when\n",
    "the light is recombined at the second Y-branch. We can now begin defining our\n",
    "circuit in Simphony using the components we have identified.\n",
    "\n",
    "\n",
    "## Defining the circuit\n",
    "\n",
    "First we need to import the necessary Simphony modules. The ``siepic`` model\n",
    "library, the ``SweepSimulator`` and the ``MonteCarloSweepSimulator`` will be\n",
    "all that we need. We will also import ``matplotlib.pyplot``, from outside of\n",
    "Simphony, to view the results of our simulation."
   ]
  },
  {
   "cell_type": "code",
   "execution_count": null,
   "metadata": {},
   "outputs": [],
   "source": [
    "import matplotlib.pyplot as plt\n",
    "\n",
    "from simphony.libraries import siepic\n",
    "from simphony.simulators import MonteCarloSweepSimulator, SweepSimulator"
   ]
  },
  {
   "cell_type": "markdown",
   "metadata": {},
   "source": [
    "We then create all the components identified earlier. These include the grating\n",
    "couplers, the Y-branches, and the waveguides (which can be defined at any\n",
    "arbitrary length, on the condition that the two lengths are different)."
   ]
  },
  {
   "cell_type": "code",
   "execution_count": null,
   "metadata": {},
   "outputs": [],
   "source": [
    "gc_input = siepic.GratingCoupler()\n",
    "y_splitter = siepic.YBranch()\n",
    "wg_long = siepic.Waveguide(length=150e-6)\n",
    "wg_short = siepic.Waveguide(length=50e-6)\n",
    "y_recombiner = siepic.YBranch()\n",
    "gc_output = siepic.GratingCoupler()"
   ]
  },
  {
   "cell_type": "markdown",
   "metadata": {},
   "source": [
    "Once we have our components, we can connect them. We can reference the diagram above on which connections to make."
   ]
  },
  {
   "cell_type": "code",
   "execution_count": null,
   "metadata": {},
   "outputs": [],
   "source": [
    "# next we connect the components to each other\n",
    "# you can connect pins directly:\n",
    "y_splitter[\"pin1\"].connect(gc_input[\"pin1\"])\n",
    "\n",
    "# or connect components with components:\n",
    "# (when using components to make connections, their first unconnected pin will\n",
    "# be used to make the connection.)\n",
    "y_splitter.connect(wg_long)\n",
    "\n",
    "# or any combination of the two:\n",
    "y_splitter[\"pin3\"].connect(wg_short)\n",
    "# y_splitter.connect(wg_short[\"pin1\"])\n",
    "\n",
    "# when making multiple connections, it is often simpler to use `multiconnect`\n",
    "# multiconnect accepts components, pins, and None\n",
    "# if None is passed in, the corresponding pin is skipped\n",
    "y_recombiner.multiconnect(gc_output, wg_short, wg_long)"
   ]
  },
  {
   "cell_type": "markdown",
   "metadata": {},
   "source": [
    "```{note}\n",
    "There are several different ways of connecting components\n",
    "in Simphony, and many are demonstrated in this example,\n",
    "with comments included.\n",
    "\n",
    "You may also wish to rename pins for better semantics when\n",
    "writing your own circuit. This can be done with\n",
    "``component.rename_pins('new_pin1', 'new_pin2', ...)``, on\n",
    "any of the components we have created.\n",
    "\n",
    "``rename_pins`` can be called on a model itself. This will\n",
    "create default names for any new component you instantiate\n",
    "of that model.\n",
    "```"
   ]
  },
  {
   "cell_type": "markdown",
   "metadata": {},
   "source": [
    "These are all the connections required to define our circuit. The next step will be to run the simulations.\n",
    "\n",
    "## Sweep simulation\n",
    "\n",
    "First, we'll do a standard sweep simulation. We define the simulator, the frequency range to run, and then connect it to\n",
    "the input and output of our circuit:"
   ]
  },
  {
   "cell_type": "code",
   "execution_count": null,
   "metadata": {},
   "outputs": [],
   "source": [
    "simulator = SweepSimulator(1500e-9, 1600e-9)\n",
    "simulator.multiconnect(gc_input, gc_output)"
   ]
  },
  {
   "cell_type": "markdown",
   "metadata": {},
   "source": [
    "Now we simulate. We hand the results over to [``matplotlib``](https://matplotlib.org/) for a graph visualization:"
   ]
  },
  {
   "cell_type": "code",
   "execution_count": null,
   "metadata": {},
   "outputs": [],
   "source": [
    "f, p = simulator.simulate()\n",
    "plt.plot(f, p)\n",
    "plt.title(\"MZI\")\n",
    "plt.tight_layout()\n",
    "plt.show()"
   ]
  },
  {
   "cell_type": "markdown",
   "metadata": {},
   "source": [
    "When you run your MZI python file, it should bring up a graph showing something similar to this:\n",
    "\n",
    "![mzi_spectrum](/_static/images/plot_mzi.png)\n",
    "\n",
    "## Monte-Carlo simulation\n",
    "\n",
    "Let's also run a Monte-Carlo simulation. This type of simulation estimates manufacturing variability and margin of error\n",
    "found on real silicon circuits. Disconnect the previous simulator to connect the new simulator:"
   ]
  },
  {
   "cell_type": "code",
   "execution_count": null,
   "metadata": {},
   "outputs": [],
   "source": [
    "simulator.disconnect()\n",
    "simulator = MonteCarloSweepSimulator(1500e-9, 1600e-9)\n",
    "simulator.multiconnect(gc_input, gc_output)"
   ]
  },
  {
   "cell_type": "markdown",
   "metadata": {},
   "source": [
    "Then we run the Monte-Carlo simulation several times, plotting each curve. We will now see several, slightly different\n",
    "curves on our graph due to random variation."
   ]
  },
  {
   "cell_type": "code",
   "execution_count": null,
   "metadata": {},
   "outputs": [],
   "source": [
    "results = simulator.simulate(runs=10)\n",
    "for f, p in results:\n",
    "    plt.plot(f, p)"
   ]
  },
  {
   "cell_type": "markdown",
   "metadata": {},
   "source": [
    "Finally, we can plot the first simulation again with black, to make sure it displays on top. We want this because the\n",
    "first simulation records results for ideal conditions."
   ]
  },
  {
   "cell_type": "code",
   "execution_count": null,
   "metadata": {},
   "outputs": [],
   "source": [
    "f, p = results[0]\n",
    "plt.plot(f, p, \"k\")\n",
    "plt.title(\"MZI Monte Carlo\")\n",
    "plt.tight_layout()\n",
    "plt.show()"
   ]
  },
  {
   "cell_type": "markdown",
   "metadata": {},
   "source": [
    "You should see something similar to this graph when you run your MZI now:\n",
    "\n",
    "![monte carlo spectrum](/_static/images/plot_mzi_mc2.png)\n",
    "\n",
    "We have now defined and simulated our MZI! This completes our tutorial."
   ]
  },
  {
   "cell_type": "markdown",
   "metadata": {},
   "source": []
  }
 ],
 "metadata": {
  "language_info": {
   "name": "python"
  },
  "orig_nbformat": 4
 },
 "nbformat": 4,
 "nbformat_minor": 2
}
