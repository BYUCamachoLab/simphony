{
 "cells": [
  {
   "cell_type": "markdown",
   "metadata": {},
   "source": [
    "(example-filters)=\n",
    "# Add-drop filters"
   ]
  },
  {
   "cell_type": "markdown",
   "metadata": {},
   "source": [
    "In this tutorial, we are designing a circuit called an Add-Drop Filter, with a\n",
    "single input and multiple outputs.\n",
    "\n",
    "## Deconstruction\n",
    "\n",
    "An add-drop filter uses rings of different radii to select specific frequencies\n",
    "from an input waveguide and convey them to an output.\n",
    "\n",
    "```{eval-rst}\n",
    ".. figure:: /_static/images/filters.png\n",
    "    :alt: Add-Drop Filter\n",
    "    :align: center\n",
    "\n",
    "    A sample Add-Drop Filter. The rings all have differing\n",
    "    radii.\n",
    "```\n",
    "\n",
    "Light travels through the input waveguide, and some frequencies carry over to the ring waveguides, depending on the\n",
    "radius of the ring. These signals move along the ring until they transfer over to the output waveguides, giving us a\n",
    "reading on what frequencies of light traveled through the input. Light is designed to travel only in one direction after\n",
    "reaching the output waveguides, but we must account for backwards scattering light. We simply add a terminator at the\n",
    "other end of the output waveguides to diffuse any such light.\n",
    "\n",
    "Notice how the Add-Drop Filter is composed of three similar rings, differing only by their radius:\n",
    "\n",
    "```{eval-rst}\n",
    ".. figure:: /_static/images/ring.png\n",
    "    :align: center\n",
    "\n",
    "    An isolated, single ring resonator.\n",
    "```\n",
    "\n",
    "This single ring resonator can be defined using models from both SiEPIC and SiPANN libraries in Simphony. Instead of\n",
    "defining each model for each ring resonator sequentially, we can use what we call the \"factory\" design pattern: we will\n",
    "create a method that defines a ring resonator for us."
   ]
  },
  {
   "cell_type": "markdown",
   "metadata": {},
   "source": [
    "## Factory design pattern\n",
    "\n",
    "First, we need to import the libraries we need. The SiEPIC\n",
    "library, the sweep simulator, and matplotlib will be used,\n",
    "just as last tutorial. In addition, we need the SiPANN \n",
    "library. This library of models is not included by default\n",
    "in Simphony, but it integrates well. You will need to \n",
    "install it as shown in the [SiPANN docs](https://sipann.readthedocs.io/en/latest/)."
   ]
  },
  {
   "cell_type": "code",
   "execution_count": null,
   "metadata": {},
   "outputs": [],
   "source": [
    "import matplotlib.pyplot as plt\n",
    "import matplotlib.gridspec as gridspec\n",
    "\n",
    "from simphony.libraries import siepic, sipann\n",
    "from simphony.simulators import SweepSimulator"
   ]
  },
  {
   "cell_type": "markdown",
   "metadata": {},
   "source": [
    "We now create the method that generates a ring resonator for us. We pass in the radius as a parameter, and we are\n",
    "returned a subcircuit, which can be used much the same way a component can."
   ]
  },
  {
   "cell_type": "code",
   "execution_count": null,
   "metadata": {},
   "outputs": [],
   "source": [
    "def ring_factory(radius):\n",
    "    \"\"\"Creates a full ring (with terminator) from a half ring.\n",
    "\n",
    "    Resulting pins are ('pass', 'in', 'out').\n",
    "\n",
    "    Parameters\n",
    "    ----------\n",
    "    radius : float\n",
    "        The radius of the ring resonator, in meters.\n",
    "    \"\"\"\n",
    "    # Have rings for selecting out frequencies from the data line.\n",
    "    # See SiPANN's model API for argument order and units.\n",
    "    halfring1 = sipann.HalfRing(500e-9, 220e-9, radius, 100e-9)\n",
    "    halfring2 = sipann.HalfRing(500e-9, 220e-9, radius, 100e-9)\n",
    "    terminator = siepic.Terminator()\n",
    "\n",
    "    halfring1.rename_pins(\"pass\", \"midb\", \"in\", \"midt\")\n",
    "    halfring2.rename_pins(\"out\", \"midt\", \"term\", \"midb\")\n",
    "\n",
    "    # the interface method will connect all of the pins with matching names\n",
    "    # between the two components together\n",
    "    halfring1.interface(halfring2)\n",
    "    halfring2[\"term\"].connect(terminator)\n",
    "\n",
    "    # bundling the circuit as a Subcircuit allows us to interact with it\n",
    "    # as if it were a component\n",
    "    return halfring1.circuit.to_subcircuit()"
   ]
  },
  {
   "cell_type": "markdown",
   "metadata": {},
   "source": [
    "```{note}\n",
    "In this method, we just demonstrated two new abilities of Simphony that will be of interest to you. First is the\n",
    "``interface`` method of a component, another way of connecting components together conveniently. Second is the\n",
    "``to_subcircuit`` method. From one of our components, we can get its ``circuit``, which includes all components directly\n",
    "or indirectly connected to that first component. We transform that circuit into a Simphony Subcircuit, which behaves\n",
    "similarly to a single component.\n",
    "```\n",
    "\n",
    "Before we construct the full Add-Drop Filter, we can run a simulation on a single ring to make sure everything is\n",
    "behaving as expected."
   ]
  },
  {
   "cell_type": "code",
   "execution_count": null,
   "metadata": {},
   "outputs": [],
   "source": [
    "ring1 = ring_factory(10e-6)\n",
    "\n",
    "simulator = SweepSimulator(1500e-9, 1600e-9)\n",
    "simulator.multiconnect(ring1[\"in\"], ring1[\"pass\"])\n",
    "\n",
    "f, t = simulator.simulate(mode=\"freq\")\n",
    "plt.plot(f, t)\n",
    "plt.title(\"10-micron Ring Resonator\")\n",
    "plt.tight_layout()\n",
    "plt.show()\n",
    "\n",
    "simulator.disconnect()"
   ]
  },
  {
   "cell_type": "markdown",
   "metadata": {},
   "source": [
    "When you run your python file up to this point, you should\n",
    "see a graph similar to this:\n",
    "\n",
    "```{eval-rst}\n",
    ".. figure:: /_static/images/10um_ring_res.png\n",
    "    :align: center\n",
    "\n",
    "    The through-port frequency response of a 10 micron ring\n",
    "    resonator.\n",
    "```\n",
    "\n",
    "Now that we've created and tested our ``ring_factory``\n",
    "method, we can use it to define the Add-Drop Filter."
   ]
  },
  {
   "cell_type": "markdown",
   "metadata": {},
   "source": [
    "## Defining the circuit\n",
    "\n",
    "Let's create the components we'll use in the circuit:"
   ]
  },
  {
   "cell_type": "code",
   "execution_count": null,
   "metadata": {},
   "outputs": [],
   "source": [
    "wg_input = siepic.Waveguide(100e-6)\n",
    "wg_out1 = siepic.Waveguide(100e-6)\n",
    "wg_connect1 = siepic.Waveguide(100e-6)\n",
    "wg_out2 = siepic.Waveguide(100e-6)\n",
    "wg_connect2 = siepic.Waveguide(100e-6)\n",
    "wg_out3 = siepic.Waveguide(100e-6)\n",
    "terminator = siepic.Terminator()\n",
    "\n",
    "ring1 = ring_factory(10e-6)\n",
    "ring2 = ring_factory(11e-6)\n",
    "ring3 = ring_factory(12e-6)"
   ]
  },
  {
   "cell_type": "markdown",
   "metadata": {},
   "source": [
    "And then connect each component as seen in the diagram:"
   ]
  },
  {
   "cell_type": "code",
   "execution_count": null,
   "metadata": {},
   "outputs": [],
   "source": [
    "ring1.multiconnect(wg_connect1, wg_input[\"pin2\"], wg_out1)\n",
    "ring2.multiconnect(wg_connect2, wg_connect1, wg_out2)\n",
    "ring3.multiconnect(terminator, wg_connect2, wg_out3)"
   ]
  },
  {
   "cell_type": "markdown",
   "metadata": {},
   "source": [
    "Now we're ready to simulate."
   ]
  },
  {
   "cell_type": "markdown",
   "metadata": {},
   "source": [
    "## Simulation\n",
    "\n",
    "We'll run a sweep simulation, but we're reducing the frequency range to 1524.5-1551.15 nm, instead of a full 1500-1600\n",
    "nm sweep as we have done previously. This will show us a simpler graph of only a few peaks that the filter picks out.\n",
    "We'll be using more advanced matplotlib features here, reference the [matplotlib docs](https://matplotlib.org/) on these.\n",
    "\n",
    "Let's prepare the graph and the simulator to perform simulation:"
   ]
  },
  {
   "cell_type": "code",
   "execution_count": null,
   "metadata": {},
   "outputs": [],
   "source": [
    "fig = plt.figure(tight_layout=True)\n",
    "gs = gridspec.GridSpec(1, 3)\n",
    "ax = fig.add_subplot(gs[0, :2])\n",
    "\n",
    "simulator = SweepSimulator(1524.5e-9, 1551.15e-9)\n",
    "simulator.connect(wg_input)"
   ]
  },
  {
   "cell_type": "markdown",
   "metadata": {},
   "source": [
    "Next we simulate each output, and draw a curve for each."
   ]
  },
  {
   "cell_type": "code",
   "execution_count": null,
   "metadata": {},
   "outputs": [],
   "source": [
    "# get the results for output 1\n",
    "simulator.multiconnect(None, wg_out1)\n",
    "wl, t = simulator.simulate()\n",
    "ax.plot(wl * 1e9, t, label=\"Output 1\", lw=\"0.7\")\n",
    "\n",
    "# get the results for output 2\n",
    "simulator.multiconnect(None, wg_out2)\n",
    "wl, t = simulator.simulate()\n",
    "ax.plot(wl * 1e9, t, label=\"Output 2\", lw=\"0.7\")\n",
    "\n",
    "# get the results for output 3\n",
    "simulator.multiconnect(None, wg_out3)\n",
    "wl, t = simulator.simulate()\n",
    "ax.plot(wl * 1e9, t, label=\"Output 3\", lw=\"0.7\")"
   ]
  },
  {
   "cell_type": "markdown",
   "metadata": {},
   "source": [
    "Then we label our plot."
   ]
  },
  {
   "cell_type": "code",
   "execution_count": null,
   "metadata": {},
   "outputs": [],
   "source": [
    "ax.set_ylabel(\"Fractional Optical Power\")\n",
    "ax.set_xlabel(\"Wavelength (nm)\")\n",
    "plt.legend(loc=\"upper right\")"
   ]
  },
  {
   "cell_type": "markdown",
   "metadata": {},
   "source": [
    "We could stop here and have a perfectly good plot, but you will notice that one of the peaks will be very small and will\n",
    "be hard to see clearly on this graph. To fix this, we'll add a subplot to our graph to magnify the frequency range of\n",
    "this peak, then simulate and draw each of our outputs on this subplot again."
   ]
  },
  {
   "cell_type": "code",
   "execution_count": null,
   "metadata": {},
   "outputs": [],
   "source": [
    "ax = fig.add_subplot(gs[0, 2])\n",
    "\n",
    "# get the results for output 1\n",
    "simulator.multiconnect(None, wg_out1)\n",
    "wl, t = simulator.simulate()\n",
    "ax.plot(wl * 1e9, t, label=\"Output 1\", lw=\"0.7\")\n",
    "\n",
    "# get the results for output 2\n",
    "simulator.multiconnect(None, wg_out2)\n",
    "wl, t = simulator.simulate()\n",
    "ax.plot(wl * 1e9, t, label=\"Output 2\", lw=\"0.7\")\n",
    "\n",
    "# get the results for output 3\n",
    "simulator.multiconnect(None, wg_out3)\n",
    "wl, t = simulator.simulate()\n",
    "ax.plot(wl * 1e9, t, label=\"Output 3\", lw=\"0.7\")\n",
    "\n",
    "ax.set_xlim(1543, 1545)\n",
    "ax.set_ylabel(\"Fractional Optical Power\")\n",
    "ax.set_xlabel(\"Wavelength (nm)\")\n",
    "fig.align_labels()"
   ]
  },
  {
   "cell_type": "markdown",
   "metadata": {},
   "source": [
    "Finally, we show our plot."
   ]
  },
  {
   "cell_type": "code",
   "execution_count": null,
   "metadata": {},
   "outputs": [],
   "source": [
    "plt.show()"
   ]
  },
  {
   "cell_type": "markdown",
   "metadata": {},
   "source": [
    "What you should see when you run your Add-Drop circuit is\n",
    "something like this:\n",
    "\n",
    "```{eval-rst}\n",
    ".. figure:: /_static/images/add_drop_response.png\n",
    "    :align: center\n",
    "\n",
    "    The response of our designed add-drop filter.\n",
    "```\n",
    "\n",
    "And with that, this tutorial is concluded. For now, this is\n",
    "the last tutorial in the series for learning Simphony. We\n",
    "plan to write more for this series in future, but we hope\n",
    "that this has sufficiently demonstrated the capabilities of\n",
    "Simphony to you. If you wish, you may see the references\n",
    "section to dive into the API for Simphony."
   ]
  },
  {
   "cell_type": "markdown",
   "metadata": {},
   "source": []
  }
 ],
 "metadata": {
  "language_info": {
   "name": "python"
  },
  "orig_nbformat": 4
 },
 "nbformat": 4,
 "nbformat_minor": 2
}
