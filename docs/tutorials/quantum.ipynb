{
 "cells": [
  {
   "cell_type": "markdown",
   "metadata": {},
   "source": [
    "(example-quantum)=\n",
    "# Quantum simulation"
   ]
  },
  {
   "cell_type": "markdown",
   "metadata": {},
   "source": [
    "In this tutorial, we will learn how to use simphony's quantum simulator to simulate photonic circuits. \n",
    "\n",
    "## Background\n",
    "\n",
    "Let us first discuss some foundational quantum optics that will be useful for using and understanding simphony's quantum simulator. Let us consider a bosonic system with mode operators $\\hat{a}_k$ and $\\hat{a}_k^{\\dagger}$ where $k=1,...,n$ that satisfy the commutation relation $[\\hat{a}_k, \\hat{a}_l^{\\dagger}] = \\delta_{kl}$. The quadrature operators $\\hat{x}$ and $\\hat{p}$ are defined for the $k$-th mode as follows:\n",
    "\n",
    "$$\\hat{x}_k = \\frac{1}{2}(\\hat{a}_k + \\hat{a}_k^{\\dagger})$$\n",
    "\n",
    "$$\\hat{p}_k = \\frac{1}{2i}(\\hat{a}_k - \\hat{a}_k^{\\dagger})$$\n",
    "\n",
    "Simphony is capable of simulating a specific class of quantum states on photonic circuits, namely those whose phase space distributions can be mathematically represented in the Gaussian form. These states, called Gaussian states, are represented by a vector of means, $r$, and a covariance matrix, $\\sigma$. These can be defined using the quadrature operators as follows:\n",
    "\n",
    "$$r = \\langle \\hat{r} \\rangle = \\begin{pmatrix} \\langle \\hat{x}_1 \\rangle \\\\ \\langle \\hat{p}_1 \\rangle \\\\ \\vdots \\\\ \\langle \\hat{x}_n \\rangle \\\\ \\langle \\hat{p}_n \\rangle \\end{pmatrix}$$\n",
    "\n",
    "$$\\sigma_{jk} = \\frac{1}{2} \\langle \\{ \\hat{r}_j, \\hat{r}_k \\} \\rangle - \\langle \\hat{r}_j \\rangle \\langle \\hat{r}_k \\rangle$$\n",
    "\n",
    "Some examples of Gaussian states that can be fully described using this form are coherent states, squeezed states, and thermal states.\n",
    "\n",
    "Lets look at an example of a coherent state which is the type of state that is produced by a laser. A coherent state is usually denoted by the complex field amplitude $|\\alpha\\rangle$ and is defined in the Fock basis (photon number basis) as:\n",
    "\n",
    "$$|\\alpha\\rangle = e^{-\\frac{|\\alpha|^2}{2}} \\sum_{n=0}^{\\infty} \\frac{\\alpha^n}{\\sqrt{n!}} |n\\rangle$$\n",
    "\n",
    "where $|n\\rangle$ is the $n$-th Fock state. This state can be more simply defined in the gaussian form with a means vector of $(\\Re(\\alpha), \\Im(\\alpha))$ and a covariance matrix of $\\frac{1}{4}\\mathbb{I}$.\n",
    "\n",
    "Lets define a coherent state with a complex field amplitude of $\\alpha = 1 + i$ and plot its phase space distribution."
   ]
  },
  {
   "cell_type": "code",
   "execution_count": 1,
   "metadata": {},
   "outputs": [
    {
     "data": {
      "image/png": "[encoded data removed]",
      "text/plain": [
       "<Figure size 640x480 with 1 Axes>"
      ]
     },
     "metadata": {},
     "output_type": "display_data"
    },
    {
     "name": "stdout",
     "output_type": "stream",
     "text": [
      "<simphony.quantum.CoherentState object at 0x000002CBBE2A17D0>\n",
      "Convention: xpxp\n",
      "Means: [1. 1.]\n",
      "Cov: \n",
      "[[0.25 0.  ]\n",
      " [0.   0.25]]\n"
     ]
    }
   ],
   "source": [
    "from simphony.quantum import CoherentState\n",
    "import matplotlib.pyplot as plt\n",
    "\n",
    "# Create a coherent state with alpha = 1+1j\n",
    "\n",
    "# port=\"in\" is the name of the circuit port you inject the state in this case,\n",
    "# we haven't defined any circuit yet, so we'll use an arbitrary port name \"in\"\n",
    "coherent_state = CoherentState(port=\"in\", alpha=1+1j) \n",
    "coherent_state.plot_mode(0) # we only have one mode in this state\n",
    "plt.show()\n",
    "print(coherent_state)"
   ]
  },
  {
   "cell_type": "markdown",
   "metadata": {},
   "source": [
    "Coherent states are probably the simplest type of Gaussian states. Other Gaussian states can be defined by applying linear transformations to coherent states. For example, a squeezed state is defined by applying a squeezing operator to a coherent state. A squeezing operator is defined as:\n",
    "\n",
    "Simphony can also represent states that have more than one mode. Lets see how we can define a "
   ]
  },
  {
   "cell_type": "markdown",
   "metadata": {},
   "source": [
    "```{note} \n",
    "\n",
    "Simphony adopts the convention of $\\hbar=1/2$ such that $[\\hat{x}, \\hat{p}] = i\\hbar = i/4$ where $\\hat{x}$ is the position operator, $\\hat{p}$ is the momentum operator, and $\\hbar$ is the reduced Planck constant. Which corresponds to the uncertainty of the vacuum state $\\langle (\\Delta \\hat{X})^2\\rangle=\\frac{1}{4}$ This convention is used in the definition of the covariance matrix and used in {cite:p}`brask2021gaussian`.\n",
    "```"
   ]
  },
  {
   "cell_type": "markdown",
   "metadata": {},
   "source": [
    "## Simulation\n",
    "\n",
    "Simphony takes the classical s-parameters of a circuit and then converts them into a quantum compatible form. One requirement of any quantum system is any transformation must be unitary. This means that it must not have any loss. Simphony converts the s-parameters into a unitary matrix by adding extra modes for vacuum states to account for the loss. Simphony assumes that any loss in a circuit is uniform across all ports. "
   ]
  },
  {
   "cell_type": "code",
   "execution_count": 1,
   "metadata": {},
   "outputs": [],
   "source": [
    "import sax\n",
    "\n",
    "from simphony.libraries import siepic\n",
    "\n",
    "mzi, info = sax.circuit(\n",
    "    netlist={\n",
    "        \"instances\": {\n",
    "            \"gc_in\": \"gc\",\n",
    "            \"splitter\": \"ybranch\",\n",
    "            \"long_wg\": \"waveguide\",\n",
    "            \"short_wg\": \"waveguide\",\n",
    "            \"combiner\": \"ybranch\",\n",
    "            \"gc_out\": \"gc\",\n",
    "        },\n",
    "        \"connections\": {\n",
    "            \"gc_in,o0\": \"splitter,port 1\",\n",
    "            \"splitter,port 2\": \"long_wg,o0\",\n",
    "            \"splitter,port 3\": \"short_wg,o0\",\n",
    "            \"long_wg,o1\": \"combiner,port 2\",\n",
    "            \"short_wg,o1\": \"combiner,port 3\",\n",
    "            \"combiner,port 1\": \"gc_out,o0\",\n",
    "        },\n",
    "        \"ports\": {\n",
    "            \"in\": \"gc_in,o1\",\n",
    "            \"out\": \"gc_out,o1\",\n",
    "        },\n",
    "    },\n",
    "    models={\n",
    "        \"ybranch\": siepic.y_branch,\n",
    "        \"waveguide\": siepic.waveguide,\n",
    "        \"gc\": siepic.grating_coupler,\n",
    "    }\n",
    ")"
   ]
  },
  {
   "cell_type": "code",
   "execution_count": 4,
   "metadata": {},
   "outputs": [],
   "source": [
    "from simphony.quantum import QuantumSim, CoherentState\n",
    "\n",
    "wl = 1.55 # um\n",
    "sim = QuantumSim(ckt=mzi, wl=wl, long_wg={\"length\": 150.0}, short_wg={\"length\": 50.0})\n",
    "qstate = CoherentState(port=\"in\", alpha=1+1j)\n",
    "sim.add_qstate(qstate=qstate)\n",
    "res = sim.run()"
   ]
  },
  {
   "cell_type": "code",
   "execution_count": 6,
   "metadata": {},
   "outputs": [
    {
     "data": {
      "text/plain": [
       "QuantumResult(s_params=Array([[[0.09961867-0.02142212j, 0.3800803 +0.15859034j],\n",
       "        [0.3800803 +0.15859034j, 0.09961867-0.02142212j]]],      dtype=complex128), input_means=Array([1., 0., 0., 0., 1., 0., 0., 0.], dtype=float64), input_cov=Array([[0.25, 0.  , 0.  , 0.  , 0.  , 0.  , 0.  , 0.  ],\n",
       "       [0.  , 0.25, 0.  , 0.  , 0.  , 0.  , 0.  , 0.  ],\n",
       "       [0.  , 0.  , 0.25, 0.  , 0.  , 0.  , 0.  , 0.  ],\n",
       "       [0.  , 0.  , 0.  , 0.25, 0.  , 0.  , 0.  , 0.  ],\n",
       "       [0.  , 0.  , 0.  , 0.  , 0.25, 0.  , 0.  , 0.  ],\n",
       "       [0.  , 0.  , 0.  , 0.  , 0.  , 0.25, 0.  , 0.  ],\n",
       "       [0.  , 0.  , 0.  , 0.  , 0.  , 0.  , 0.25, 0.  ],\n",
       "       [0.  , 0.  , 0.  , 0.  , 0.  , 0.  , 0.  , 0.25]], dtype=float64), transforms=Array([[[ 9.96186721e-02,  3.80080300e-01, -9.05541431e-01,\n",
       "          0.00000000e+00,  2.14221209e-02, -1.58590337e-01,\n",
       "         -1.68024456e-18, -0.00000000e+00],\n",
       "        [ 3.80080300e-01,  9.96186721e-02,  0.00000000e+00,\n",
       "         -9.05541431e-01, -1.58590337e-01,  2.14221209e-02,\n",
       "         -0.00000000e+00,  7.85282694e-19],\n",
       "        [ 9.05541431e-01,  0.00000000e+00,  9.96186721e-02,\n",
       "          3.80080300e-01,  1.68024456e-18, -0.00000000e+00,\n",
       "          2.14221209e-02, -1.58590337e-01],\n",
       "        [ 0.00000000e+00,  9.05541431e-01,  3.80080300e-01,\n",
       "          9.96186721e-02, -0.00000000e+00, -7.85282694e-19,\n",
       "         -1.58590337e-01,  2.14221209e-02],\n",
       "        [-2.14221209e-02,  1.58590337e-01,  1.68024456e-18,\n",
       "          0.00000000e+00,  9.96186721e-02,  3.80080300e-01,\n",
       "         -9.05541431e-01,  0.00000000e+00],\n",
       "        [ 1.58590337e-01, -2.14221209e-02,  0.00000000e+00,\n",
       "         -7.85282694e-19,  3.80080300e-01,  9.96186721e-02,\n",
       "          0.00000000e+00, -9.05541431e-01],\n",
       "        [-1.68024456e-18,  0.00000000e+00, -2.14221209e-02,\n",
       "          1.58590337e-01,  9.05541431e-01,  0.00000000e+00,\n",
       "          9.96186721e-02,  3.80080300e-01],\n",
       "        [ 0.00000000e+00,  7.85282694e-19,  1.58590337e-01,\n",
       "         -2.14221209e-02,  0.00000000e+00,  9.05541431e-01,\n",
       "          3.80080300e-01,  9.96186721e-02]]], dtype=float64), means=Array([[0.12104079, 0.22148996, 0.90554143, 0.        , 0.07819655,\n",
       "        0.53867064, 0.90554143, 0.        ]], dtype=float64), cov=Array([[[ 2.50000000e-01,  1.72328767e-02,  0.00000000e+00,\n",
       "         -5.54133990e-17,  3.80382767e-19, -1.57859836e-16,\n",
       "          9.69930902e-03, -7.18050603e-02],\n",
       "        [ 1.72328767e-02,  2.50000000e-01,  5.54133990e-17,\n",
       "          0.00000000e+00,  1.58293517e-16, -6.93562863e-20,\n",
       "         -7.18050603e-02,  9.69930902e-03],\n",
       "        [ 0.00000000e+00,  5.54133990e-17,  2.50000000e-01,\n",
       "          1.72328767e-02, -9.69930902e-03,  7.18050603e-02,\n",
       "          0.00000000e+00, -1.57859836e-16],\n",
       "        [-5.54133990e-17,  0.00000000e+00,  1.72328767e-02,\n",
       "          2.50000000e-01,  7.18050603e-02, -9.69930902e-03,\n",
       "          1.58293517e-16,  1.08420217e-19],\n",
       "        [ 3.80382767e-19,  1.58293517e-16, -9.69930902e-03,\n",
       "          7.18050603e-02,  2.50000000e-01,  1.72328767e-02,\n",
       "          0.00000000e+00, -5.55111512e-17],\n",
       "        [-1.57859836e-16, -6.93562863e-20,  7.18050603e-02,\n",
       "         -9.69930902e-03,  1.72328767e-02,  2.50000000e-01,\n",
       "          5.55111512e-17,  0.00000000e+00],\n",
       "        [ 9.69930902e-03, -7.18050603e-02,  0.00000000e+00,\n",
       "          1.58293517e-16,  0.00000000e+00,  5.55111512e-17,\n",
       "          2.50000000e-01,  1.72328767e-02],\n",
       "        [-7.18050603e-02,  9.69930902e-03, -1.57859836e-16,\n",
       "          1.08420217e-19, -5.55111512e-17,  0.00000000e+00,\n",
       "          1.72328767e-02,  2.50000000e-01]]], dtype=float64), wl=Array([1.55], dtype=float64, weak_type=True), n_ports=2)"
      ]
     },
     "execution_count": 6,
     "metadata": {},
     "output_type": "execute_result"
    }
   ],
   "source": [
    "res"
   ]
  },
  {
   "cell_type": "markdown",
   "metadata": {},
   "source": [
    "**References**\n",
    "\n",
    "```{bibliography}\n",
    ":filter: docname in docnames\n",
    ":style: unsrt\n",
    "```"
   ]
  }
 ],
 "metadata": {
  "kernelspec": {
   "display_name": "gf",
   "language": "python",
   "name": "python3"
  },
  "language_info": {
   "codemirror_mode": {
    "name": "ipython",
    "version": 3
   },
   "file_extension": ".py",
   "mimetype": "text/x-python",
   "name": "python",
   "nbconvert_exporter": "python",
   "pygments_lexer": "ipython3",
   "version": "3.11.3"
  }
 },
 "nbformat": 4,
 "nbformat_minor": 2
}
