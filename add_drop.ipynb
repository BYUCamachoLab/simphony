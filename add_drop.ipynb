{
 "cells": [
  {
   "cell_type": "code",
   "execution_count": 1,
   "metadata": {},
   "outputs": [],
   "source": [
    "import matplotlib.pyplot as plt\n",
    "\n",
    "from simphony.libraries import siepic\n",
    "from simphony.die import Die"
   ]
  },
  {
   "cell_type": "code",
   "execution_count": null,
   "metadata": {},
   "outputs": [],
   "source": [
    "def ring_factory(radius):\n",
    "  \"\"\"Creates a full ring (with terminator) from a half ring.\n",
    "\n",
    "  Resulting pins are ('pass', 'in', 'out').\n",
    "\n",
    "  Parameters\n",
    "  ----------\n",
    "  radius : float\n",
    "      The radius of the ring resonator, in meters.\n",
    "  \"\"\"\n",
    "  # Have rings for selecting out frequencies from the data line.\n",
    "  # See SiPANN's model API for argument order and units.\n",
    "  halfring1 = siepic.HalfRing(width=500e-9, thickness=220e-9, radius=radius, gap=100e-9)\n",
    "  halfring2 = siepic.HalfRing(width=500e-9, thickness=220e-9, radius=radius, gap=100e-9)\n",
    "  terminator = siepic.Terminator()\n",
    "\n",
    "  halfring1.rename_pins(\"pass\", \"midb\", \"in\", \"midt\")\n",
    "  halfring2.rename_pins(\"out\", \"midt\", \"term\", \"midb\")\n",
    "\n",
    "  # the interface method will connect all of the pins with matching names\n",
    "  # between the two components together\n",
    "  halfring1.interface(halfring2)\n",
    "  halfring2[\"term\"].connect(terminator)\n",
    "\n",
    "  # bundling the circuit as a Subcircuit allows us to interact with it\n",
    "  # as if it were a component\n",
    "  return halfring1.circuit.to_subcircuit()"
   ]
  },
  {
   "cell_type": "code",
   "execution_count": 2,
   "metadata": {},
   "outputs": [
    {
     "name": "stdout",
     "output_type": "stream",
     "text": [
      "name=pass\n",
      "name=midb\n",
      "name=in\n",
      "name=midt\n",
      "name=out\n",
      "name=midt\n",
      "name=term\n",
      "name=midb\n"
     ]
    },
    {
     "name": "stderr",
     "output_type": "stream",
     "text": [
      "c:\\Users\\s39chand\\Documents\\GitHub\\simphony\\simphony\\libraries\\siepic\\__init__.py:440: UserWarning: Exact parameters not available for '<class 'simphony.libraries.siepic.HalfRing'>', using closest approximation (results may not be as accurate).\n",
      "Requested: {'gap': 1e-07, 'radius': 1.1e-05, 'width': 5e-07, 'thickness': 2.2e-07, 'couple_length': 0.0}\n",
      "Selected:  {'gap': 1e-07, 'radius': 1e-05, 'width': 5e-07, 'thickness': 2.2e-07, 'couple_length': 0.0}\n",
      "NOTE: Model attributes may have been automatically modified.\n",
      "  warnings.warn(msg, UserWarning)\n"
     ]
    },
    {
     "name": "stdout",
     "output_type": "stream",
     "text": [
      "name=pass\n",
      "name=midb\n",
      "name=in\n",
      "name=midt\n",
      "name=out\n",
      "name=midt\n",
      "name=term\n",
      "name=midb\n"
     ]
    },
    {
     "name": "stderr",
     "output_type": "stream",
     "text": [
      "c:\\Users\\s39chand\\Documents\\GitHub\\simphony\\simphony\\libraries\\siepic\\__init__.py:440: UserWarning: Exact parameters not available for '<class 'simphony.libraries.siepic.HalfRing'>', using closest approximation (results may not be as accurate).\n",
      "Requested: {'gap': 1e-07, 'radius': 1.2e-05, 'width': 5e-07, 'thickness': 2.2e-07, 'couple_length': 0.0}\n",
      "Selected:  {'gap': 1e-07, 'radius': 1e-05, 'width': 5e-07, 'thickness': 2.2e-07, 'couple_length': 0.0}\n",
      "NOTE: Model attributes may have been automatically modified.\n",
      "  warnings.warn(msg, UserWarning)\n"
     ]
    },
    {
     "name": "stdout",
     "output_type": "stream",
     "text": [
      "name=pass\n",
      "name=midb\n",
      "name=in\n",
      "name=midt\n",
      "name=out\n",
      "name=midt\n",
      "name=term\n",
      "name=midb\n"
     ]
    }
   ],
   "source": [
    "wg_input = siepic.Waveguide(100e-6, name=\"wg_input\")\n",
    "wg_out1 = siepic.Waveguide(100e-6, name=\"wg_out1\")\n",
    "wg_connect1 = siepic.Waveguide(100e-6, name=\"wg_connect1\")\n",
    "wg_out2 = siepic.Waveguide(100e-6, name=\"wg_out2\")\n",
    "wg_connect2 = siepic.Waveguide(100e-6, name=\"wg_connect2\")\n",
    "wg_out3 = siepic.Waveguide(100e-6, name=\"wg_out3\")\n",
    "terminator = siepic.Terminator(name=\"terminator\")\n",
    "\n",
    "# ring1 = ring_factory(10e-6)\n",
    "# ring1.circuit.to_subcircuit().name = \"ring1\"\n",
    "# ring2 = ring_factory(11e-6)\n",
    "# ring2.circuit.to_subcircuit().name = \"ring2\"\n",
    "# ring3 = ring_factory(12e-6)\n",
    "# ring3.circuit.to_subcircuit().name = \"ring3\"\n",
    "\n",
    "ring1 = siepic.HalfRing(width=500e-9, thickness=220e-9, radius=10e-6, gap=100e-9, name=\"ring1\")\n",
    "halfring1 = siepic.HalfRing(width=500e-9, thickness=220e-9, radius=10e-6, gap=100e-9, name=\"halfring1\")\n",
    "terminator1 = siepic.Terminator(name=\"terminator1\")\n",
    "\n",
    "ring1.rename_pins(\"in\", \"midb\", \"midt\", \"pass\")\n",
    "halfring1.rename_pins(\"out\", \"midt\", \"midb\", \"term\")\n",
    "\n",
    "# the interface method will connect all of the pins with matching names\n",
    "# between the two components together\n",
    "# ring1.interface(halfring1)\n",
    "# halfring1[\"term\"].connect(terminator)\n",
    "\n",
    "ring2 = siepic.HalfRing(width=500e-9, thickness=220e-9, radius=11e-6, gap=100e-9, name=\"ring2\")\n",
    "halfring2 = siepic.HalfRing(width=500e-9, thickness=220e-9, radius=11e-6, gap=100e-9, name=\"halfring2\")\n",
    "terminator2 = siepic.Terminator(name=\"terminator2\")\n",
    "\n",
    "ring2.rename_pins(\"in\", \"midb\", \"midt\", \"pass\")\n",
    "halfring2.rename_pins(\"out\", \"midt\", \"midb\", \"term\")\n",
    "\n",
    "\n",
    "# the interface method will connect all of the pins with matching names\n",
    "# between the two components together\n",
    "# ring2.interface(halfring2)\n",
    "# halfring2[\"term\"].connect(terminator)\n",
    "\n",
    "ring3 = siepic.HalfRing(width=500e-9, thickness=220e-9, radius=12e-6, gap=100e-9, name=\"ring3\")\n",
    "halfring3 = siepic.HalfRing(width=500e-9, thickness=220e-9, radius=12e-6, gap=100e-9, name=\"halfring3\")\n",
    "terminator3 = siepic.Terminator(name=\"terminator3\")\n",
    "\n",
    "ring3.rename_pins(\"in\", \"midb\", \"midt\", \"pass\")\n",
    "halfring3.rename_pins(\"out\", \"midt\", \"midb\", \"term\")\n",
    "\n",
    "# the interface method will connect all of the pins with matching names\n",
    "# between the two components together\n",
    "# ring3.interface(halfring3)\n",
    "# halfring3[\"term\"].connect(terminator)\n",
    "\n",
    "die = Die()\n",
    "\n",
    "die.add_components([ring1, halfring1])"
   ]
  },
  {
   "cell_type": "code",
   "execution_count": 6,
   "metadata": {},
   "outputs": [
    {
     "name": "stdout",
     "output_type": "stream",
     "text": [
      "{'pass': Port (name pin1, midpoint [0. 0.], width 0.5, orientation 180), 'midb': Port (name pin2, midpoint [ 5.  11.1], width 0.5, orientation 90), 'in': Port (name pin3, midpoint [25.  11.1], width 0.5, orientation 90), 'midt': Port (name pin4, midpoint [30.  0.], width 0.5, orientation 0)}\n",
      "\n",
      "\n",
      "{'out': Port (name pin1, midpoint [0. 0.], width 0.5, orientation 180), 'midt': Port (name pin2, midpoint [ 5.  11.1], width 0.5, orientation 90), 'term': Port (name pin3, midpoint [25.  11.1], width 0.5, orientation 90), 'midb': Port (name pin4, midpoint [30.  0.], width 0.5, orientation 0)}\n"
     ]
    }
   ],
   "source": [
    "print(ring1.device.ports)\n",
    "print('\\n')\n",
    "print(halfring1.device.ports)"
   ]
  },
  {
   "cell_type": "code",
   "execution_count": null,
   "metadata": {},
   "outputs": [],
   "source": [
    "die.distribute_devices(spacing=8)\n",
    "die.visualize(show_ports=True)"
   ]
  },
  {
   "cell_type": "code",
   "execution_count": null,
   "metadata": {},
   "outputs": [],
   "source": [
    "ring1.interface(halfring1)"
   ]
  },
  {
   "cell_type": "code",
   "execution_count": null,
   "metadata": {},
   "outputs": [],
   "source": [
    "die.visualize()"
   ]
  },
  {
   "cell_type": "code",
   "execution_count": null,
   "metadata": {},
   "outputs": [],
   "source": [
    "ring1.die"
   ]
  },
  {
   "cell_type": "code",
   "execution_count": null,
   "metadata": {},
   "outputs": [],
   "source": [
    "die.device_grid.references"
   ]
  },
  {
   "cell_type": "code",
   "execution_count": null,
   "metadata": {},
   "outputs": [],
   "source": []
  }
 ],
 "metadata": {
  "kernelspec": {
   "display_name": "Python 3.10.4 ('test3.10')",
   "language": "python",
   "name": "python3"
  },
  "language_info": {
   "codemirror_mode": {
    "name": "ipython",
    "version": 3
   },
   "file_extension": ".py",
   "mimetype": "text/x-python",
   "name": "python",
   "nbconvert_exporter": "python",
   "pygments_lexer": "ipython3",
   "version": "3.10.4"
  },
  "orig_nbformat": 4,
  "vscode": {
   "interpreter": {
    "hash": "43bb8e1b1702d9b6867547f99951fa3977d9a9200ca668f752dc3db096fa96b4"
   }
  }
 },
 "nbformat": 4,
 "nbformat_minor": 2
}
