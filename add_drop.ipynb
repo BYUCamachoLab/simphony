{
 "cells": [
  {
   "cell_type": "code",
   "execution_count": null,
   "metadata": {},
   "outputs": [],
   "source": [
    "import matplotlib.pyplot as plt\n",
    "\n",
    "from simphony.libraries import siepic\n",
    "from simphony.die import Die"
   ]
  },
  {
   "cell_type": "code",
   "execution_count": null,
   "metadata": {},
   "outputs": [],
   "source": [
    "wg_input = siepic.Waveguide(100e-6, name=\"wg_input\")\n",
    "wg_out1 = siepic.Waveguide(100e-6, name=\"wg_out1\")\n",
    "wg_connect1 = siepic.Waveguide(100e-6, name=\"wg_connect1\")\n",
    "wg_out2 = siepic.Waveguide(100e-6, name=\"wg_out2\")\n",
    "wg_connect2 = siepic.Waveguide(100e-6, name=\"wg_connect2\")\n",
    "wg_out3 = siepic.Waveguide(100e-6, name=\"wg_out3\")\n",
    "terminator = siepic.Terminator(name=\"terminator\")\n",
    "\n",
    "# ring1 = ring_factory(10e-6)\n",
    "# ring1.circuit.to_subcircuit().name = \"ring1\"\n",
    "# ring2 = ring_factory(11e-6)\n",
    "# ring2.circuit.to_subcircuit().name = \"ring2\"\n",
    "# ring3 = ring_factory(12e-6)\n",
    "# ring3.circuit.to_subcircuit().name = \"ring3\"\n",
    "\n",
    "ring1 = siepic.HalfRing(width=500e-9, thickness=220e-9, radius=10e-6, gap=100e-9, name=\"ring1\")\n",
    "halfring1 = siepic.HalfRing(width=500e-9, thickness=220e-9, radius=10e-6, gap=100e-9, name=\"halfring1\")\n",
    "terminator1 = siepic.Terminator(name=\"terminator1\")\n",
    "\n",
    "ring1.rename_pins(\"pass\", \"midt\", \"midb\", \"in\")\n",
    "halfring1.rename_pins(\"out\", \"midb\", \"midt\", \"term\")\n",
    "\n",
    "# the interface method will connect all of the pins with matching names\n",
    "# between the two components together\n",
    "# ring1.interface(halfring1)\n",
    "# halfring1[\"term\"].connect(terminator)\n",
    "\n",
    "ring2 = siepic.HalfRing(width=500e-9, thickness=220e-9, radius=11e-6, gap=100e-9, name=\"ring2\")\n",
    "halfring2 = siepic.HalfRing(width=500e-9, thickness=220e-9, radius=11e-6, gap=100e-9, name=\"halfring2\")\n",
    "terminator2 = siepic.Terminator(name=\"terminator2\")\n",
    "\n",
    "ring2.rename_pins(\"pass\", \"midb\", \"midt\", \"in\")\n",
    "halfring2.rename_pins(\"out\", \"midt\", \"midb\", \"term\")\n",
    "\n",
    "\n",
    "# the interface method will connect all of the pins with matching names\n",
    "# between the two components together\n",
    "# ring2.interface(halfring2)\n",
    "# halfring2[\"term\"].connect(terminator)\n",
    "\n",
    "ring3 = siepic.HalfRing(width=500e-9, thickness=220e-9, radius=12e-6, gap=100e-9, name=\"ring3\")\n",
    "halfring3 = siepic.HalfRing(width=500e-9, thickness=220e-9, radius=12e-6, gap=100e-9, name=\"halfring3\")\n",
    "terminator3 = siepic.Terminator(name=\"terminator3\")\n",
    "\n",
    "ring3.rename_pins(\"pass\", \"midb\", \"midt\", \"in\")\n",
    "halfring3.rename_pins(\"out\", \"midt\", \"midb\", \"term\")\n",
    "\n",
    "# the interface method will connect all of the pins with matching names\n",
    "# between the two components together\n",
    "# ring3.interface(halfring3)\n",
    "# halfring3[\"term\"].connect(terminator)\n",
    "\n",
    "die = Die(name=\"die\")\n",
    "\n",
    "# die.add_components([ring1, halfring1, terminator1, ring2, halfring2, terminator2, ring3, halfring3, terminator3, terminator, wg_input, wg_out1, wg_connect1, wg_out2, wg_connect2, wg_out3])\n",
    "die.add_components([wg_input, ring1, wg_connect1, ring2, wg_connect2, ring3, terminator, wg_out1, halfring1, terminator1, wg_out2, halfring2, terminator2, wg_out3, halfring3, terminator3])"
   ]
  },
  {
   "cell_type": "code",
   "execution_count": null,
   "metadata": {},
   "outputs": [],
   "source": [
    "die.distribute_devices(direction='grid', shape=(8,2), spacing=(80,5))\n",
    "die.visualize(show_ports=True)"
   ]
  },
  {
   "cell_type": "code",
   "execution_count": null,
   "metadata": {},
   "outputs": [],
   "source": [
    "ring1.interface(halfring1)\n",
    "halfring1[\"term\"].connect(terminator1)\n",
    "# ring1 = ring1.circuit.to_subcircuit()\n",
    "\n",
    "ring2.interface(halfring2)\n",
    "halfring2[\"term\"].connect(terminator2)\n",
    "# ring2 = ring2.circuit.to_subcircuit()\n",
    "\n",
    "ring3.interface(halfring3)\n",
    "halfring3[\"term\"].connect(terminator3)\n",
    "# ring3 = ring3.circuit.to_subcircuit()\n",
    "\n",
    "die.visualize(show_ports=True)"
   ]
  },
  {
   "cell_type": "code",
   "execution_count": null,
   "metadata": {},
   "outputs": [],
   "source": [
    "from phidl import quickplot\n",
    "print(die.device_grid.references[0])\n",
    "quickplot(die.device_grid.references[0])\n"
   ]
  },
  {
   "cell_type": "code",
   "execution_count": null,
   "metadata": {},
   "outputs": [],
   "source": [
    "ring1[\"in\"].connect(wg_input[\"pin1\"])\n",
    "ring1[\"pass\"].connect(wg_connect1[\"pin1\"])\n",
    "halfring1[\"out\"].connect(wg_out1[\"pin1\"])\n",
    "\n",
    "ring2[\"in\"].connect(wg_connect1[\"pin2\"])\n",
    "ring2[\"pass\"].connect(wg_connect2[\"pin1\"])\n",
    "halfring2[\"out\"].connect(wg_out2[\"pin1\"])\n",
    "\n",
    "ring3[\"in\"].connect(wg_connect2[\"pin2\"])\n",
    "ring3[\"pass\"].connect(wg_out3[\"pin1\"])\n",
    "halfring3[\"out\"].connect(terminator)"
   ]
  },
  {
   "cell_type": "code",
   "execution_count": null,
   "metadata": {},
   "outputs": [],
   "source": [
    "die.visualize(show_ports=True)"
   ]
  },
  {
   "cell_type": "code",
   "execution_count": null,
   "metadata": {},
   "outputs": [],
   "source": [
    "port1 = die.device_grid.references[1].ports['pass']\n",
    "port2 = die.device_grid.references[3].ports['in']\n",
    "\n",
    "port1.midpoint - port2.midpoint"
   ]
  },
  {
   "cell_type": "code",
   "execution_count": null,
   "metadata": {},
   "outputs": [],
   "source": [
    "die.device_grid.references"
   ]
  },
  {
   "cell_type": "code",
   "execution_count": null,
   "metadata": {},
   "outputs": [],
   "source": []
  }
 ],
 "metadata": {
  "kernelspec": {
   "display_name": "Python 3.10.4 ('test3.10')",
   "language": "python",
   "name": "python3"
  },
  "language_info": {
   "codemirror_mode": {
    "name": "ipython",
    "version": 3
   },
   "file_extension": ".py",
   "mimetype": "text/x-python",
   "name": "python",
   "nbconvert_exporter": "python",
   "pygments_lexer": "ipython3",
   "version": "3.10.4"
  },
  "orig_nbformat": 4,
  "vscode": {
   "interpreter": {
    "hash": "43bb8e1b1702d9b6867547f99951fa3977d9a9200ca668f752dc3db096fa96b4"
   }
  }
 },
 "nbformat": 4,
 "nbformat_minor": 2
}
