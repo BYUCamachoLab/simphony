{
 "cells": [
  {
   "cell_type": "code",
   "execution_count": 7,
   "metadata": {},
   "outputs": [],
   "source": [
    "import matplotlib.pyplot as plt\n",
    "\n",
    "from simphony.libraries import siepic\n",
    "from simphony.die import Die"
   ]
  },
  {
   "cell_type": "code",
   "execution_count": 9,
   "metadata": {},
   "outputs": [],
   "source": [
    "def ring_factory(radius):\n",
    "  \"\"\"Creates a full ring (with terminator) from a half ring.\n",
    "\n",
    "  Resulting pins are ('pass', 'in', 'out').\n",
    "\n",
    "  Parameters\n",
    "  ----------\n",
    "  radius : float\n",
    "      The radius of the ring resonator, in meters.\n",
    "  \"\"\"\n",
    "  # Have rings for selecting out frequencies from the data line.\n",
    "  # See SiPANN's model API for argument order and units.\n",
    "  halfring1 = siepic.HalfRing(width=500e-9, thickness=220e-9, radius=radius, gap=100e-9)\n",
    "  halfring2 = siepic.HalfRing(width=500e-9, thickness=220e-9, radius=radius, gap=100e-9)\n",
    "  terminator = siepic.Terminator()\n",
    "\n",
    "  halfring1.rename_pins(\"pass\", \"midb\", \"in\", \"midt\")\n",
    "  halfring2.rename_pins(\"out\", \"midt\", \"term\", \"midb\")\n",
    "\n",
    "  # the interface method will connect all of the pins with matching names\n",
    "  # between the two components together\n",
    "  halfring1.interface(halfring2)\n",
    "  halfring2[\"term\"].connect(terminator)\n",
    "\n",
    "  # bundling the circuit as a Subcircuit allows us to interact with it\n",
    "  # as if it were a component\n",
    "  return halfring1.circuit.to_subcircuit()"
   ]
  },
  {
   "cell_type": "code",
   "execution_count": 18,
   "metadata": {},
   "outputs": [
    {
     "name": "stderr",
     "output_type": "stream",
     "text": [
      "c:\\Users\\s39chand\\Documents\\GitHub\\simphony\\simphony\\libraries\\siepic\\__init__.py:440: UserWarning: Exact parameters not available for '<class 'simphony.libraries.siepic.HalfRing'>', using closest approximation (results may not be as accurate).\n",
      "Requested: {'gap': 1e-07, 'radius': 1.1e-05, 'width': 5e-07, 'thickness': 2.2e-07, 'couple_length': 0.0}\n",
      "Selected:  {'gap': 1e-07, 'radius': 1e-05, 'width': 5e-07, 'thickness': 2.2e-07, 'couple_length': 0.0}\n",
      "NOTE: Model attributes may have been automatically modified.\n",
      "  warnings.warn(msg, UserWarning)\n",
      "c:\\Users\\s39chand\\Documents\\GitHub\\simphony\\simphony\\libraries\\siepic\\__init__.py:440: UserWarning: Exact parameters not available for '<class 'simphony.libraries.siepic.HalfRing'>', using closest approximation (results may not be as accurate).\n",
      "Requested: {'gap': 1e-07, 'radius': 1.2e-05, 'width': 5e-07, 'thickness': 2.2e-07, 'couple_length': 0.0}\n",
      "Selected:  {'gap': 1e-07, 'radius': 1e-05, 'width': 5e-07, 'thickness': 2.2e-07, 'couple_length': 0.0}\n",
      "NOTE: Model attributes may have been automatically modified.\n",
      "  warnings.warn(msg, UserWarning)\n"
     ]
    }
   ],
   "source": [
    "wg_input = siepic.Waveguide(100e-6, name=\"wg_input\")\n",
    "wg_out1 = siepic.Waveguide(100e-6, name=\"wg_out1\")\n",
    "wg_connect1 = siepic.Waveguide(100e-6, name=\"wg_connect1\")\n",
    "wg_out2 = siepic.Waveguide(100e-6, name=\"wg_out2\")\n",
    "wg_connect2 = siepic.Waveguide(100e-6, name=\"wg_connect2\")\n",
    "wg_out3 = siepic.Waveguide(100e-6, name=\"wg_out3\")\n",
    "terminator = siepic.Terminator(name=\"terminator\")\n",
    "\n",
    "# ring1 = ring_factory(10e-6)\n",
    "# ring1.circuit.to_subcircuit().name = \"ring1\"\n",
    "# ring2 = ring_factory(11e-6)\n",
    "# ring2.circuit.to_subcircuit().name = \"ring2\"\n",
    "# ring3 = ring_factory(12e-6)\n",
    "# ring3.circuit.to_subcircuit().name = \"ring3\"\n",
    "\n",
    "ring1 = siepic.HalfRing(width=500e-9, thickness=220e-9, radius=10e-6, gap=100e-9, name=\"ring1\")\n",
    "halfring1 = siepic.HalfRing(width=500e-9, thickness=220e-9, radius=10e-6, gap=100e-9)\n",
    "terminator = siepic.Terminator()\n",
    "\n",
    "ring1.rename_pins(\"pass\", \"midb\", \"in\", \"midt\")\n",
    "halfring1.rename_pins(\"out\", \"midt\", \"term\", \"midb\")\n",
    "\n",
    "# the interface method will connect all of the pins with matching names\n",
    "# between the two components together\n",
    "ring1.interface(halfring1)\n",
    "halfring1[\"term\"].connect(terminator)\n",
    "\n",
    "ring2 = siepic.HalfRing(width=500e-9, thickness=220e-9, radius=11e-6, gap=100e-9, name=\"ring2\")\n",
    "halfring2 = siepic.HalfRing(width=500e-9, thickness=220e-9, radius=11e-6, gap=100e-9)\n",
    "terminator = siepic.Terminator()\n",
    "\n",
    "ring2.rename_pins(\"pass\", \"midb\", \"in\", \"midt\")\n",
    "halfring2.rename_pins(\"out\", \"midt\", \"term\", \"midb\")\n",
    "\n",
    "# the interface method will connect all of the pins with matching names\n",
    "# between the two components together\n",
    "ring2.interface(halfring2)\n",
    "halfring2[\"term\"].connect(terminator)\n",
    "\n",
    "ring3 = siepic.HalfRing(width=500e-9, thickness=220e-9, radius=12e-6, gap=100e-9, name=\"ring3\")\n",
    "halfring3 = siepic.HalfRing(width=500e-9, thickness=220e-9, radius=12e-6, gap=100e-9)\n",
    "terminator = siepic.Terminator()\n",
    "\n",
    "ring3.rename_pins(\"pass\", \"midb\", \"in\", \"midt\")\n",
    "halfring3.rename_pins(\"out\", \"midt\", \"term\", \"midb\")\n",
    "\n",
    "# the interface method will connect all of the pins with matching names\n",
    "# between the two components together\n",
    "ring3.interface(halfring3)\n",
    "halfring3[\"term\"].connect(terminator)\n",
    "\n",
    "die = Die()"
   ]
  },
  {
   "cell_type": "code",
   "execution_count": 19,
   "metadata": {},
   "outputs": [],
   "source": [
    "die.add_components([ring1, ring2, ring3, terminator])"
   ]
  },
  {
   "cell_type": "code",
   "execution_count": 21,
   "metadata": {},
   "outputs": [
    {
     "data": {
      "image/png": "[encoded data removed]",
      "text/plain": [
       "<Figure size 432x288 with 1 Axes>"
      ]
     },
     "metadata": {
      "needs_background": "light"
     },
     "output_type": "display_data"
    }
   ],
   "source": [
    "die.distribute_devices(spacing=5)\n",
    "\n",
    "die.visualize()"
   ]
  },
  {
   "cell_type": "code",
   "execution_count": null,
   "metadata": {},
   "outputs": [],
   "source": []
  }
 ],
 "metadata": {
  "kernelspec": {
   "display_name": "Python 3.8.8 ('base')",
   "language": "python",
   "name": "python3"
  },
  "language_info": {
   "codemirror_mode": {
    "name": "ipython",
    "version": 3
   },
   "file_extension": ".py",
   "mimetype": "text/x-python",
   "name": "python",
   "nbconvert_exporter": "python",
   "pygments_lexer": "ipython3",
   "version": "3.8.8"
  },
  "orig_nbformat": 4,
  "vscode": {
   "interpreter": {
    "hash": "8c256f98918fdf565fb0594991b062fbac57fe52d8658946f807bb66ca7d9c01"
   }
  }
 },
 "nbformat": 4,
 "nbformat_minor": 2
}
