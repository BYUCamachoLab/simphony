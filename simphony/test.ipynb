{
 "cells": [
  {
   "cell_type": "code",
   "execution_count": 103,
   "metadata": {},
   "outputs": [
    {
     "name": "stdout",
     "output_type": "stream",
     "text": [
      "The autoreload extension is already loaded. To reload it, use:\n",
      "  %reload_ext autoreload\n"
     ]
    }
   ],
   "source": [
    "%load_ext autoreload\n",
    "%autoreload 2"
   ]
  },
  {
   "cell_type": "code",
   "execution_count": 104,
   "metadata": {},
   "outputs": [],
   "source": [
    "from simphony.utils import dict_to_matrix\n",
    "import numpy as np\n",
    "from simphony.libraries import ideal"
   ]
  },
  {
   "cell_type": "code",
   "execution_count": 105,
   "metadata": {},
   "outputs": [
    {
     "data": {
      "text/plain": [
       "{('o2', 'o3'): 0.7071067811865476,\n",
       " ('o2', 'o1'): 0.7071067811865476j,\n",
       " ('o0', 'o3'): 0.7071067811865476j,\n",
       " ('o0', 'o1'): 0.7071067811865476,\n",
       " ('o3', 'o2'): 0.7071067811865476,\n",
       " ('o1', 'o2'): 0.7071067811865476j,\n",
       " ('o3', 'o0'): 0.7071067811865476j,\n",
       " ('o1', 'o0'): 0.7071067811865476}"
      ]
     },
     "metadata": {},
     "output_type": "display_data"
    },
    {
     "name": "stdout",
     "output_type": "stream",
     "text": [
      "(4, 4)\n",
      "('o2', 'o3') 0.7071067811865476\n",
      "('o2', 'o1') 0.7071067811865476j\n",
      "('o0', 'o3') 0.7071067811865476j\n",
      "('o0', 'o1') 0.7071067811865476\n",
      "('o3', 'o2') 0.7071067811865476\n",
      "('o1', 'o2') 0.7071067811865476j\n",
      "('o3', 'o0') 0.7071067811865476j\n",
      "('o1', 'o0') 0.7071067811865476\n",
      "[[0.        +0.j         0.70710677+0.j         0.        +0.j\n",
      "  0.        +0.70710677j]\n",
      " [0.70710677+0.j         0.        +0.j         0.        +0.70710677j\n",
      "  0.        +0.j        ]\n",
      " [0.        +0.j         0.        +0.70710677j 0.        +0.j\n",
      "  0.70710677+0.j        ]\n",
      " [0.        +0.70710677j 0.        +0.j         0.70710677+0.j\n",
      "  0.        +0.j        ]]\n",
      "\n",
      "None\n"
     ]
    }
   ],
   "source": [
    "coupler = ideal.coupler()\n",
    "display(coupler)\n",
    "print(dict_to_matrix(ideal.coupler()))"
   ]
  },
  {
   "cell_type": "code",
   "execution_count": null,
   "metadata": {},
   "outputs": [],
   "source": []
  }
 ],
 "metadata": {
  "kernelspec": {
   "display_name": "sax",
   "language": "python",
   "name": "python3"
  },
  "language_info": {
   "codemirror_mode": {
    "name": "ipython",
    "version": 3
   },
   "file_extension": ".py",
   "mimetype": "text/x-python",
   "name": "python",
   "nbconvert_exporter": "python",
   "pygments_lexer": "ipython3",
   "version": "3.11.6"
  }
 },
 "nbformat": 4,
 "nbformat_minor": 2
}
