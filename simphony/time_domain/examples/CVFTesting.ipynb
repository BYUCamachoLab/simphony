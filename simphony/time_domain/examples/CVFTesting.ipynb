{
 "cells": [
  {
   "cell_type": "markdown",
   "metadata": {},
   "source": [
    "CVFTesting will be deleted once testing is complete on the CVF class"
   ]
  },
  {
   "cell_type": "code",
   "execution_count": 1,
   "metadata": {},
   "outputs": [],
   "source": [
    "import numpy as np\n",
    "import matplotlib.pyplot as plt\n",
    "import sax\n",
    "\n",
    "from jax import config\n",
    "config.update(\"jax_enable_x64\", True)\n",
    "\n",
    "\n",
    "from simphony.libraries import ideal\n",
    "from simphony.utils import dict_to_matrix\n",
    "\n",
    "from simphony.time_domain.pole_residue_model import CVFModel"
   ]
  },
  {
   "cell_type": "code",
   "execution_count": null,
   "metadata": {},
   "outputs": [
    {
     "name": "stderr",
     "output_type": "stream",
     "text": [
      "An NVIDIA GPU may be present on this machine, but a CUDA-enabled jaxlib is not installed. Falling back to cpu.\n"
     ]
    },
    {
     "name": "stdout",
     "output_type": "stream",
     "text": [
      "<class 'dict'>\n"
     ]
    },
    {
     "ename": "TypeError",
     "evalue": "CVFModel.__init__() missing 1 required positional argument: 'order'",
     "output_type": "error",
     "traceback": [
      "\u001b[0;31m---------------------------------------------------------------------------\u001b[0m",
      "\u001b[0;31mTypeError\u001b[0m                                 Traceback (most recent call last)",
      "Cell \u001b[0;32mIn[2], line 27\u001b[0m\n\u001b[1;32m     25\u001b[0m s \u001b[38;5;241m=\u001b[39m circuit(wl\u001b[38;5;241m=\u001b[39mwvl, wg\u001b[38;5;241m=\u001b[39m{\u001b[38;5;124m\"\u001b[39m\u001b[38;5;124mlength\u001b[39m\u001b[38;5;124m\"\u001b[39m: \u001b[38;5;241m75.0\u001b[39m, \u001b[38;5;124m\"\u001b[39m\u001b[38;5;124mloss\u001b[39m\u001b[38;5;124m\"\u001b[39m: \u001b[38;5;241m100\u001b[39m})\n\u001b[1;32m     26\u001b[0m \u001b[38;5;28mprint\u001b[39m(\u001b[38;5;28mtype\u001b[39m(s))\n\u001b[0;32m---> 27\u001b[0m model \u001b[38;5;241m=\u001b[39m \u001b[43mCVFModel\u001b[49m\u001b[43m(\u001b[49m\u001b[43mwvl\u001b[49m\u001b[43m,\u001b[49m\u001b[43ms\u001b[49m\u001b[43m)\u001b[49m\n\u001b[1;32m     28\u001b[0m model\u001b[38;5;241m.\u001b[39mplot_frequency_domain_model()\n",
      "\u001b[0;31mTypeError\u001b[0m: CVFModel.__init__() missing 1 required positional argument: 'order'"
     ]
    }
   ],
   "source": [
    "netlist = {\n",
    "    \"instances\": {\n",
    "        \"wg\": \"waveguide\",\n",
    "        \"hr\": \"half_ring\",\n",
    "    },\n",
    "    \"connections\": {\n",
    "        \"hr,o2\":\"wg,o0\",\n",
    "        \"hr,o3\":\"wg,o1\",\n",
    "    },\n",
    "    \"ports\":{\n",
    "        \"o0\":\"hr,o0\",\n",
    "        \"o1\":\"hr,o1\",\n",
    "    }\n",
    "}\n",
    "circuit, info = sax.circuit(\n",
    "    netlist=netlist,\n",
    "    models={\n",
    "        \"waveguide\": ideal.waveguide,\n",
    "        \"half_ring\": ideal.coupler,\n",
    "    }\n",
    ")\n",
    "\n",
    "num_measurements = 50\n",
    "wvl = np.linspace(1.5, 1.6, num_measurements)\n",
    "s = circuit(wl=wvl, wg={\"length\": 75.0, \"loss\": 100})\n",
    "print(type(s))\n",
    "model = CVFModel(wvl,s,50)\n",
    "model.plot_frequency_domain_model()"
   ]
  },
  {
   "cell_type": "markdown",
   "metadata": {},
   "source": []
  },
  {
   "cell_type": "code",
   "execution_count": null,
   "metadata": {},
   "outputs": [],
   "source": []
  }
 ],
 "metadata": {
  "kernelspec": {
   "display_name": "PythonX",
   "language": "python",
   "name": "python3"
  },
  "language_info": {
   "codemirror_mode": {
    "name": "ipython",
    "version": 3
   },
   "file_extension": ".py",
   "mimetype": "text/x-python",
   "name": "python",
   "nbconvert_exporter": "python",
   "pygments_lexer": "ipython3",
   "version": "3.11.7"
  }
 },
 "nbformat": 4,
 "nbformat_minor": 2
}
