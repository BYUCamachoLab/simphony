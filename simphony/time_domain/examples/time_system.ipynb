{
 "cells": [
  {
   "cell_type": "markdown",
   "id": "8d9ea408",
   "metadata": {},
   "source": [
    "# Time Systems\n",
    "\n",
    "Simphony has previously only worked with Linear Time-invariant systems, characterized by S-parameter elements. Time-domain Simphony allows a user to create time-variant components, called time-systems. Simphony provides two types of time systems: `SampleModeSystem` and `BlockModeSystem`. These abstract base classes are to be used in Sample Mode simulations and block mode simulations respectively."
   ]
  },
  {
   "cell_type": "markdown",
   "id": "31ed3774",
   "metadata": {},
   "source": [
    "# Sample Mode Systems\n",
    "Sample mode simulations are discrete-time simulations where, for each time step, the output of each component is calculated and used to determine the next set of inputs. This approach enables the simulation of circuits containing components whose inputs depend on the unknown outputs of other components.\n",
    "\n",
    "In order for this approach to work, each component must be able to maintain state. During Sample Mode Simulations, Simphony looks for two key methods; `init_state` initializes the state of the system, and `step` takes in the current state of the system and a tuple of inputs (one for each port) and returns the next state of the system and a tuple of outputs.\n",
    "\n",
    "Below is an example of a custom realization of a `SampleModeSystem` which implements a simple phase shifter. We do not enforce that the state variable is of a particular type, so you may use whatever Python object you wish (as long as it does not create issues with the JIT compilation process)."
   ]
  },
  {
   "cell_type": "code",
   "execution_count": 3,
   "id": "c08a685c",
   "metadata": {},
   "outputs": [],
   "source": [
    "from simphony.time_domain import SampleModeSystem\n",
    "import jax.numpy as jnp\n",
    "\n",
    "\n",
    "class PhaseShifter(SampleModeSystem):\n",
    "    def __init__(\n",
    "            self,\n",
    "            voltage_signal\n",
    "     ) -> None:\n",
    "        super().__init__()\n",
    "\n",
    "        self.num_ports = 2\n",
    "        self.ports = ['o0','o1']\n",
    "        self.voltage_signal = voltage_signal\n",
    "\n",
    "    def voltage_to_phase(v):\n",
    "        \"\"\"\n",
    "        NOT A REQUIRED FUNCTION.\n",
    "        This simply converts the volage signal to a phase shift.\n",
    "        \"\"\"\n",
    "        return 0.5 * v\n",
    "\n",
    "    def init_state(self):\n",
    "        \"\"\"\n",
    "        REQUIRED FUNCTION\n",
    "        \"\"\"\n",
    "        return jnp.int32(0)\n",
    "\n",
    "    def step(self, curr_state: jnp.ndarray, input0, input1):\n",
    "        \"\"\"\n",
    "        REQUIRED FUNCTION\n",
    "        A JIT Compatible function (compatible with lax.scan) that depends on a time-varying voltage.\n",
    "        \"\"\"\n",
    "        v = self.voltage_signal[curr_state]\n",
    "        phase = self.voltage_to_phase(v)\n",
    "        out0 = input1 * jnp.exp(1j * phase)\n",
    "        out1 = input0 * jnp.exp(1j * phase)\n",
    "        \n",
    "        return curr_state + 1, (out0, out1)\n",
    "    \n"
   ]
  },
  {
   "cell_type": "markdown",
   "id": "a8020222",
   "metadata": {},
   "source": [
    "# Jax Compatibility\n",
    "\n",
    "Since we use \"Just In Time\" (JIT) compilation methods to run sample mode simulations, there are additional constraints placed on the `step` function, particularly when using loops. For anyone not familiar with the constraints of JIT programming, we recomend you do not create custom sample-mode elements and use one of the models we provide instead."
   ]
  },
  {
   "cell_type": "markdown",
   "id": "75dbad24",
   "metadata": {},
   "source": [
    "# Block Mode Simulations\n",
    "\n",
    "Sample mode simulations are ill-suited for some circuits. For example, you really shouldn't try to simulate a 10-km fiber optic cable by simulating each time step individually, for many reasons. Other techniques exist for these sorts of simulations, such as the split-step Fourier method. Simphony enables these techniques through Block Mode Simulations. \n",
    "\n",
    "Because block mode simulations simulate each time system, individually, once (per block), we do not required the `run` method to be compatible with jax or JIT compilation. For example, the following external library has implemented the split-step fourier transform for optical fibers. We can seamlessly integrate this technique into our simulator by using it as a backend for the `run` method."
   ]
  },
  {
   "cell_type": "code",
   "execution_count": null,
   "id": "837653fa",
   "metadata": {},
   "outputs": [],
   "source": []
  },
  {
   "cell_type": "markdown",
   "id": "8d091c2d",
   "metadata": {},
   "source": [
    "#"
   ]
  },
  {
   "cell_type": "markdown",
   "id": "4c2bdffb",
   "metadata": {},
   "source": [
    "# Sax Compatibility\n",
    "\n",
    "Since Time-systems will primarily be used in the Time-domain, they are not compatible, by default, with frequency domain solvers like Sax. If desired, you may choose to implement the `frequency_response` method of a time-system so that any circuit that utilizes a time-system is backwards compatible with Sax."
   ]
  },
  {
   "cell_type": "markdown",
   "id": "7260b77d",
   "metadata": {},
   "source": []
  }
 ],
 "metadata": {
  "kernelspec": {
   "display_name": ".venv",
   "language": "python",
   "name": "python3"
  },
  "language_info": {
   "codemirror_mode": {
    "name": "ipython",
    "version": 3
   },
   "file_extension": ".py",
   "mimetype": "text/x-python",
   "name": "python",
   "nbconvert_exporter": "python",
   "pygments_lexer": "ipython3",
   "version": "3.12.3"
  }
 },
 "nbformat": 4,
 "nbformat_minor": 5
}
