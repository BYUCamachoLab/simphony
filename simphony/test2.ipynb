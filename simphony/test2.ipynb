{
 "cells": [
  {
   "cell_type": "code",
   "execution_count": 1,
   "metadata": {},
   "outputs": [],
   "source": [
    "from simphony.libraries import siepic\n",
    "from simphony.die import Die\n",
    "from simphony.simulation import Simulation, Laser, Detector\n",
    "from phidl import quickplot, set_quickplot_options"
   ]
  },
  {
   "cell_type": "code",
   "execution_count": 2,
   "metadata": {},
   "outputs": [],
   "source": [
    "def ring_factory(radius, die):\n",
    "  \"\"\"Creates a full ring (with terminator) from a half ring.\n",
    "\n",
    "  Resulting pins are ('pass', 'in', 'out').\n",
    "\n",
    "  Parameters\n",
    "  ----------\n",
    "  radius : float\n",
    "      The radius of the ring resonator, in meters.\n",
    "  \"\"\"\n",
    "  # Have rings for selecting out frequencies from the data line.\n",
    "  # See SiPANN's model API for argument order and units.\n",
    "  halfring1 = siepic.HalfRing(radius=radius, die=die, name=\"hr1\")\n",
    "  halfring2 = siepic.HalfRing(radius=radius, die=die, name=\"hr2\")\n",
    "  terminator = siepic.Terminator(die=die, name=\"termpart\")\n",
    "\n",
    "  halfring1.rename_pins(\"midb\", \"pass\", \"midt\", \"in\")\n",
    "  halfring2.rename_pins(\"midt\", \"out\", \"midb\", \"term\")\n",
    "\n",
    "  # the interface method will connect all of the pins with matching names\n",
    "  # between the two components together\n",
    "  halfring1.interface(halfring2)\n",
    "  halfring2[\"term\"].connect(terminator)\n",
    "\n",
    "  # bundling the circuit as a Subcircuit allows us to interact with it\n",
    "  # as if it were a component\n",
    "  return halfring1.circuit.to_subcircuit(name=\"sub\")"
   ]
  },
  {
   "cell_type": "code",
   "execution_count": 3,
   "metadata": {},
   "outputs": [
    {
     "name": "stdout",
     "output_type": "stream",
     "text": [
      "wginput model defined device\n",
      "\n",
      "wginput model defined device ref\n",
      "\n",
      "wgoutput1 model defined device\n",
      "\n",
      "wgoutput1 model defined device ref\n",
      "\n",
      "wgc1 model defined device\n",
      "\n",
      "wgc1 model defined device ref\n",
      "\n",
      "wg_output2 model defined device\n",
      "\n",
      "wg_output2 model defined device ref\n",
      "\n",
      "wg_c2 model defined device\n",
      "\n",
      "wg_c2 model defined device ref\n",
      "\n",
      "wg_output3 model defined device\n",
      "\n",
      "wg_output3 model defined device ref\n",
      "\n",
      "term model defined device\n",
      "\n",
      "term model defined device ref\n",
      "\n",
      "hr1 model defined device\n",
      "\n",
      "hr1 model defined device ref\n",
      "\n",
      "hr2 model defined device\n",
      "\n",
      "hr2 model defined device ref\n",
      "\n"
     ]
    },
    {
     "name": "stderr",
     "output_type": "stream",
     "text": [
      "C:\\Users\\s39chand\\AppData\\Roaming\\Python\\Python310\\site-packages\\simphony\\libraries\\siepic\\__init__.py:441: UserWarning: Exact parameters not available for '<class 'simphony.libraries.siepic.HalfRing'>', using closest approximation (results may not be as accurate).\n",
      "Requested: {'gap': 3e-08, 'radius': 1e-05, 'width': 5e-07, 'thickness': 2.2e-07, 'couple_length': 0.0}\n",
      "Selected:  {'gap': 1e-07, 'radius': 1e-05, 'width': 5e-07, 'thickness': 2.2e-07, 'couple_length': 0.0}\n",
      "NOTE: Model attributes may have been automatically modified.\n",
      "  warnings.warn(msg, UserWarning)\n"
     ]
    },
    {
     "name": "stdout",
     "output_type": "stream",
     "text": [
      "termpart model defined device\n",
      "\n",
      "termpart model defined device ref\n",
      "\n",
      "[Device (name \"wginput\" (uid 1), ports ['pin1', 'pin2'], aliases [], 1 polygons, 0 references), Device (name \"wgoutput1\" (uid 5), ports ['pin1', 'pin2'], aliases [], 1 polygons, 0 references), Device (name \"wgc1\" (uid 9), ports ['pin1', 'pin2'], aliases [], 1 polygons, 0 references), Device (name \"wg_output2\" (uid 13), ports ['pin1', 'pin2'], aliases [], 1 polygons, 0 references), Device (name \"wg_c2\" (uid 17), ports ['pin1', 'pin2'], aliases [], 1 polygons, 0 references), Device (name \"wg_output3\" (uid 21), ports ['pin1', 'pin2'], aliases [], 1 polygons, 0 references), Device (name \"hr1\" (uid 27), ports ['pin1', 'pin2', 'pin3', 'pin4'], aliases [], 1 polygons, 0 references), Device (name \"hr2\" (uid 31), ports ['pin1', 'pin2', 'pin3', 'pin4'], aliases [], 1 polygons, 0 references), Device (name \"termpart\" (uid 35), ports ['pin1'], aliases [], 1 polygons, 0 references)]\n",
      "[Device (name \"wgoutput1\" (uid 5), ports ['pin1', 'pin2'], aliases [], 1 polygons, 0 references), Device (name \"wg_output2\" (uid 13), ports ['pin1', 'pin2'], aliases [], 1 polygons, 0 references), Device (name \"wg_output3\" (uid 21), ports ['pin1', 'pin2'], aliases [], 1 polygons, 0 references), Device (name \"hr2\" (uid 31), ports ['pin1', 'pin2', 'pin3', 'pin4'], aliases [], 1 polygons, 0 references)]\n",
      "[Device (name \"wg_output2\" (uid 13), ports ['pin1', 'pin2'], aliases [], 1 polygons, 0 references), Device (name \"hr2\" (uid 31), ports ['pin1', 'pin2', 'pin3', 'pin4'], aliases [], 1 polygons, 0 references)]\n",
      "sub model defined device\n",
      "\n",
      "sub model defined device ref\n",
      "\n",
      "hr1 model defined device\n",
      "\n",
      "hr1 model defined device ref\n",
      "\n",
      "hr2 model defined device\n",
      "\n",
      "hr2 model defined device ref\n",
      "\n",
      "termpart model defined device\n",
      "\n",
      "termpart model defined device ref\n",
      "\n"
     ]
    },
    {
     "name": "stderr",
     "output_type": "stream",
     "text": [
      "C:\\Users\\s39chand\\AppData\\Roaming\\Python\\Python310\\site-packages\\simphony\\libraries\\siepic\\__init__.py:441: UserWarning: Exact parameters not available for '<class 'simphony.libraries.siepic.HalfRing'>', using closest approximation (results may not be as accurate).\n",
      "Requested: {'gap': 3e-08, 'radius': 1.1e-05, 'width': 5e-07, 'thickness': 2.2e-07, 'couple_length': 0.0}\n",
      "Selected:  {'gap': 1e-07, 'radius': 1e-05, 'width': 5e-07, 'thickness': 2.2e-07, 'couple_length': 0.0}\n",
      "NOTE: Model attributes may have been automatically modified.\n",
      "  warnings.warn(msg, UserWarning)\n"
     ]
    },
    {
     "name": "stdout",
     "output_type": "stream",
     "text": [
      "[Device (name \"hr2\" (uid 31), ports ['pin1', 'pin2', 'pin3', 'pin4'], aliases [], 1 polygons, 0 references), Device (name \"sub\" (uid 37), ports ['pass', 'in', 'out'], aliases [], 1 polygons, 0 references), Device (name \"hr1\" (uid 39), ports ['pin1', 'pin2', 'pin3', 'pin4'], aliases [], 1 polygons, 0 references), Device (name \"hr2\" (uid 43), ports ['pin1', 'pin2', 'pin3', 'pin4'], aliases [], 1 polygons, 0 references), Device (name \"termpart\" (uid 47), ports ['pin1'], aliases [], 1 polygons, 0 references)]\n",
      "[Device (name \"sub\" (uid 37), ports ['pass', 'in', 'out'], aliases [], 1 polygons, 0 references), Device (name \"hr2\" (uid 43), ports ['pin1', 'pin2', 'pin3', 'pin4'], aliases [], 1 polygons, 0 references)]\n",
      "[Device (name \"hr2\" (uid 43), ports ['pin1', 'pin2', 'pin3', 'pin4'], aliases [], 1 polygons, 0 references)]\n",
      "sub model defined device\n",
      "\n",
      "sub model defined device ref\n",
      "\n",
      "hr1 model defined device\n",
      "\n",
      "hr1 model defined device ref\n",
      "\n",
      "hr2 model defined device\n",
      "\n",
      "hr2 model defined device ref\n",
      "\n",
      "termpart model defined device\n",
      "\n",
      "termpart model defined device ref\n",
      "\n",
      "[Device (name \"sub\" (uid 49), ports ['pass', 'in', 'out'], aliases [], 1 polygons, 0 references), Device (name \"hr1\" (uid 51), ports ['pin1', 'pin2', 'pin3', 'pin4'], aliases [], 1 polygons, 0 references), Device (name \"hr2\" (uid 55), ports ['pin1', 'pin2', 'pin3', 'pin4'], aliases [], 1 polygons, 0 references), Device (name \"termpart\" (uid 59), ports ['pin1'], aliases [], 1 polygons, 0 references)]\n",
      "[Device (name \"hr1\" (uid 51), ports ['pin1', 'pin2', 'pin3', 'pin4'], aliases [], 1 polygons, 0 references), Device (name \"termpart\" (uid 59), ports ['pin1'], aliases [], 1 polygons, 0 references)]\n",
      "[Device (name \"termpart\" (uid 59), ports ['pin1'], aliases [], 1 polygons, 0 references)]\n",
      "sub model defined device\n",
      "\n",
      "sub model defined device ref\n",
      "\n"
     ]
    },
    {
     "name": "stderr",
     "output_type": "stream",
     "text": [
      "C:\\Users\\s39chand\\AppData\\Roaming\\Python\\Python310\\site-packages\\simphony\\libraries\\siepic\\__init__.py:441: UserWarning: Exact parameters not available for '<class 'simphony.libraries.siepic.HalfRing'>', using closest approximation (results may not be as accurate).\n",
      "Requested: {'gap': 3e-08, 'radius': 1.2e-05, 'width': 5e-07, 'thickness': 2.2e-07, 'couple_length': 0.0}\n",
      "Selected:  {'gap': 1e-07, 'radius': 1e-05, 'width': 5e-07, 'thickness': 2.2e-07, 'couple_length': 0.0}\n",
      "NOTE: Model attributes may have been automatically modified.\n",
      "  warnings.warn(msg, UserWarning)\n"
     ]
    },
    {
     "data": {
      "text/plain": [
       "[Device (name \"sub\" (uid 61), ports ['pass', 'in', 'out'], aliases [], 1 polygons, 0 references)]"
      ]
     },
     "execution_count": 3,
     "metadata": {},
     "output_type": "execute_result"
    }
   ],
   "source": [
    "die = Die(name=\"die1\")\n",
    "wg_input = siepic.Waveguide(name=\"wginput\", length=100e-6, die=die)\n",
    "wg_out1 = siepic.Waveguide(name=\"wgoutput1\", length=100e-6, die=die)\n",
    "wg_connect1 = siepic.Waveguide(name=\"wgc1\", length=100e-6, die=die)\n",
    "wg_out2 = siepic.Waveguide(name=\"wg_output2\", length=100e-6, die=die)\n",
    "wg_connect2 = siepic.Waveguide(name=\"wg_c2\", length=100e-6, die=die)\n",
    "wg_out3 = siepic.Waveguide(name=\"wg_output3\", length=100e-6, die=die)\n",
    "terminator = siepic.Terminator(name=\"term\")\n",
    "\n",
    "ring1 = ring_factory(10e-6, die)\n",
    "ring1.name = \"ring1\"\n",
    "ring2 = ring_factory(11e-6, die)\n",
    "ring2.name = \"ring2\"\n",
    "ring3 = ring_factory(12e-6, die)\n",
    "ring3.name = \"ring3\"\n",
    "die.device_list"
   ]
  },
  {
   "cell_type": "code",
   "execution_count": 4,
   "metadata": {},
   "outputs": [
    {
     "name": "stdout",
     "output_type": "stream",
     "text": [
      "[]\n"
     ]
    },
    {
     "data": {
      "text/plain": [
       "<simphony.models.Subcircuit at 0x19630f69000>"
      ]
     },
     "execution_count": 4,
     "metadata": {},
     "output_type": "execute_result"
    }
   ],
   "source": [
    "ring1.multiconnect(wg_connect1, wg_input[\"pin2\"], wg_out1)\n",
    "ring2.multiconnect(wg_connect2, wg_connect1, wg_out2)\n",
    "ring3.multiconnect(terminator, wg_connect2, wg_out3)"
   ]
  },
  {
   "cell_type": "code",
   "execution_count": 5,
   "metadata": {},
   "outputs": [
    {
     "data": {
      "text/plain": [
       "[]"
      ]
     },
     "execution_count": 5,
     "metadata": {},
     "output_type": "execute_result"
    }
   ],
   "source": [
    "ring1.die\n",
    "die.device_list"
   ]
  },
  {
   "cell_type": "code",
   "execution_count": 6,
   "metadata": {},
   "outputs": [
    {
     "name": "stdout",
     "output_type": "stream",
     "text": [
      " model defined device\n",
      "\n",
      " model defined device ref\n",
      "\n"
     ]
    },
    {
     "data": {
      "text/plain": [
       "['pin1', 'pin2', 'pin2', 'pin2']"
      ]
     },
     "execution_count": 6,
     "metadata": {},
     "output_type": "execute_result"
    }
   ],
   "source": [
    "[pin.name for pin in ring1.circuit.pins]"
   ]
  },
  {
   "cell_type": "code",
   "execution_count": 12,
   "metadata": {},
   "outputs": [
    {
     "data": {
      "text/plain": [
       "[Device (name \"\" (uid 65), ports ['pin1', 'pin2'], aliases [], 1 polygons, 0 references)]"
      ]
     },
     "execution_count": 12,
     "metadata": {},
     "output_type": "execute_result"
    }
   ],
   "source": [
    "die.device_list"
   ]
  },
  {
   "cell_type": "code",
   "execution_count": 9,
   "metadata": {},
   "outputs": [
    {
     "data": {
      "image/png": "[encoded data removed]",
      "text/plain": [
       "<Figure size 432x288 with 1 Axes>"
      ]
     },
     "metadata": {
      "needs_background": "light"
     },
     "output_type": "display_data"
    }
   ],
   "source": [
    "set_quickplot_options(show_ports=False, show_subports=False)\n",
    "quickplot(die.device_list)"
   ]
  }
 ],
 "metadata": {
  "interpreter": {
   "hash": "b89b5cfaba6639976dc87ff2fec6d58faec662063367e2c229c520fe71072417"
  },
  "kernelspec": {
   "display_name": "Python 3.10.4 64-bit",
   "language": "python",
   "name": "python3"
  },
  "language_info": {
   "codemirror_mode": {
    "name": "ipython",
    "version": 3
   },
   "file_extension": ".py",
   "mimetype": "text/x-python",
   "name": "python",
   "nbconvert_exporter": "python",
   "pygments_lexer": "ipython3",
   "version": "3.10.4"
  },
  "orig_nbformat": 4
 },
 "nbformat": 4,
 "nbformat_minor": 2
}
