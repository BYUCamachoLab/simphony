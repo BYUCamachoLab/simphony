{
 "cells": [
  {
   "cell_type": "code",
   "execution_count": null,
   "metadata": {},
   "outputs": [],
   "source": [
    "# Import necessary libraries\n",
    "from simphony.libraries import siepic\n",
    "from simphony.die import Die\n",
    "from simphony.simulation import Simulation, Laser, Detector\n",
    "import matplotlib.pyplot as plt\n",
    "from phidl import set_quickplot_options"
   ]
  },
  {
   "cell_type": "code",
   "execution_count": null,
   "metadata": {},
   "outputs": [],
   "source": [
    "# Instantiate components\n",
    "gc_input = siepic.GratingCoupler(name=\"gcinput\")\n",
    "y_splitter = siepic.YBranch(name=\"ysplit\")\n",
    "wg_long = siepic.Waveguide(length=150e-6, name=\"wglong\")\n",
    "wg_short = siepic.Waveguide(length=50e-6, name=\"wgshort\")\n",
    "y_recombiner = siepic.YBranch(name=\"yrecombiner\")\n",
    "gc_output = siepic.GratingCoupler(name=\"gcoutput\")\n",
    "\n",
    "# Instantiate Die object\n",
    "die = Die(name=\"die1\")\n",
    "\n",
    "# Throw in the components into the Die\n",
    "die.add_components([gc_input, y_splitter, wg_long, gc_output, y_recombiner, wg_short])\n",
    "\n",
    "# Distribute the devices in the die in a grid\n",
    "die.distribute_devices(direction='grid', shape=(3,2), spacing=(5,10))\n",
    "\n",
    "# Visualize the grid arrangement\n",
    "die.visualize(label_aliases=True)"
   ]
  },
  {
   "cell_type": "code",
   "execution_count": null,
   "metadata": {},
   "outputs": [],
   "source": [
    "# We connect the components like we would usually. Simphony will take care of the routing and\n",
    "# device connections for us.\n",
    "\n",
    "# Do not show ports when plotting the layout\n",
    "set_quickplot_options(False, False, label_aliases=True)\n",
    "\n",
    "# next we connect the components to each other\n",
    "y_splitter[\"pin1\"].connect(gc_input[\"pin1\"])\n",
    "\n",
    "y_recombiner[\"pin1\"].connect(gc_output[\"pin1\"])\n",
    "\n",
    "y_splitter[\"pin2\"].connect(wg_long)\n",
    "y_recombiner[\"pin3\"].connect(wg_long)\n",
    "\n",
    "y_splitter[\"pin3\"].connect(wg_short)\n",
    "y_recombiner[\"pin2\"].connect(wg_short)"
   ]
  },
  {
   "cell_type": "code",
   "execution_count": null,
   "metadata": {},
   "outputs": [],
   "source": [
    "# Visualize after connecting\n",
    "set_quickplot_options(show_ports=False, show_subports=False, label_aliases=True)\n",
    "die.visualize(show_ports=False) # Visualize after connecting"
   ]
  },
  {
   "cell_type": "code",
   "execution_count": null,
   "metadata": {},
   "outputs": [],
   "source": [
    "# Run the layout aware monte carlo computation\n",
    "with Simulation() as sim:\n",
    "    l = Laser(power=1)\n",
    "    l.freqsweep(187370000000000.0, 199862000000000.0)\n",
    "    l.connect(gc_input['pin2'])\n",
    "    d = Detector()\n",
    "    d.connect(gc_output['pin2'])\n",
    "\n",
    "    results = sim.layout_aware_simulation()"
   ]
  },
  {
   "cell_type": "code",
   "execution_count": null,
   "metadata": {},
   "outputs": [],
   "source": [
    "# Plot the results\n",
    "f = l.freqs\n",
    "for run in results:\n",
    "    p = []\n",
    "    for sample in run:\n",
    "        for data_list in sample:\n",
    "            for data in data_list:\n",
    "                p.append(data)\n",
    "    plt.plot(f, p)\n",
    "\n",
    "run = results[0]\n",
    "p = []\n",
    "for sample in run:\n",
    "    for data_list in sample:\n",
    "        for data in data_list:\n",
    "            p.append(data)\n",
    "plt.plot(f, p, 'k')\n",
    "plt.title('MZI Layout Aware Monte Carlo')\n",
    "plt.show()"
   ]
  },
  {
   "cell_type": "code",
   "execution_count": null,
   "metadata": {},
   "outputs": [],
   "source": [
    "# Plot cumulative distribution function\n",
    "import numpy as np\n",
    "\n",
    "# Get maximum P\n",
    "max = []\n",
    "for run in results:\n",
    "    p = []\n",
    "    for sample in run:\n",
    "        for data_list in sample:\n",
    "            for data in data_list:\n",
    "                p.append(data)\n",
    "    max.append(10*np.log10(np.max(p)))\n",
    "#sort data\n",
    "x = np.sort(max)\n",
    "\n",
    "#calculate CDF values\n",
    "y = 1. * np.arange(len(max)) / (len(max) - 1)\n",
    "\n",
    "#plot CDF\n",
    "plt.plot(x, y)\n",
    "plt.xlabel('x')"
   ]
  },
  {
   "cell_type": "code",
   "execution_count": 14,
   "metadata": {},
   "outputs": [],
   "source": [
    "# Read circuit from SPICE file\n",
    "from simphony.formatters import CircuitSiEPICFormatter\n",
    "from simphony.layout import Circuit\n",
    "circuit = Circuit.from_file(\"C:\\\\Users\\\\12269\\\\Documents\\\\GitHub\\\\simphony\\\\simphony\\\\plugins\\\\siepic\\\\tests\\\\spice\\\\MZI4\\\\MZI4_main.spi\", \\\n",
    "    formatter=CircuitSiEPICFormatter())"
   ]
  },
  {
   "cell_type": "code",
   "execution_count": 15,
   "metadata": {},
   "outputs": [],
   "source": [
    "# Add circuit to die\n",
    "from simphony.die import Die\n",
    "die = Die()\n",
    "die.add_components(circuit._get_components())"
   ]
  },
  {
   "cell_type": "code",
   "execution_count": 18,
   "metadata": {},
   "outputs": [
    {
     "name": "stdout",
     "output_type": "stream",
     "text": [
      "0 YBranch component with pins: N$0, N$2, N$1\n",
      "1 GratingCoupler component with pins: ebeam_gc_te1550_detector2, N$0\n",
      "2 Waveguide component with pins: N$1, N$4\n",
      "3 Waveguide component with pins: N$2, N$5\n",
      "4 YBranch component with pins: N$6, N$5, N$4\n",
      "5 GratingCoupler component with pins: ebeam_gc_te1550_laser1, N$3\n",
      "6 Waveguide component with pins: N$6, N$3\n",
      "7 SweepSimulator component with pins: to_input, to_output\n"
     ]
    }
   ],
   "source": [
    "for i, c in enumerate(circuit._get_components()):\n",
    "    print(i, c)"
   ]
  },
  {
   "cell_type": "code",
   "execution_count": 19,
   "metadata": {},
   "outputs": [],
   "source": [
    "circuit._get_components()[5].pins[0].disconnect()"
   ]
  },
  {
   "cell_type": "code",
   "execution_count": null,
   "metadata": {},
   "outputs": [],
   "source": [
    "die.visualize()"
   ]
  },
  {
   "cell_type": "code",
   "execution_count": 21,
   "metadata": {},
   "outputs": [
    {
     "name": "stdout",
     "output_type": "stream",
     "text": [
      "{<simphony.libraries.siepic.YBranch object at 0x000002237FEE6BC0>: {'x': 7.4, 'y': 127.0}, <simphony.libraries.siepic.GratingCoupler object at 0x000002237FC77A60>: {'x': 0.0, 'y': 0.0}, <simphony.libraries.siepic.YBranch object at 0x000002237FD3E710>: {'x': 89.93, 'y': 127.0}, <simphony.libraries.siepic.GratingCoupler object at 0x000002237FD3FF10>: {'x': 0.0, 'y': 0.0}}\n",
      "Unexpected exception formatting exception. Falling back to standard exception\n"
     ]
    },
    {
     "name": "stderr",
     "output_type": "stream",
     "text": [
      "Traceback (most recent call last):\n",
      "  File \"c:\\Users\\12269\\miniconda3\\envs\\test3.10\\lib\\site-packages\\IPython\\core\\interactiveshell.py\", line 3398, in run_code\n",
      "    exec(code_obj, self.user_global_ns, self.user_ns)\n",
      "  File \"C:\\Users\\12269\\AppData\\Local\\Temp\\ipykernel_23224\\3795129841.py\", line 9, in <cell line: 2>\n",
      "    results = sim.layout_aware_simulation()\n",
      "  File \"c:\\Users\\12269\\Documents\\GitHub\\simphony\\simphony\\simulation.py\", line 377, in layout_aware_simulation\n",
      "  File \"c:\\Users\\12269\\Documents\\GitHub\\simphony\\simphony\\simulation.py\", line 273, in _compute_correlated_samples\n",
      "    raise ValueError(\n",
      "ValueError: Incorrect number of component coordinates passed to argument \"coords\".\n",
      "\n",
      "During handling of the above exception, another exception occurred:\n",
      "\n",
      "Traceback (most recent call last):\n",
      "  File \"c:\\Users\\12269\\miniconda3\\envs\\test3.10\\lib\\site-packages\\IPython\\core\\interactiveshell.py\", line 1993, in showtraceback\n",
      "    stb = self.InteractiveTB.structured_traceback(\n",
      "  File \"c:\\Users\\12269\\miniconda3\\envs\\test3.10\\lib\\site-packages\\IPython\\core\\ultratb.py\", line 1118, in structured_traceback\n",
      "    return FormattedTB.structured_traceback(\n",
      "  File \"c:\\Users\\12269\\miniconda3\\envs\\test3.10\\lib\\site-packages\\IPython\\core\\ultratb.py\", line 1012, in structured_traceback\n",
      "    return VerboseTB.structured_traceback(\n",
      "  File \"c:\\Users\\12269\\miniconda3\\envs\\test3.10\\lib\\site-packages\\IPython\\core\\ultratb.py\", line 865, in structured_traceback\n",
      "    formatted_exception = self.format_exception_as_a_whole(etype, evalue, etb, number_of_lines_of_context,\n",
      "  File \"c:\\Users\\12269\\miniconda3\\envs\\test3.10\\lib\\site-packages\\IPython\\core\\ultratb.py\", line 818, in format_exception_as_a_whole\n",
      "    frames.append(self.format_record(r))\n",
      "  File \"c:\\Users\\12269\\miniconda3\\envs\\test3.10\\lib\\site-packages\\IPython\\core\\ultratb.py\", line 736, in format_record\n",
      "    result += ''.join(_format_traceback_lines(frame_info.lines, Colors, self.has_colors, lvals))\n",
      "  File \"c:\\Users\\12269\\miniconda3\\envs\\test3.10\\lib\\site-packages\\stack_data\\utils.py\", line 145, in cached_property_wrapper\n",
      "    value = obj.__dict__[self.func.__name__] = self.func(obj)\n",
      "  File \"c:\\Users\\12269\\miniconda3\\envs\\test3.10\\lib\\site-packages\\stack_data\\core.py\", line 698, in lines\n",
      "    pieces = self.included_pieces\n",
      "  File \"c:\\Users\\12269\\miniconda3\\envs\\test3.10\\lib\\site-packages\\stack_data\\utils.py\", line 145, in cached_property_wrapper\n",
      "    value = obj.__dict__[self.func.__name__] = self.func(obj)\n",
      "  File \"c:\\Users\\12269\\miniconda3\\envs\\test3.10\\lib\\site-packages\\stack_data\\core.py\", line 649, in included_pieces\n",
      "    pos = scope_pieces.index(self.executing_piece)\n",
      "  File \"c:\\Users\\12269\\miniconda3\\envs\\test3.10\\lib\\site-packages\\stack_data\\utils.py\", line 145, in cached_property_wrapper\n",
      "    value = obj.__dict__[self.func.__name__] = self.func(obj)\n",
      "  File \"c:\\Users\\12269\\miniconda3\\envs\\test3.10\\lib\\site-packages\\stack_data\\core.py\", line 628, in executing_piece\n",
      "    return only(\n",
      "  File \"c:\\Users\\12269\\miniconda3\\envs\\test3.10\\lib\\site-packages\\executing\\executing.py\", line 164, in only\n",
      "    raise NotOneValueFound('Expected one value, found 0')\n",
      "executing.executing.NotOneValueFound: Expected one value, found 0\n"
     ]
    }
   ],
   "source": [
    "# Run the layout aware monte carlo computation\n",
    "with Simulation() as sim:\n",
    "    l = Laser(power=1)\n",
    "    l.freqsweep(187370000000000.0, 199862000000000.0)\n",
    "    l.connect(circuit._get_components()[1])\n",
    "    d = Detector()\n",
    "    d.connect(circuit._get_components()[5])\n",
    "\n",
    "    results = sim.layout_aware_simulation()"
   ]
  },
  {
   "cell_type": "code",
   "execution_count": null,
   "metadata": {},
   "outputs": [],
   "source": [
    "f = l.freqs\n",
    "for run in results:\n",
    "    p = []\n",
    "    for sample in run:\n",
    "        for data_list in sample:\n",
    "            for data in data_list:\n",
    "                p.append(data)\n",
    "    plt.plot(f, p)\n",
    "\n",
    "run = results[0]\n",
    "p = []\n",
    "for sample in run:\n",
    "    for data_list in sample:\n",
    "        for data in data_list:\n",
    "            p.append(data)\n",
    "plt.plot(f, p, 'k')\n",
    "plt.title('MZI Layout Aware Monte Carlo')\n",
    "plt.show()"
   ]
  }
 ],
 "metadata": {
  "kernelspec": {
   "display_name": "Python 3.10.5 ('test3.10')",
   "language": "python",
   "name": "python3"
  },
  "language_info": {
   "codemirror_mode": {
    "name": "ipython",
    "version": 3
   },
   "file_extension": ".py",
   "mimetype": "text/x-python",
   "name": "python",
   "nbconvert_exporter": "python",
   "pygments_lexer": "ipython3",
   "version": "3.10.5"
  },
  "orig_nbformat": 4,
  "vscode": {
   "interpreter": {
    "hash": "c80e4749c35143c4c3e5daa9d62544398e68878a67697704e5b3cd008836ea91"
   }
  }
 },
 "nbformat": 4,
 "nbformat_minor": 2
}
