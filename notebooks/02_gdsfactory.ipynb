{
 "cells": [
  {
   "cell_type": "code",
   "execution_count": null,
   "metadata": {},
   "outputs": [],
   "source": [
    "\n",
    "import pp\n",
    "from simphony.library.gdsfactory import load\n",
    "from simphony.library.gdsfactory import plot_sparameters\n",
    "\n",
    "\n",
    "def coupler_ring(c=pp.c.coupler_ring, **kwargs):\n",
    "    m = load(c, **kwargs)\n",
    "    return m\n",
    "\n",
    "c = coupler_ring()\n",
    "plot_sparameters(c)\n",
    "# c = sweep_simulation(c)"
   ]
  }
 ],
 "metadata": {},
 "nbformat": 4,
 "nbformat_minor": 2
}
