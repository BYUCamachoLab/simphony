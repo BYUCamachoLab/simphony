{
 "cells": [
  {
   "cell_type": "code",
   "execution_count": null,
   "metadata": {},
   "outputs": [],
   "source": [
    "\n",
    "import pp\n",
    "from simphony.library.gdsfactory import load\n",
    "from simphony.library.gdsfactory import sweep_simulation\n",
    "from simphony.library import siepic\n",
    "\n",
    "import matplotlib.pyplot as plt\n",
    "import numpy as np\n",
    "\n",
    "c = siepic.ebeam_dc_halfring_straight(\n",
    "        gap=200e-9,\n",
    "        radius=10e-6,\n",
    "        width=500e-9,\n",
    "        thickness=220e-9,\n",
    "        couple_length=0.0)\n",
    "\n",
    "wav = np.linspace(1520, 1570, 1024) * 1e-9\n",
    "f = 3e8 / wav\n",
    "s = c.s_parameters(freq=f)\n",
    "\n",
    "plt.plot(wav, np.abs(s[:, 1] ** 2))\n",
    "print(c.pins)\n",
    "plt.legend()\n",
    "plt.show()\n"
   ]
  }
 ],
 "metadata": {},
 "nbformat": 4,
 "nbformat_minor": 2
}
