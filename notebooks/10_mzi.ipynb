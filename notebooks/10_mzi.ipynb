{
 "cells": [
  {
   "cell_type": "markdown",
   "metadata": {},
   "source": [
    "# Circuit simulations\n",
    "\n",
    "Simphony can also concatenate several components into more complex circuits"
   ]
  },
  {
   "cell_type": "code",
   "execution_count": null,
   "metadata": {},
   "outputs": [],
   "source": [
    "import pp\n",
    "import matplotlib.pyplot as plt\n",
    "\n",
    "from simphony.library.gdsfactory import mzi\n",
    "from simphony.library.gdsfactory import add_gc\n",
    "from simphony.library.gdsfactory import mmi1x2\n",
    "from simphony.library.gdsfactory import sweep_simulation\n",
    "from simphony.library.gdsfactory import sweep_simulation_montecarlo\n",
    "\n",
    "circuit = mzi(L0=1, L1=100, L2=10, y_model_factory=mmi1x2)\n",
    "\n",
    "sweep_simulation(\n",
    "    circuit,\n",
    "    iport=\"input\",\n",
    "    oport=\"output\",\n",
    "    start=1500e-9,\n",
    "    stop=1600e-9,\n",
    "    logscale=True,\n",
    ")"
   ]
  },
  {
   "cell_type": "code",
   "execution_count": null,
   "metadata": {},
   "outputs": [],
   "source": [
    "\n",
    "circuit_gc = add_gc(circuit)\n",
    "\n",
    "sweep_simulation(\n",
    "    circuit_gc,\n",
    "    iport=\"input\",\n",
    "    oport=\"output\",\n",
    "    start=1500e-9,\n",
    "    stop=1600e-9,\n",
    "    logscale=True,\n",
    ")"
   ]
  },
  {
   "cell_type": "markdown",
   "metadata": {},
   "source": [
    "# Montecarlo variation\n",
    "\n",
    "We can also account for montecarlo variations of the circuits"
   ]
  },
  {
   "cell_type": "code",
   "execution_count": null,
   "metadata": {},
   "outputs": [],
   "source": [
    "sweep_simulation_montecarlo(\n",
    "    circuit_gc,\n",
    "    iport=\"input\",\n",
    "    oport=\"output\",\n",
    "    start=1500e-9,\n",
    "    stop=1600e-9,\n",
    "    logscale=True,\n",
    "    runs=10\n",
    ")"
   ]
  }
 ],
 "metadata": {},
 "nbformat": 4,
 "nbformat_minor": 2
}
