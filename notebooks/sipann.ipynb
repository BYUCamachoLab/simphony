{
 "cells": [
  {
   "cell_type": "code",
   "execution_count": null,
   "metadata": {},
   "outputs": [],
   "source": [
    "import numpy as np\n",
    "import simphony.core as core\n",
    "import simphony.errors as errors\n",
    "import simphony.DeviceLibrary.ebeam as dev\n",
    "import simphony.DeviceLibrary.sipann as sipann\n",
    "import simphony.simulation as sim\n",
    "\n",
    "import matplotlib.pyplot as plt\n",
    "from scipy import special\n",
    "import dill"
   ]
  },
  {
   "cell_type": "code",
   "execution_count": null,
   "metadata": {},
   "outputs": [],
   "source": [
    "def bezier(x,b):\n",
    "    def bernstein(n, j, t):\n",
    "        return special.binom(n, j) * t ** j * (1 - t) ** (n - j)\n",
    "    n = len(x)-1\n",
    "    return {'g': x,\n",
    "            'w': b,\n",
    "            'f': lambda t: np.sum(np.array([(x[j])*bernstein(n,j,t/b) for j in range(len(x))]),axis=0),\n",
    "            'df': lambda t: np.sum(np.array([n*(x[j]/2)*(bernstein(n-1,j-1,t/b)-bernstein(n-1,j,t/b)) for j in range(len(x))]),axis=0)/b,\n",
    "            'd2f': lambda t: np.sum(np.array([n*(n-1)*(x[j]/2)*(bernstein(n-2,j-2,t/b)-2*bernstein(n-2,j-1,t/b)+bernstein(n-2,j,t/b)) for j in range(len(x))]),axis=0)/b**2}"
   ]
  },
  {
   "cell_type": "markdown",
   "metadata": {},
   "source": [
    "## Get the Ports of Crossover"
   ]
  },
  {
   "cell_type": "code",
   "execution_count": null,
   "metadata": {},
   "outputs": [],
   "source": [
    "dc = core.ComponentInstance(sipann.sipann_dc_crossover1550)\n",
    "wg = core.ComponentInstance(dev.ebeam_wg_integral_1550)\n",
    "\n",
    "c1 = [dc]\n",
    "p1 = [1]\n",
    "c2 = [wg]\n",
    "p2 = [0]\n",
    "\n",
    "con = zip(c1, p1, c2, p2)\n",
    "\n",
    "nl = core.Netlist()\n",
    "nl.load(con, formatter='ll')\n",
    "simu = sim.Simulation(nl, num=30)\n",
    "\n",
    "freq = simu.freq_array\n",
    "sparams = simu.s_parameters()\n",
    "\n",
    "\n",
    "plt.figure(figsize=(15,10))\n",
    "plt.plot(freq, np.abs(sparams[:,0,1])**2, label='t')\n",
    "plt.plot(freq, np.abs(sparams[:,0,2])**2, label='k')\n",
    "c = 299792458\n",
    "plt.axvline(c / 1550e-9, label='1550nm')\n",
    "plt.legend(loc='upper right')\n",
    "plt.show()"
   ]
  },
  {
   "cell_type": "markdown",
   "metadata": {},
   "source": [
    "## Get the Through Port of a Racetrack Resonator using SiPANN and Simphony"
   ]
  },
  {
   "cell_type": "code",
   "execution_count": null,
   "metadata": {},
   "outputs": [],
   "source": [
    "radius = 12\n",
    "length = 4.5\n",
    "\n",
    "bottom = core.ComponentInstance(sipann.sipann_dc_halfracetrack, extras=\n",
    "                                {'radius': radius, 'length': length, 'gap': 0.3})\n",
    "\n",
    "top    = core.ComponentInstance(sipann.sipann_dc_halfracetrack, extras=\n",
    "                                {'radius': radius, 'length': length, 'gap': 0.3})\n",
    "\n",
    "c1 = [bottom, bottom]\n",
    "p1 = [1, 3]\n",
    "c2 = [top, top]\n",
    "p2 = [1, 3]\n",
    "\n",
    "con = zip(c1, p1, c2, p2)\n",
    "\n",
    "nl = core.Netlist()\n",
    "nl.load(con, formatter='ll')\n",
    "simu = sim.Simulation(nl)\n",
    "\n",
    "freq = simu.freq_array\n",
    "sparams = simu.s_parameters()\n",
    "\n",
    "\n",
    "plt.figure(figsize=(15,10))\n",
    "plt.plot(freq, np.abs(sparams[:,0,2]))\n",
    "plt.show()"
   ]
  },
  {
   "cell_type": "markdown",
   "metadata": {},
   "source": [
    "## Get the Ports of a 10/90 Optimized Directional Coupler\n",
    "\n",
    "Note: This one may take a while to run."
   ]
  },
  {
   "cell_type": "code",
   "execution_count": null,
   "metadata": {},
   "outputs": [],
   "source": [
    "with open('dc.pkl', 'rb') as handle:\n",
    "    dic = dill.load(handle)\n",
    "\n",
    "pts = dic['g']\n",
    "zmin = 0\n",
    "zmax = dic['w']\n",
    "dic = bezier(pts, zmax)\n",
    "gap = dic['f']\n",
    "dgap = dic['df']\n",
    "\n",
    "\n",
    "dc = core.ComponentInstance(sipann.sipann_dc_arbitrarysym, extras=\n",
    "                            {'gap': gap, 'dgap': dgap, 'zmin': zmin, 'zmax': zmax})\n",
    "wg = core.ComponentInstance(dev.ebeam_wg_integral_1550)\n",
    "\n",
    "c1 = [dc]\n",
    "p1 = [1]\n",
    "c2 = [wg]\n",
    "p2 = [0]\n",
    "\n",
    "con = zip(c1, p1, c2, p2)\n",
    "\n",
    "nl = core.Netlist()\n",
    "nl.load(con, formatter='ll')\n",
    "simu = sim.Simulation(nl, num=30)\n",
    "\n",
    "freq = simu.freq_array\n",
    "sparams = simu.s_parameters()\n",
    "\n",
    "\n",
    "plt.figure(figsize=(15,10))\n",
    "plt.plot(freq, np.abs(sparams[:,0,1])**2, label='t')\n",
    "plt.plot(freq, np.abs(sparams[:,0,2])**2, label='k')\n",
    "plt.legend(loc='upper right')\n",
    "plt.show()"
   ]
  },
  {
   "cell_type": "code",
   "execution_count": null,
   "metadata": {},
   "outputs": [],
   "source": []
  }
 ],
 "metadata": {
  "kernelspec": {
   "display_name": "Python 3",
   "language": "python",
   "name": "python3"
  },
  "language_info": {
   "codemirror_mode": {
    "name": "ipython",
    "version": 3
   },
   "file_extension": ".py",
   "mimetype": "text/x-python",
   "name": "python",
   "nbconvert_exporter": "python",
   "pygments_lexer": "ipython3",
   "version": "3.6.9"
  }
 },
 "nbformat": 4,
 "nbformat_minor": 4
}
