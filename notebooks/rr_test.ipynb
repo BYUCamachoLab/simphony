{
 "cells": [
  {
   "cell_type": "code",
   "execution_count": null,
   "metadata": {},
   "outputs": [],
   "source": [
    "import matplotlib.pyplot as plt\n",
    "import matplotlib.gridspec as gridspec\n",
    "import numpy as np\n",
    "\n",
    "from simphony.library import ebeam\n",
    "from simphony.netlist import Subcircuit\n",
    "from simphony.simulation import SweepSimulation\n",
    "from simphony.tools import freq2wl"
   ]
  },
  {
   "cell_type": "code",
   "execution_count": null,
   "metadata": {},
   "outputs": [],
   "source": [
    "from simphony.tools import freq2wl, wl2freq"
   ]
  },
  {
   "cell_type": "code",
   "execution_count": null,
   "metadata": {},
   "outputs": [],
   "source": [
    "# Have a main data line where frequency multiplexed data enters the circuit.\n",
    "wg_data = ebeam.ebeam_wg_integral_1550(100e-6)\n",
    "\n",
    "# A terminator for dispersing unused light\n",
    "term = ebeam.ebeam_terminator_te1550()\n",
    "\n",
    "def ring_factory(radius):\n",
    "    \"\"\"\n",
    "    Creates a full ring (with terminator) from a half ring.\n",
    "\n",
    "    Ports of a half ring are ordered like so:\n",
    "    2           4\n",
    "     |         |\n",
    "      \\       /\n",
    "       \\     /\n",
    "     ---=====---\n",
    "    1           3\n",
    "\n",
    "    Resulting pins are ('in', 'out', 'pass').\n",
    "\n",
    "    Parameters\n",
    "    ----------\n",
    "    radius : float\n",
    "        The radius of the ring resonator, in microns.\n",
    "    \"\"\"\n",
    "    # Have rings for selecting out frequencies from the data line.\n",
    "    half_ring = sipann.sipann_scee_halfring(radius=radius)\n",
    "\n",
    "    circuit = Subcircuit()\n",
    "    circuit.add([\n",
    "        (half_ring, 'input'),\n",
    "        (half_ring, 'output'),\n",
    "        (term, 'terminator')\n",
    "    ])\n",
    "\n",
    "    circuit.elements['input'].pins = ('pass', 'midb', 'in', 'midt')\n",
    "    circuit.elements['output'].pins = ('out', 'midt', 'term', 'midb')\n",
    "    \n",
    "    circuit.connect_many([\n",
    "        ('input', 'midb', 'output', 'midb'),\n",
    "        ('input', 'midt', 'output', 'midt'),\n",
    "        ('terminator', 'n1', 'output', 'term')\n",
    "    ])\n",
    "\n",
    "    return circuit"
   ]
  },
  {
   "cell_type": "code",
   "execution_count": null,
   "metadata": {},
   "outputs": [],
   "source": [
    "# Behold, we can run a simulation on a single ring resonator.\n",
    "cir1 = ring_factory(10)\n",
    "sim1 = SweepSimulation(cir1, 1525e-9, 1575e-9)\n",
    "res1 = sim1.simulate()\n",
    "\n",
    "f1, s = res1.data(res1.pinlist['in'], res1.pinlist['pass'])\n",
    "plt.plot(f1, s)\n",
    "plt.title(\"10-micron Ring Resonator\")\n",
    "plt.tight_layout()\n",
    "plt.show()"
   ]
  },
  {
   "cell_type": "code",
   "execution_count": null,
   "metadata": {},
   "outputs": [],
   "source": []
  }
 ],
 "metadata": {
  "kernelspec": {
   "display_name": "Python 3",
   "language": "python",
   "name": "python3"
  },
  "language_info": {
   "codemirror_mode": {
    "name": "ipython",
    "version": 3
   },
   "file_extension": ".py",
   "mimetype": "text/x-python",
   "name": "python",
   "nbconvert_exporter": "python",
   "pygments_lexer": "ipython3",
   "version": "3.7.6"
  }
 },
 "nbformat": 4,
 "nbformat_minor": 4
}
