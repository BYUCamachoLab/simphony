{
 "cells": [
  {
   "cell_type": "code",
   "execution_count": 2,
   "id": "ec7a1a69",
   "metadata": {},
   "outputs": [
    {
     "ename": "ImportError",
     "evalue": "cannot import name 'pole_residue_to_time_system' from 'simphony.time_domain.utils' (c:\\Users\\Owner\\time_domain_work\\simphony\\simphony\\time_domain\\utils.py)",
     "output_type": "error",
     "traceback": [
      "\u001b[31m---------------------------------------------------------------------------\u001b[39m",
      "\u001b[31mImportError\u001b[39m                               Traceback (most recent call last)",
      "\u001b[36mCell\u001b[39m\u001b[36m \u001b[39m\u001b[32mIn[2]\u001b[39m\u001b[32m, line 12\u001b[39m\n\u001b[32m     10\u001b[39m \u001b[38;5;28;01mfrom\u001b[39;00m\u001b[38;5;250m \u001b[39m\u001b[34;01msimphony\u001b[39;00m\u001b[34;01m.\u001b[39;00m\u001b[34;01mtime_domain\u001b[39;00m\u001b[34;01m.\u001b[39;00m\u001b[34;01mutils\u001b[39;00m\u001b[38;5;250m \u001b[39m\u001b[38;5;28;01mimport\u001b[39;00m gaussian_pulse\n\u001b[32m     11\u001b[39m \u001b[38;5;28;01mfrom\u001b[39;00m\u001b[38;5;250m \u001b[39m\u001b[34;01msimphony\u001b[39;00m\u001b[34;01m.\u001b[39;00m\u001b[34;01mtime_domain\u001b[39;00m\u001b[34;01m.\u001b[39;00m\u001b[34;01mpole_residue_model\u001b[39;00m\u001b[38;5;250m \u001b[39m\u001b[38;5;28;01mimport\u001b[39;00m IIRModelBaseband\n\u001b[32m---> \u001b[39m\u001b[32m12\u001b[39m \u001b[38;5;28;01mfrom\u001b[39;00m\u001b[38;5;250m \u001b[39m\u001b[34;01msimphony\u001b[39;00m\u001b[34;01m.\u001b[39;00m\u001b[34;01mtime_domain\u001b[39;00m\u001b[34;01m.\u001b[39;00m\u001b[34;01mutils\u001b[39;00m\u001b[38;5;250m \u001b[39m\u001b[38;5;28;01mimport\u001b[39;00m pole_residue_to_time_system\n",
      "\u001b[31mImportError\u001b[39m: cannot import name 'pole_residue_to_time_system' from 'simphony.time_domain.utils' (c:\\Users\\Owner\\time_domain_work\\simphony\\simphony\\time_domain\\utils.py)"
     ]
    }
   ],
   "source": [
    "import numpy as np\n",
    "import matplotlib.pyplot as plt\n",
    "import sax\n",
    "import jax.numpy as jnp\n",
    "from jax import config\n",
    "config.update(\"jax_enable_x64\", True)\n",
    "\n",
    "from simphony.libraries import ideal\n",
    "from simphony.utils import dict_to_matrix\n",
    "from simphony.time_domain.utils import gaussian_pulse\n",
    "from simphony.time_domain.pole_residue_model import IIRModelBaseband\n",
    "from simphony.time_domain.utils import pole_residue_to_time_system\n"
   ]
  },
  {
   "cell_type": "code",
   "execution_count": null,
   "id": "ac3844af",
   "metadata": {},
   "outputs": [],
   "source": [
    "\n",
    "netlist = {\n",
    "    \"instances\": {\n",
    "        \"wg\": \"waveguide\",\n",
    "        \"hr\": \"half_ring\",\n",
    "    },\n",
    "    \"connections\": {\n",
    "        \"hr,o2\": \"wg,o0\",\n",
    "        \"hr,o3\": \"wg,o1\",\n",
    "    },\n",
    "    \"ports\": {\n",
    "        \"o0\": \"hr,o0\",\n",
    "        \"o1\": \"hr,o1\",\n",
    "    }\n",
    "}\n",
    "\n",
    "circuit, info = sax.circuit(\n",
    "    netlist=netlist,\n",
    "    models={\n",
    "        \"waveguide\": ideal.waveguide,\n",
    "        \"half_ring\": ideal.coupler,\n",
    "    }\n",
    ")\n"
   ]
  },
  {
   "cell_type": "code",
   "execution_count": null,
   "id": "f8771f30",
   "metadata": {},
   "outputs": [],
   "source": [
    "\n",
    "num_measurements = 200\n",
    "model_order = 50\n",
    "center_wvl = 1.548  # Center wavelength (µm)\n",
    "wvl = np.linspace(1.5, 1.6, num_measurements)  # Wavelength range (µm)\n",
    "\n",
    "# Perform simulation\n",
    "s = circuit(wl=wvl, wg={\"length\": 77.0, \"loss\": 100})\n",
    "S = np.asarray(dict_to_matrix(s))  # Convert the result to a matrix\n",
    "model = IIRModelBaseband(wvl, center_wvl, S, model_order)\n"
   ]
  },
  {
   "cell_type": "code",
   "execution_count": null,
   "id": "e56f71ff",
   "metadata": {},
   "outputs": [],
   "source": [
    "\n",
    "N = int(1000)  # Number of time steps\n",
    "T = 4e-11      # Total time duration (40 ps)\n",
    "t = jnp.linspace(0, T, N)  # Time array\n",
    "t0 = T/2 - 5e-12  # Pulse start time\n",
    "std = 1e-12       # Pulse standard deviation\n",
    "\n",
    "# Define input signals\n",
    "impulse_pass = {\n",
    "    'o0': gaussian_pulse(t, t0 - 0.5 * t0, std),\n",
    "    'o1': jnp.zeros_like(t)\n",
    "}\n",
    "\n",
    "# Convert frequency domain model to a time-domain system\n",
    "tsys = pole_residue_to_time_system(model)\n"
   ]
  },
  {
   "cell_type": "code",
   "execution_count": null,
   "id": "fbcaaba4",
   "metadata": {},
   "outputs": [],
   "source": [
    "\n",
    "# Simulate the system's response to the input signals\n",
    "outputs = tsys.response(impulse_pass)\n",
    "\n",
    "# Create subplots\n",
    "fig, axs = plt.subplots(2, 2, figsize=(10, 10))  # 2 rows, 2 columns\n",
    "\n",
    "# Plot input signals\n",
    "for i in range(2):\n",
    "    axs[i, 0].plot(t, jnp.abs(impulse_pass[f'o{i}'])**2)\n",
    "    axs[i, 0].set_title(f'Input Signal {i+1}')\n",
    "    axs[i, 0].set_xlabel('Time (s)')\n",
    "    axs[i, 0].set_ylabel('Intensity')\n",
    "\n",
    "# Plot output signals\n",
    "for i in range(2):\n",
    "    axs[i, 1].plot(t, jnp.abs(outputs[f'o{i}'])**2)\n",
    "    axs[i, 1].set_title(f'Output Signal {i+1}')\n",
    "    axs[i, 1].set_xlabel('Time (s)')\n",
    "    axs[i, 1].set_ylabel('Intensity')\n",
    "\n",
    "# Adjust layout\n",
    "plt.tight_layout()\n",
    "plt.show()\n"
   ]
  }
 ],
 "metadata": {
  "language_info": {
   "name": "python"
  }
 },
 "nbformat": 4,
 "nbformat_minor": 5
}
